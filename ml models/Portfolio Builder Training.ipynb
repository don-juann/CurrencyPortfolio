{
  "cells": [
    {
      "cell_type": "code",
      "source": [
        "from IPython.display import clear_output"
      ],
      "metadata": {
        "id": "3iBheMBrYsky"
      },
      "execution_count": 1,
      "outputs": []
    },
    {
      "cell_type": "code",
      "source": [
        "!pip install tensorflowjs\n",
        "!pip install TensorFlow==2.15.0\n",
        "!pip install tensorflow-decision-forests==1.8.1\n",
        "clear_output()\n",
        "# Restart session after running this cell [CTRL+M + .]"
      ],
      "metadata": {
        "id": "OgGnsTpVYruF"
      },
      "execution_count": 2,
      "outputs": []
    },
    {
      "cell_type": "code",
      "source": [
        "!python --version\n",
        "# Run all of the cells below using [CTRL + F10]"
      ],
      "metadata": {
        "colab": {
          "base_uri": "https://localhost:8080/"
        },
        "id": "_0xn_d8HiMBA",
        "outputId": "b71a2285-c330-431c-c1ae-1c7ae7d9d0a8"
      },
      "execution_count": 1,
      "outputs": [
        {
          "output_type": "stream",
          "name": "stdout",
          "text": [
            "Python 3.11.12\n"
          ]
        }
      ]
    },
    {
      "cell_type": "markdown",
      "metadata": {
        "id": "GiGzmI7Smvsv"
      },
      "source": [
        "# Abstract"
      ]
    },
    {
      "cell_type": "markdown",
      "metadata": {
        "id": "1UnPygSfv-Fr"
      },
      "source": [
        "TOPIC:\n",
        "\n",
        "**Development of ML model that constructs optimal portfolio for the national currency reserves based on the debasement analysis of world reserve currencies**"
      ]
    },
    {
      "cell_type": "markdown",
      "metadata": {
        "id": "bTcs0peHm9q3"
      },
      "source": [
        "Machine Learning approach (Training a model, evaluating and improving it using various regularization techniques)\n",
        "\n",
        "\n",
        "Goal: Create optimal currency portfolio (create weights and normalize) based on currency data.\n",
        "\n",
        "\n",
        "X input: Inflation rates, Exchange rate, Gold price (not used: Interest rates, Reserve currency status)\n",
        "\n",
        "\n",
        "Y output (evaluation metric): Normalized currency weights based on GDP of leading countries (USD, EUR, JPY, GBP, AUD)"
      ]
    },
    {
      "cell_type": "markdown",
      "metadata": {
        "id": "43rO1u0pvsm0"
      },
      "source": [
        "Dataset sources:\n",
        "\n",
        "https://data.worldbank.org\n",
        "\n",
        "\n",
        "https://datahub.io/core/gold-prices\n",
        "\n",
        "\n",
        "https://www.matteoiacoviello.com/gpr.htm\n",
        "\n",
        "\n",
        "https://data.imf.org/en/datasets/IMF.STA:COFER"
      ]
    },
    {
      "cell_type": "markdown",
      "metadata": {
        "id": "QoY_4VDUAmCh"
      },
      "source": [
        "Machine Learning Project Checklist\n",
        "\n",
        "For guiding through machine learning project. There are eight main steps:\n",
        "\n",
        "1. Frame the problem and look at the big picture.\n",
        "\n",
        "2. Get the data.\n",
        "\n",
        "3. Explore the data to gain insights.\n",
        "\n",
        "4. Prepare the data to better expose the underlying data patterns to machine learning algorithms.\n",
        "\n",
        "5. Explore many different models and shortlist the best ones.\n",
        "\n",
        "6. Fine-tune the models and combine them into a great solution.\n",
        "\n",
        "7. Presenting solution.\n",
        "\n",
        "8. Launch, monitor, and maintain the system."
      ]
    },
    {
      "cell_type": "markdown",
      "metadata": {
        "id": "n1hrssRHvTlg"
      },
      "source": [
        "# 1. Data import"
      ]
    },
    {
      "cell_type": "code",
      "execution_count": 2,
      "metadata": {
        "id": "vpzQ0KebmvBs"
      },
      "outputs": [],
      "source": [
        "import numpy as np\n",
        "import scipy as sp\n",
        "import pandas as pd\n",
        "import seaborn as sns\n",
        "import matplotlib.pyplot as plt"
      ]
    },
    {
      "cell_type": "code",
      "execution_count": 3,
      "metadata": {
        "id": "wNpX1L6c13Cq"
      },
      "outputs": [],
      "source": [
        "annual_gold = pd.read_csv('annual_gold.csv') # Annual gold prices\n",
        "geopolitical_risk = pd.read_excel('geopolitical_risk.xlsx') # Escalation of events such as wars, terrorism and political tensions\n",
        "currency_allocation = pd.read_csv('currency_allocation_y.csv') # Currency Allocation\n",
        "\n",
        "gdp = pd.read_csv('gross_domestic_product.csv', skiprows=4) # Gross domestic product\n",
        "exchange_rate = pd.read_csv('exchange_rate.csv', skiprows=4) # Relative price of one currency expressed in terms of US Dollar\n",
        "inflation_rate = pd.read_csv('inflation_rate.csv', skiprows=4) # Rate of increase in prices over a given period of time\n",
        "# fdi = pd.read_csv('foreign_direct_investments.csv', skiprows=4) # Investment made into business interests located in another country"
      ]
    },
    {
      "cell_type": "markdown",
      "metadata": {
        "id": "HYAjSytxYvpG"
      },
      "source": [
        "# 2. Data preprocessing (By Years)"
      ]
    },
    {
      "cell_type": "code",
      "source": [
        "# Relevant zones for CAD, RMB, EUR, JPY, GBP, USD\n",
        "relevant_countries = ['Canada', 'China', 'Euro area', 'Japan', 'United Kingdom', 'United States']"
      ],
      "metadata": {
        "id": "nLeC8KIMe9Ov"
      },
      "execution_count": 4,
      "outputs": []
    },
    {
      "cell_type": "markdown",
      "metadata": {
        "id": "Vf_ou7AN8GCr"
      },
      "source": [
        "## 2.1 Currency Allocation (y output)"
      ]
    },
    {
      "cell_type": "code",
      "execution_count": 5,
      "metadata": {
        "collapsed": true,
        "id": "wVUJMiOCxd2P",
        "colab": {
          "base_uri": "https://localhost:8080/"
        },
        "outputId": "e1e4a9a0-1227-4bf2-ca8e-5341d0244ee8"
      },
      "outputs": [
        {
          "output_type": "stream",
          "name": "stdout",
          "text": [
            "<class 'pandas.core.frame.DataFrame'>\n",
            "RangeIndex: 6 entries, 0 to 5\n",
            "Data columns (total 35 columns):\n",
            " #   Column                  Non-Null Count  Dtype  \n",
            "---  ------                  --------------  -----  \n",
            " 0   DATASET                 6 non-null      object \n",
            " 1   SERIES_CODE             6 non-null      object \n",
            " 2   OBS_MEASURE             6 non-null      object \n",
            " 3   COUNTRY                 6 non-null      object \n",
            " 4   INDICATOR               6 non-null      object \n",
            " 5   FXR_CURRENCY            6 non-null      object \n",
            " 6   TYPE_OF_TRANSFORMATION  6 non-null      object \n",
            " 7   FREQUENCY               6 non-null      object \n",
            " 8   SCALE                   6 non-null      object \n",
            " 9   1999                    4 non-null      float64\n",
            " 10  2000                    4 non-null      float64\n",
            " 11  2001                    4 non-null      float64\n",
            " 12  2002                    4 non-null      float64\n",
            " 13  2003                    4 non-null      float64\n",
            " 14  2004                    4 non-null      float64\n",
            " 15  2005                    4 non-null      float64\n",
            " 16  2006                    4 non-null      float64\n",
            " 17  2007                    4 non-null      float64\n",
            " 18  2008                    4 non-null      float64\n",
            " 19  2009                    4 non-null      float64\n",
            " 20  2010                    4 non-null      float64\n",
            " 21  2011                    4 non-null      float64\n",
            " 22  2012                    5 non-null      float64\n",
            " 23  2013                    5 non-null      float64\n",
            " 24  2014                    5 non-null      float64\n",
            " 25  2015                    5 non-null      float64\n",
            " 26  2016                    6 non-null      float64\n",
            " 27  2017                    6 non-null      float64\n",
            " 28  2018                    6 non-null      float64\n",
            " 29  2019                    6 non-null      float64\n",
            " 30  2020                    6 non-null      float64\n",
            " 31  2021                    6 non-null      float64\n",
            " 32  2022                    6 non-null      float64\n",
            " 33  2023                    6 non-null      float64\n",
            " 34  2024                    6 non-null      float64\n",
            "dtypes: float64(26), object(9)\n",
            "memory usage: 1.8+ KB\n"
          ]
        }
      ],
      "source": [
        "currency_allocation.info()"
      ]
    },
    {
      "cell_type": "code",
      "source": [
        "print(currency_allocation.head(3))"
      ],
      "metadata": {
        "id": "P4BjoB6khFt6",
        "colab": {
          "base_uri": "https://localhost:8080/"
        },
        "outputId": "05a5dd7c-952e-43c1-aeb6-9bb64588ae32"
      },
      "execution_count": 6,
      "outputs": [
        {
          "output_type": "stream",
          "name": "stdout",
          "text": [
            "                DATASET                  SERIES_CODE OBS_MEASURE COUNTRY  \\\n",
            "0  IMF.STA:COFER(7.0.0)  G001.AFXRA.CI_EUR.SHRO_PT.A   OBS_VALUE   World   \n",
            "1  IMF.STA:COFER(7.0.0)  G001.AFXRA.CI_CNY.SHRO_PT.A   OBS_VALUE   World   \n",
            "2  IMF.STA:COFER(7.0.0)  G001.AFXRA.CI_USD.SHRO_PT.A   OBS_VALUE   World   \n",
            "\n",
            "                             INDICATOR                     FXR_CURRENCY  \\\n",
            "0  Allocated foreign exchange reserves                   Claims in Euro   \n",
            "1  Allocated foreign exchange reserves  Claims in Chinese yuan renminbi   \n",
            "2  Allocated foreign exchange reserves              Claims in US dollar   \n",
            "\n",
            "  TYPE_OF_TRANSFORMATION FREQUENCY  SCALE       1999  ...       2015  \\\n",
            "0                 Shares    Annual  Units  17.898791  ...  19.147866   \n",
            "1                 Shares    Annual  Units        NaN  ...        NaN   \n",
            "2                 Shares    Annual  Units  71.013931  ...  65.748582   \n",
            "\n",
            "        2016       2017       2018       2019       2020       2021  \\\n",
            "0  19.138221  20.168187  20.674362  20.588447  21.294045  20.592717   \n",
            "1   1.078392   1.233170   1.893351   1.937045   2.289213   2.798929   \n",
            "2  65.360312  62.726993  61.761465  60.747716  58.922878  58.798662   \n",
            "\n",
            "        2022       2023       2024  \n",
            "0  20.371275  19.945265  19.830744  \n",
            "1   2.612499   2.289159   2.176405  \n",
            "2  58.516326  58.417104  57.804229  \n",
            "\n",
            "[3 rows x 35 columns]\n"
          ]
        }
      ]
    },
    {
      "cell_type": "code",
      "execution_count": 7,
      "metadata": {
        "id": "IRO_9k91RX2S"
      },
      "outputs": [],
      "source": [
        "# Drop unused columns\n",
        "currency_allocation = currency_allocation.drop(columns=[\n",
        "    'DATASET', 'SERIES_CODE', 'OBS_MEASURE', 'COUNTRY', 'INDICATOR',\n",
        "    'TYPE_OF_TRANSFORMATION', 'FREQUENCY', 'SCALE'\n",
        "])\n",
        "\n",
        "# Rename currencies\n",
        "currency_map = {\n",
        "    \"Claims in Euro\": \"EUR\",\n",
        "    \"Claims in Chinese yuan renminbi\": \"RMB\",\n",
        "    \"Claims in US dollar\": \"USD\",\n",
        "    \"Claims in Pound sterling\": \"GBP\",\n",
        "    \"Claims in Canadian dollar\": \"CAD\",\n",
        "    \"Claims in Japanese yen\": \"JPY\"\n",
        "}\n",
        "currency_allocation[\"FXR_CURRENCY\"] = currency_allocation[\"FXR_CURRENCY\"].replace(currency_map)\n",
        "\n",
        "# Pivot (years become rows, currencies become columns)\n",
        "currency_allocation.set_index(\"FXR_CURRENCY\", inplace=True)\n",
        "currency_allocation = currency_allocation.T  # Now years are index, currency codes are columns\n",
        "\n",
        "# Clean up index and column names\n",
        "currency_allocation.index.name = \"year\"\n",
        "currency_allocation.reset_index(inplace=True)\n",
        "\n",
        "# Convert year column to integer if needed\n",
        "currency_allocation[\"year\"] = currency_allocation[\"year\"].astype(int)\n",
        "\n",
        "# Interpolate CAD and RMB\n",
        "currency_allocation[\"CAD\"] = currency_allocation[\"CAD\"].interpolate().ffill().bfill()\n",
        "currency_allocation[\"RMB\"] = currency_allocation[\"RMB\"].interpolate().ffill().bfill()\n",
        "\n",
        "# Ensure columns are cleanly formatted before dropping\n",
        "currency_allocation = currency_allocation.drop(columns=[\"FXR_CURRENCY\"], errors=\"ignore\")\n",
        "\n",
        "# Reset index\n",
        "currency_allocation.columns.name = None\n",
        "currency_allocation.reset_index(drop=True, inplace=True)\n",
        "\n",
        "# Set period between 1999 - 2023\n",
        "currency_allocation = currency_allocation[currency_allocation['year'] <= 2023]"
      ]
    },
    {
      "cell_type": "code",
      "source": [
        "# Normalizing allocations to add up to 100.0\n",
        "allocation_only = currency_allocation.drop(columns=[\"year\"])\n",
        "currency_allocation = allocation_only.div(allocation_only.sum(axis=1), axis=0) * 100"
      ],
      "metadata": {
        "id": "8aGdSo-3Fllu"
      },
      "execution_count": 8,
      "outputs": []
    },
    {
      "cell_type": "code",
      "execution_count": 9,
      "metadata": {
        "id": "FCXxLEAYRYnR",
        "colab": {
          "base_uri": "https://localhost:8080/"
        },
        "outputId": "b5fc4cd6-80ee-4b80-aefc-bf31a5d2f905"
      },
      "outputs": [
        {
          "output_type": "stream",
          "name": "stdout",
          "text": [
            "         EUR       RMB        USD       GBP       CAD       JPY\n",
            "0  17.778387  1.071138  70.536227  2.867240  1.416152  6.330856\n",
            "1  18.155786  1.070333  70.605861  2.732790  1.415088  6.020142\n",
            "2  19.003015  1.068226  70.843803  2.675592  1.412302  4.997062\n",
            "          EUR       RMB        USD       GBP       CAD       JPY\n",
            "22  21.699481  2.949359  61.958820  5.066731  2.509240  5.816369\n",
            "23  21.595893  2.769549  62.034031  5.194131  2.531305  5.875091\n",
            "24  21.264843  2.440609  62.281976  5.186331  2.759800  6.066440\n"
          ]
        }
      ],
      "source": [
        "# Taking a look at portfolio\n",
        "print(currency_allocation.head(3))\n",
        "print(currency_allocation.tail(3))"
      ]
    },
    {
      "cell_type": "code",
      "source": [
        "print(currency_allocation.sum(axis=1))"
      ],
      "metadata": {
        "id": "_V3cFXqCE7Zu",
        "colab": {
          "base_uri": "https://localhost:8080/"
        },
        "outputId": "5374c7d4-3bc3-40ea-fcda-a28de733bac6"
      },
      "execution_count": 10,
      "outputs": [
        {
          "output_type": "stream",
          "name": "stdout",
          "text": [
            "0     100.0\n",
            "1     100.0\n",
            "2     100.0\n",
            "3     100.0\n",
            "4     100.0\n",
            "5     100.0\n",
            "6     100.0\n",
            "7     100.0\n",
            "8     100.0\n",
            "9     100.0\n",
            "10    100.0\n",
            "11    100.0\n",
            "12    100.0\n",
            "13    100.0\n",
            "14    100.0\n",
            "15    100.0\n",
            "16    100.0\n",
            "17    100.0\n",
            "18    100.0\n",
            "19    100.0\n",
            "20    100.0\n",
            "21    100.0\n",
            "22    100.0\n",
            "23    100.0\n",
            "24    100.0\n",
            "dtype: float64\n"
          ]
        }
      ]
    },
    {
      "cell_type": "markdown",
      "metadata": {
        "id": "t9K1Vf2F9DT6"
      },
      "source": [
        "## 2.2 Gold Price"
      ]
    },
    {
      "cell_type": "code",
      "execution_count": 11,
      "metadata": {
        "id": "_ZUYfBUO9GBO",
        "colab": {
          "base_uri": "https://localhost:8080/"
        },
        "outputId": "e1968513-0a2d-4bf4-f066-efd9e35ca64b"
      },
      "outputs": [
        {
          "output_type": "stream",
          "name": "stdout",
          "text": [
            "<class 'pandas.core.frame.DataFrame'>\n",
            "RangeIndex: 191 entries, 0 to 190\n",
            "Data columns (total 2 columns):\n",
            " #   Column  Non-Null Count  Dtype  \n",
            "---  ------  --------------  -----  \n",
            " 0   Date    191 non-null    int64  \n",
            " 1   Price   191 non-null    float64\n",
            "dtypes: float64(1), int64(1)\n",
            "memory usage: 3.1 KB\n"
          ]
        }
      ],
      "source": [
        "annual_gold.info()"
      ]
    },
    {
      "cell_type": "code",
      "execution_count": 12,
      "metadata": {
        "id": "W8U6Kk4Y9Hvk"
      },
      "outputs": [],
      "source": [
        "# Renaming columns for convenience\n",
        "annual_gold.rename(columns={'Date': 'year', 'Price': 'gold'}, inplace=True)\n",
        "\n",
        "annual_gold.reset_index(drop=True, inplace=True)\n",
        "\n",
        "# Taking data between 1999 and 2023\n",
        "annual_gold = annual_gold[annual_gold['year'] >= 1999]"
      ]
    },
    {
      "cell_type": "code",
      "execution_count": 13,
      "metadata": {
        "id": "aozjxmWO9JCJ",
        "colab": {
          "base_uri": "https://localhost:8080/"
        },
        "outputId": "f98233c9-ea29-4bd2-9af1-a6fac19f4ef9"
      },
      "outputs": [
        {
          "output_type": "stream",
          "name": "stdout",
          "text": [
            "     year     gold\n",
            "166  1999  278.768\n",
            "167  2000  279.032\n",
            "168  2001  270.989\n",
            "     year      gold\n",
            "188  2021  1799.629\n",
            "189  2022  1800.602\n",
            "190  2023  1942.666\n"
          ]
        }
      ],
      "source": [
        "# Taking a look at annual_gold\n",
        "print(annual_gold.head(3))\n",
        "print(annual_gold.tail(3))"
      ]
    },
    {
      "cell_type": "markdown",
      "metadata": {
        "id": "blzihPdE8vvr"
      },
      "source": [
        "## 2.3 Exchange Rate  "
      ]
    },
    {
      "cell_type": "code",
      "execution_count": 14,
      "metadata": {
        "collapsed": true,
        "id": "lX43Nc8b80FP",
        "colab": {
          "base_uri": "https://localhost:8080/"
        },
        "outputId": "ec7f66a1-9889-453b-ae87-d3e04127dd17"
      },
      "outputs": [
        {
          "output_type": "stream",
          "name": "stdout",
          "text": [
            "<class 'pandas.core.frame.DataFrame'>\n",
            "RangeIndex: 266 entries, 0 to 265\n",
            "Data columns (total 69 columns):\n",
            " #   Column          Non-Null Count  Dtype  \n",
            "---  ------          --------------  -----  \n",
            " 0   Country Name    266 non-null    object \n",
            " 1   Country Code    266 non-null    object \n",
            " 2   Indicator Name  266 non-null    object \n",
            " 3   Indicator Code  266 non-null    object \n",
            " 4   1960            158 non-null    float64\n",
            " 5   1961            158 non-null    float64\n",
            " 6   1962            159 non-null    float64\n",
            " 7   1963            160 non-null    float64\n",
            " 8   1964            160 non-null    float64\n",
            " 9   1965            160 non-null    float64\n",
            " 10  1966            163 non-null    float64\n",
            " 11  1967            165 non-null    float64\n",
            " 12  1968            166 non-null    float64\n",
            " 13  1969            166 non-null    float64\n",
            " 14  1970            166 non-null    float64\n",
            " 15  1971            167 non-null    float64\n",
            " 16  1972            168 non-null    float64\n",
            " 17  1973            168 non-null    float64\n",
            " 18  1974            167 non-null    float64\n",
            " 19  1975            165 non-null    float64\n",
            " 20  1976            165 non-null    float64\n",
            " 21  1977            165 non-null    float64\n",
            " 22  1978            165 non-null    float64\n",
            " 23  1979            165 non-null    float64\n",
            " 24  1980            165 non-null    float64\n",
            " 25  1981            165 non-null    float64\n",
            " 26  1982            165 non-null    float64\n",
            " 27  1983            166 non-null    float64\n",
            " 28  1984            165 non-null    float64\n",
            " 29  1985            165 non-null    float64\n",
            " 30  1986            167 non-null    float64\n",
            " 31  1987            167 non-null    float64\n",
            " 32  1988            167 non-null    float64\n",
            " 33  1989            167 non-null    float64\n",
            " 34  1990            167 non-null    float64\n",
            " 35  1991            169 non-null    float64\n",
            " 36  1992            176 non-null    float64\n",
            " 37  1993            182 non-null    float64\n",
            " 38  1994            186 non-null    float64\n",
            " 39  1995            188 non-null    float64\n",
            " 40  1996            190 non-null    float64\n",
            " 41  1997            192 non-null    float64\n",
            " 42  1998            192 non-null    float64\n",
            " 43  1999            183 non-null    float64\n",
            " 44  2000            184 non-null    float64\n",
            " 45  2001            182 non-null    float64\n",
            " 46  2002            182 non-null    float64\n",
            " 47  2003            181 non-null    float64\n",
            " 48  2004            181 non-null    float64\n",
            " 49  2005            183 non-null    float64\n",
            " 50  2006            183 non-null    float64\n",
            " 51  2007            182 non-null    float64\n",
            " 52  2008            180 non-null    float64\n",
            " 53  2009            179 non-null    float64\n",
            " 54  2010            179 non-null    float64\n",
            " 55  2011            181 non-null    float64\n",
            " 56  2012            181 non-null    float64\n",
            " 57  2013            182 non-null    float64\n",
            " 58  2014            181 non-null    float64\n",
            " 59  2015            180 non-null    float64\n",
            " 60  2016            180 non-null    float64\n",
            " 61  2017            178 non-null    float64\n",
            " 62  2018            176 non-null    float64\n",
            " 63  2019            176 non-null    float64\n",
            " 64  2020            177 non-null    float64\n",
            " 65  2021            176 non-null    float64\n",
            " 66  2022            175 non-null    float64\n",
            " 67  2023            169 non-null    float64\n",
            " 68  Unnamed: 68     0 non-null      float64\n",
            "dtypes: float64(65), object(4)\n",
            "memory usage: 143.5+ KB\n",
            "None\n"
          ]
        }
      ],
      "source": [
        "print(exchange_rate.info())"
      ]
    },
    {
      "cell_type": "code",
      "execution_count": 15,
      "metadata": {
        "id": "nMwP6X_B82AW"
      },
      "outputs": [],
      "source": [
        "# Exchange data for CAD, RMB, EUR, JPY, GBP, USD\n",
        "exchange_data = exchange_rate[exchange_rate['Country Name'].isin(relevant_countries)].copy()\n",
        "\n",
        "exchange_data.set_index('Country Name', inplace=True)\n",
        "\n",
        "# Removing unused columns and transposing so years become rows\n",
        "exchange_data.drop(columns=['Country Code', 'Indicator Name', 'Indicator Code', 'Unnamed: 68'], axis=1, inplace=True)\n",
        "exchange_data = exchange_data.T\n",
        "\n",
        "# Renaming columns for convenience\n",
        "exchange_data.columns.name = None\n",
        "exchange_data.reset_index(inplace=True)\n",
        "exchange_data.rename(columns={'Canada': 'CAD_exchange', 'China': 'RMB_exchange', 'Euro area': 'EUR_exchange', 'Japan': 'JPY_exchange',\n",
        "                              'United Kingdom': 'GBP_exchange', 'United States': 'USD_exchange', 'index': 'year'}, inplace=True)\n",
        "\n",
        "# Taking data between 1999 and 2023\n",
        "exchange_data['year'] = exchange_data['year'].astype('int64')\n",
        "exchange_data = exchange_data[exchange_data['year'] >= 1999]"
      ]
    },
    {
      "cell_type": "code",
      "execution_count": 16,
      "metadata": {
        "id": "3LYmxAzb83mS",
        "colab": {
          "base_uri": "https://localhost:8080/"
        },
        "outputId": "ce419f32-b4d8-4503-998b-192d705b722c"
      },
      "outputs": [
        {
          "output_type": "stream",
          "name": "stdout",
          "text": [
            "    year  CAD_exchange  RMB_exchange  EUR_exchange  GBP_exchange  \\\n",
            "61  2021      1.253877      6.448975      0.845494      0.727065   \n",
            "62  2022      1.301555      6.737158      0.949624      0.811302   \n",
            "63  2023      1.349909      7.083998      0.924840      0.804539   \n",
            "\n",
            "    JPY_exchange  USD_exchange  \n",
            "61    109.754324           1.0  \n",
            "62    131.498140           1.0  \n",
            "63    140.491100           1.0  \n"
          ]
        }
      ],
      "source": [
        "# Taking a look at exchange rate\n",
        "print(exchange_data.tail(3))"
      ]
    },
    {
      "cell_type": "markdown",
      "metadata": {
        "id": "cT2bPNTj8J7O"
      },
      "source": [
        "## 2.4 Inflation Rate"
      ]
    },
    {
      "cell_type": "code",
      "execution_count": 17,
      "metadata": {
        "collapsed": true,
        "id": "PBC7vAKxxVsZ",
        "colab": {
          "base_uri": "https://localhost:8080/"
        },
        "outputId": "740e817d-baa6-4640-9b20-408415a80d83"
      },
      "outputs": [
        {
          "output_type": "stream",
          "name": "stdout",
          "text": [
            "<class 'pandas.core.frame.DataFrame'>\n",
            "RangeIndex: 266 entries, 0 to 265\n",
            "Data columns (total 69 columns):\n",
            " #   Column          Non-Null Count  Dtype  \n",
            "---  ------          --------------  -----  \n",
            " 0   Country Name    266 non-null    object \n",
            " 1   Country Code    266 non-null    object \n",
            " 2   Indicator Name  266 non-null    object \n",
            " 3   Indicator Code  266 non-null    object \n",
            " 4   1960            70 non-null     float64\n",
            " 5   1961            72 non-null     float64\n",
            " 6   1962            74 non-null     float64\n",
            " 7   1963            74 non-null     float64\n",
            " 8   1964            79 non-null     float64\n",
            " 9   1965            86 non-null     float64\n",
            " 10  1966            93 non-null     float64\n",
            " 11  1967            99 non-null     float64\n",
            " 12  1968            100 non-null    float64\n",
            " 13  1969            101 non-null    float64\n",
            " 14  1970            107 non-null    float64\n",
            " 15  1971            111 non-null    float64\n",
            " 16  1972            113 non-null    float64\n",
            " 17  1973            116 non-null    float64\n",
            " 18  1974            118 non-null    float64\n",
            " 19  1975            124 non-null    float64\n",
            " 20  1976            126 non-null    float64\n",
            " 21  1977            131 non-null    float64\n",
            " 22  1978            131 non-null    float64\n",
            " 23  1979            126 non-null    float64\n",
            " 24  1980            133 non-null    float64\n",
            " 25  1981            150 non-null    float64\n",
            " 26  1982            151 non-null    float64\n",
            " 27  1983            151 non-null    float64\n",
            " 28  1984            155 non-null    float64\n",
            " 29  1985            156 non-null    float64\n",
            " 30  1986            164 non-null    float64\n",
            " 31  1987            170 non-null    float64\n",
            " 32  1988            170 non-null    float64\n",
            " 33  1989            173 non-null    float64\n",
            " 34  1990            173 non-null    float64\n",
            " 35  1991            179 non-null    float64\n",
            " 36  1992            187 non-null    float64\n",
            " 37  1993            193 non-null    float64\n",
            " 38  1994            198 non-null    float64\n",
            " 39  1995            202 non-null    float64\n",
            " 40  1996            205 non-null    float64\n",
            " 41  1997            205 non-null    float64\n",
            " 42  1998            205 non-null    float64\n",
            " 43  1999            207 non-null    float64\n",
            " 44  2000            211 non-null    float64\n",
            " 45  2001            216 non-null    float64\n",
            " 46  2002            218 non-null    float64\n",
            " 47  2003            221 non-null    float64\n",
            " 48  2004            222 non-null    float64\n",
            " 49  2005            225 non-null    float64\n",
            " 50  2006            228 non-null    float64\n",
            " 51  2007            230 non-null    float64\n",
            " 52  2008            231 non-null    float64\n",
            " 53  2009            234 non-null    float64\n",
            " 54  2010            236 non-null    float64\n",
            " 55  2011            240 non-null    float64\n",
            " 56  2012            239 non-null    float64\n",
            " 57  2013            238 non-null    float64\n",
            " 58  2014            237 non-null    float64\n",
            " 59  2015            236 non-null    float64\n",
            " 60  2016            236 non-null    float64\n",
            " 61  2017            231 non-null    float64\n",
            " 62  2018            228 non-null    float64\n",
            " 63  2019            228 non-null    float64\n",
            " 64  2020            222 non-null    float64\n",
            " 65  2021            222 non-null    float64\n",
            " 66  2022            221 non-null    float64\n",
            " 67  2023            211 non-null    float64\n",
            " 68  Unnamed: 68     0 non-null      float64\n",
            "dtypes: float64(65), object(4)\n",
            "memory usage: 143.5+ KB\n",
            "None\n"
          ]
        }
      ],
      "source": [
        "print(inflation_rate.info())"
      ]
    },
    {
      "cell_type": "code",
      "execution_count": 18,
      "metadata": {
        "id": "WVjBTOfARYw6"
      },
      "outputs": [],
      "source": [
        "# Relevant inflation data for relevant countries\n",
        "inflation_data = inflation_rate[inflation_rate['Country Name'].isin(relevant_countries)].copy()\n",
        "\n",
        "inflation_data.set_index('Country Name', inplace=True)\n",
        "\n",
        "# Removing unused columns and transposing so years become rows\n",
        "inflation_data.drop(columns=['Country Code', 'Indicator Name', 'Indicator Code', 'Unnamed: 68'], axis=1, inplace=True)\n",
        "inflation_data = inflation_data.T\n",
        "\n",
        "# Renaming columns for convinience\n",
        "inflation_data.columns.name = None\n",
        "inflation_data.reset_index(inplace=True)\n",
        "inflation_data.rename(columns={'Canada': 'CAD_inflation', 'China': 'RMB_inflation', 'Euro area': 'EUR_inflation', 'Japan': 'JPY_inflation',\n",
        "                               'United Kingdom': 'GBP_inflation', 'United States': 'USD_inflation', 'index': 'year'}, inplace=True)\n",
        "\n",
        "# Extracting data between 1999 and 2023\n",
        "inflation_data['year'] = inflation_data['year'].astype('int64')\n",
        "inflation_data = inflation_data[inflation_data['year'] >= 1999]"
      ]
    },
    {
      "cell_type": "code",
      "execution_count": 19,
      "metadata": {
        "id": "zEU8xn7GNSam",
        "colab": {
          "base_uri": "https://localhost:8080/"
        },
        "outputId": "d327214d-efc8-4233-b889-9d9a40b7932c"
      },
      "outputs": [
        {
          "output_type": "stream",
          "name": "stdout",
          "text": [
            "    year  CAD_inflation  RMB_inflation  EUR_inflation  GBP_inflation  \\\n",
            "61  2021       3.395193       0.981015       2.486504       2.518371   \n",
            "62  2022       6.802801       1.973576       8.471176       7.922049   \n",
            "63  2023       3.879002       0.234837       5.784316       6.793967   \n",
            "\n",
            "    JPY_inflation  USD_inflation  \n",
            "61      -0.233353       4.697859  \n",
            "62       2.497703       8.002800  \n",
            "63       3.268134       4.116338  \n"
          ]
        }
      ],
      "source": [
        "# Taking a look at inflation data\n",
        "print(inflation_data.tail(3))"
      ]
    },
    {
      "cell_type": "markdown",
      "metadata": {
        "id": "cZO_5_LM_POB"
      },
      "source": [
        "## 2.5 Geopolitical Risk"
      ]
    },
    {
      "cell_type": "code",
      "execution_count": 20,
      "metadata": {
        "id": "2FngfcDfE6DZ",
        "colab": {
          "base_uri": "https://localhost:8080/"
        },
        "outputId": "0a03dc09-d5df-4b05-fca6-7df16e914587"
      },
      "outputs": [
        {
          "output_type": "stream",
          "name": "stdout",
          "text": [
            "<class 'pandas.core.frame.DataFrame'>\n",
            "RangeIndex: 1502 entries, 0 to 1501\n",
            "Columns: 115 entries, month to var_label\n",
            "dtypes: datetime64[ns](1), float64(111), int64(1), object(2)\n",
            "memory usage: 1.3+ MB\n",
            "None\n"
          ]
        }
      ],
      "source": [
        "print(geopolitical_risk.info())"
      ]
    },
    {
      "cell_type": "code",
      "execution_count": 21,
      "metadata": {
        "id": "gtA8PdXj_VAA"
      },
      "outputs": [],
      "source": [
        "# Filter by date\n",
        "geopolitical_risk['month'] = pd.to_datetime(geopolitical_risk['month'])\n",
        "gpr_filtered = geopolitical_risk[(geopolitical_risk['month'] >= '1999-01-01') & (geopolitical_risk['month'] <= '2023-12-01')]\n",
        "\n",
        "# Selecting countries based on codes\n",
        "countries = {\n",
        "    'USA': 'GPRHC_USA',\n",
        "    'UK': 'GPRHC_GBR',\n",
        "    'Canada': 'GPRHC_CAN',\n",
        "    'Japan': 'GPRHC_JPN',\n",
        "    'China': 'GPRHC_CHN'\n",
        "}\n",
        "\n",
        "# Valid Euro Area countries (other Euro Area countries are missing from dataset)\n",
        "valid_euro_countries = {\n",
        "    'Belgium': 'GPRHC_BEL', 'Finland': 'GPRHC_FIN', 'France': 'GPRHC_FRA',\n",
        "    'Germany': 'GPRHC_DEU', 'Italy': 'GPRHC_ITA', 'Netherlands': 'GPRHC_NLD',\n",
        "    'Portugal': 'GPRHC_PRT', 'Spain': 'GPRHC_ESP'\n",
        "}\n",
        "\n",
        "# Select and copy relevant columns\n",
        "selected_columns = ['month'] + list(countries.values()) + list(valid_euro_countries.values())\n",
        "gpr_selected = gpr_filtered[selected_columns].copy()\n",
        "\n",
        "# Compute Euro Area average\n",
        "gpr_selected['Euro Area'] = gpr_selected[list(valid_euro_countries.values())].mean(axis=1)\n",
        "\n",
        "# Rename columns to human-readable names\n",
        "for country, code in countries.items():\n",
        "    gpr_selected[country] = gpr_selected[code]\n",
        "\n",
        "# Prepare final monthly data\n",
        "df_final = gpr_selected[['month', 'Canada', 'China', 'Euro Area', 'Japan', 'UK', 'USA']].copy()\n",
        "\n",
        "# Create a new column for year\n",
        "df_final['year'] = df_final['month'].dt.year\n",
        "\n",
        "# Group by year and calculate the mean for each country\n",
        "geopolitical_risk = df_final.groupby('year')[['Canada', 'China', 'Euro Area', 'Japan', 'UK', 'USA']].mean().reset_index()\n",
        "\n",
        "# Rename columns to currency codes\n",
        "geopolitical_risk.rename(columns={'Canada': 'CAD_risk', 'China': 'RMB_risk', 'Euro Area': 'EUR_risk',\n",
        "                                  'Japan': 'JPY_risk', 'UK': 'GBR_risk', 'USA': 'USD_risk'}, inplace=True)"
      ]
    },
    {
      "cell_type": "code",
      "execution_count": 22,
      "metadata": {
        "id": "AG5J0AiIRdr0",
        "colab": {
          "base_uri": "https://localhost:8080/"
        },
        "outputId": "5682e311-569a-4a7f-8d4d-dd80a33c83a3"
      },
      "outputs": [
        {
          "output_type": "stream",
          "name": "stdout",
          "text": [
            "   year  CAD_risk  RMB_risk  EUR_risk  JPY_risk  GBR_risk  USD_risk\n",
            "0  1999  0.106347  0.438006  0.159533  0.145140   0.49310  1.972042\n",
            "1  2000  0.092338  0.288980  0.083644  0.108697   0.28008  1.546118\n",
            "2  2001  0.166311  0.357744  0.149112  0.259075   0.54749  3.925624\n",
            "    year  CAD_risk  RMB_risk  EUR_risk  JPY_risk  GBR_risk  USD_risk\n",
            "22  2021  0.098135  0.562014  0.144666  0.140980  0.436932  2.107411\n",
            "23  2022  0.300739  1.119953  0.408424  0.417404  1.082489  4.045435\n",
            "24  2023  0.220683  0.994963  0.266116  0.264220  0.818269  3.571373\n"
          ]
        }
      ],
      "source": [
        "# Taking a look at geopolitical risk rates\n",
        "print(geopolitical_risk.head(3))\n",
        "print(geopolitical_risk.tail(3))"
      ]
    },
    {
      "cell_type": "markdown",
      "source": [
        "## 2.6 Gross domestic product (GDP)"
      ],
      "metadata": {
        "id": "FWQmHD91ICP7"
      }
    },
    {
      "cell_type": "code",
      "source": [
        "gdp.info()"
      ],
      "metadata": {
        "id": "CSsr_iRDIB_w",
        "colab": {
          "base_uri": "https://localhost:8080/"
        },
        "collapsed": true,
        "outputId": "a9d06d6d-12ea-498a-95b0-2cb8986aa0d4"
      },
      "execution_count": 23,
      "outputs": [
        {
          "output_type": "stream",
          "name": "stdout",
          "text": [
            "<class 'pandas.core.frame.DataFrame'>\n",
            "RangeIndex: 266 entries, 0 to 265\n",
            "Data columns (total 69 columns):\n",
            " #   Column          Non-Null Count  Dtype  \n",
            "---  ------          --------------  -----  \n",
            " 0   Country Name    266 non-null    object \n",
            " 1   Country Code    266 non-null    object \n",
            " 2   Indicator Name  266 non-null    object \n",
            " 3   Indicator Code  266 non-null    object \n",
            " 4   1960            151 non-null    float64\n",
            " 5   1961            154 non-null    float64\n",
            " 6   1962            157 non-null    float64\n",
            " 7   1963            157 non-null    float64\n",
            " 8   1964            157 non-null    float64\n",
            " 9   1965            163 non-null    float64\n",
            " 10  1966            164 non-null    float64\n",
            " 11  1967            167 non-null    float64\n",
            " 12  1968            168 non-null    float64\n",
            " 13  1969            168 non-null    float64\n",
            " 14  1970            190 non-null    float64\n",
            " 15  1971            191 non-null    float64\n",
            " 16  1972            191 non-null    float64\n",
            " 17  1973            191 non-null    float64\n",
            " 18  1974            191 non-null    float64\n",
            " 19  1975            195 non-null    float64\n",
            " 20  1976            195 non-null    float64\n",
            " 21  1977            198 non-null    float64\n",
            " 22  1978            197 non-null    float64\n",
            " 23  1979            198 non-null    float64\n",
            " 24  1980            208 non-null    float64\n",
            " 25  1981            208 non-null    float64\n",
            " 26  1982            209 non-null    float64\n",
            " 27  1983            209 non-null    float64\n",
            " 28  1984            211 non-null    float64\n",
            " 29  1985            213 non-null    float64\n",
            " 30  1986            213 non-null    float64\n",
            " 31  1987            220 non-null    float64\n",
            " 32  1988            223 non-null    float64\n",
            " 33  1989            223 non-null    float64\n",
            " 34  1990            240 non-null    float64\n",
            " 35  1991            241 non-null    float64\n",
            " 36  1992            242 non-null    float64\n",
            " 37  1993            243 non-null    float64\n",
            " 38  1994            244 non-null    float64\n",
            " 39  1995            247 non-null    float64\n",
            " 40  1996            247 non-null    float64\n",
            " 41  1997            249 non-null    float64\n",
            " 42  1998            250 non-null    float64\n",
            " 43  1999            250 non-null    float64\n",
            " 44  2000            252 non-null    float64\n",
            " 45  2001            253 non-null    float64\n",
            " 46  2002            257 non-null    float64\n",
            " 47  2003            257 non-null    float64\n",
            " 48  2004            257 non-null    float64\n",
            " 49  2005            257 non-null    float64\n",
            " 50  2006            258 non-null    float64\n",
            " 51  2007            258 non-null    float64\n",
            " 52  2008            259 non-null    float64\n",
            " 53  2009            261 non-null    float64\n",
            " 54  2010            261 non-null    float64\n",
            " 55  2011            262 non-null    float64\n",
            " 56  2012            260 non-null    float64\n",
            " 57  2013            260 non-null    float64\n",
            " 58  2014            261 non-null    float64\n",
            " 59  2015            259 non-null    float64\n",
            " 60  2016            258 non-null    float64\n",
            " 61  2017            258 non-null    float64\n",
            " 62  2018            258 non-null    float64\n",
            " 63  2019            258 non-null    float64\n",
            " 64  2020            257 non-null    float64\n",
            " 65  2021            257 non-null    float64\n",
            " 66  2022            254 non-null    float64\n",
            " 67  2023            242 non-null    float64\n",
            " 68  Unnamed: 68     0 non-null      float64\n",
            "dtypes: float64(65), object(4)\n",
            "memory usage: 143.5+ KB\n"
          ]
        }
      ]
    },
    {
      "cell_type": "code",
      "source": [
        "# GDP data for CAD, RMB, EUR, JPY, GBP, USD\n",
        "gdp_data = gdp[gdp['Country Name'].isin(relevant_countries)].copy()\n",
        "gdp_data.set_index('Country Name', inplace=True)\n",
        "\n",
        "# Removing unused columns and transposing so years become rows\n",
        "gdp_data.drop(columns=['Country Code', 'Indicator Name', 'Indicator Code', 'Unnamed: 68'], axis=1, inplace=True)\n",
        "gdp_data = gdp_data.T\n",
        "\n",
        "# Renaming columns for convenience\n",
        "gdp_data.columns.name = None\n",
        "gdp_data.reset_index(inplace=True)\n",
        "gdp_data.rename(columns={'Canada': 'CAD_gdp', 'China': 'RMB_gdp', 'Euro area': 'EUR_gdp', 'Japan': 'JPY_gdp',\n",
        "                              'United Kingdom': 'GBP_gdp', 'United States': 'USD_gdp', 'index': 'year'}, inplace=True)\n",
        "\n",
        "# Taking data between 1999 and 2023\n",
        "gdp_data['year'] = gdp_data['year'].astype('int64')\n",
        "gdp_data = gdp_data[gdp_data['year'] >= 1999]"
      ],
      "metadata": {
        "id": "VwzJ0lyOIV_4"
      },
      "execution_count": 24,
      "outputs": []
    },
    {
      "cell_type": "code",
      "source": [
        "# Taking a look at GDP\n",
        "print(gdp_data.head(3))\n",
        "print(gdp_data.tail(3))"
      ],
      "metadata": {
        "id": "siASP6TjJgqI",
        "colab": {
          "base_uri": "https://localhost:8080/"
        },
        "outputId": "1bd5c7ae-16e6-4d8c-e3eb-5b83803d2161"
      },
      "execution_count": 25,
      "outputs": [
        {
          "output_type": "stream",
          "name": "stdout",
          "text": [
            "    year       CAD_gdp       RMB_gdp       EUR_gdp       GBP_gdp  \\\n",
            "39  1999  6.784122e+11  1.094004e+12  7.148860e+12  1.687830e+12   \n",
            "40  2000  7.447734e+11  1.211332e+12  6.528629e+12  1.665535e+12   \n",
            "41  2001  7.389818e+11  1.339401e+12  6.631899e+12  1.649827e+12   \n",
            "\n",
            "         JPY_gdp       USD_gdp  \n",
            "39  4.635982e+12  9.631172e+12  \n",
            "40  4.968359e+12  1.025095e+13  \n",
            "41  4.374712e+12  1.058193e+13  \n",
            "    year       CAD_gdp       RMB_gdp       EUR_gdp       GBP_gdp  \\\n",
            "61  2021  2.007472e+12  1.782046e+13  1.491774e+13  3.143323e+12   \n",
            "62  2022  2.161483e+12  1.788178e+13  1.445205e+13  3.114042e+12   \n",
            "63  2023  2.142471e+12  1.779478e+13  1.578069e+13  3.380855e+12   \n",
            "\n",
            "         JPY_gdp       USD_gdp  \n",
            "61  5.034621e+12  2.368117e+13  \n",
            "62  4.256411e+12  2.600689e+13  \n",
            "63  4.204495e+12  2.772071e+13  \n"
          ]
        }
      ]
    },
    {
      "cell_type": "markdown",
      "metadata": {
        "id": "eLnIBPRoQrCp"
      },
      "source": [
        "## Foreign Direct Investments (FDI) [NOT USEFUL]"
      ]
    },
    {
      "cell_type": "code",
      "execution_count": 26,
      "metadata": {
        "collapsed": true,
        "id": "idKQuTZVQvyT"
      },
      "outputs": [],
      "source": [
        "# print(fdi.info())"
      ]
    },
    {
      "cell_type": "code",
      "execution_count": 27,
      "metadata": {
        "id": "PWA7OhIpRBCV"
      },
      "outputs": [],
      "source": [
        "# # Foreign direct investments data for relevant countries\n",
        "# fdi_data = fdi[fdi['Country Name'].isin(relevant_countries)].copy()\n",
        "\n",
        "# fdi_data.set_index('Country Name', inplace=True)\n",
        "\n",
        "# # Removing unused columns and transposing so years become rows\n",
        "# fdi_data.drop(columns=['Country Code', 'Indicator Name', 'Indicator Code', 'Unnamed: 68'], axis=1, inplace=True)\n",
        "# fdi_data = fdi_data.T\n",
        "\n",
        "# # Renaming columns for convinience\n",
        "# fdi_data.columns.name = None\n",
        "# fdi_data.reset_index(inplace=True)\n",
        "# fdi_data.rename(columns={'Canada': 'CAD_FDI', 'China': 'RMB_FDI', 'Euro area': 'EUR_FDI', 'Japan': 'JPY_FDI',\n",
        "#                                'United Kingdom': 'GBP_FDI', 'United States': 'USD_FDI', 'index': 'year'}, inplace=True)\n",
        "\n",
        "# # Extracting data between 1999 and 2023\n",
        "# fdi_data['year'] = fdi_data['year'].astype('int64')\n",
        "# fdi_data = fdi_data[fdi_data['year'] >= 1999]"
      ]
    },
    {
      "cell_type": "code",
      "execution_count": 28,
      "metadata": {
        "id": "dB6MlguqRQVZ"
      },
      "outputs": [],
      "source": [
        "# # Taking a look at FDI data\n",
        "# print(fdi_data.tail(3))"
      ]
    },
    {
      "cell_type": "markdown",
      "metadata": {
        "id": "Qx3RuAz89M9H"
      },
      "source": [
        "## Combining Columns"
      ]
    },
    {
      "cell_type": "code",
      "execution_count": 29,
      "metadata": {
        "id": "bU-fqpOeiWFi"
      },
      "outputs": [],
      "source": [
        "X = annual_gold.merge(gdp_data, on='year') \\\n",
        "               .merge(exchange_data, on='year') \\\n",
        "               .merge(inflation_data, on='year') \\\n",
        "               .merge(geopolitical_risk, on='year')\n",
        "\n",
        "X.drop(columns=['year'], inplace=True)"
      ]
    },
    {
      "cell_type": "code",
      "execution_count": 30,
      "metadata": {
        "id": "feRJkbbyxtbW",
        "colab": {
          "base_uri": "https://localhost:8080/"
        },
        "outputId": "dc9a7d16-68f2-45c9-c16e-47d8ae3d8e22"
      },
      "outputs": [
        {
          "output_type": "stream",
          "name": "stdout",
          "text": [
            "      gold       CAD_gdp       RMB_gdp       EUR_gdp       GBP_gdp  \\\n",
            "0  278.768  6.784122e+11  1.094004e+12  7.148860e+12  1.687830e+12   \n",
            "1  279.032  7.447734e+11  1.211332e+12  6.528629e+12  1.665535e+12   \n",
            "2  270.989  7.389818e+11  1.339401e+12  6.631899e+12  1.649827e+12   \n",
            "\n",
            "        JPY_gdp       USD_gdp  CAD_exchange  RMB_exchange  EUR_exchange  ...  \\\n",
            "0  4.635982e+12  9.631172e+12      1.485705      8.278250      0.938283  ...   \n",
            "1  4.968359e+12  1.025095e+13      1.485394      8.278504      1.082705  ...   \n",
            "2  4.374712e+12  1.058193e+13      1.548840      8.277068      1.116533  ...   \n",
            "\n",
            "   EUR_inflation  GBP_inflation  JPY_inflation  USD_inflation  CAD_risk  \\\n",
            "0       1.899114       1.752951      -0.341297       2.188027  0.106347   \n",
            "1       2.947566       1.182956      -0.676579       3.376857  0.092338   \n",
            "2       2.857329       1.532350      -0.740056       2.826171  0.166311   \n",
            "\n",
            "   RMB_risk  EUR_risk  JPY_risk  GBR_risk  USD_risk  \n",
            "0  0.438006  0.159533  0.145140   0.49310  1.972042  \n",
            "1  0.288980  0.083644  0.108697   0.28008  1.546118  \n",
            "2  0.357744  0.149112  0.259075   0.54749  3.925624  \n",
            "\n",
            "[3 rows x 25 columns]\n"
          ]
        }
      ],
      "source": [
        "# Check the DataFrame\n",
        "print(X.head(3))"
      ]
    },
    {
      "cell_type": "code",
      "execution_count": 31,
      "metadata": {
        "id": "334vZLkUALiu",
        "colab": {
          "base_uri": "https://localhost:8080/"
        },
        "outputId": "b9b4c439-05ef-4bf4-9740-9fdd12407970"
      },
      "outputs": [
        {
          "output_type": "stream",
          "name": "stdout",
          "text": [
            "         EUR       RMB        USD       GBP       CAD       JPY\n",
            "0  17.778387  1.071138  70.536227  2.867240  1.416152  6.330856\n",
            "1  18.155786  1.070333  70.605861  2.732790  1.415088  6.020142\n",
            "2  19.003015  1.068226  70.843803  2.675592  1.412302  4.997062\n",
            "\n",
            " - - - - - - - - - - - - - \n",
            "\n",
            "          EUR       RMB        USD       GBP       CAD       JPY\n",
            "22  21.699481  2.949359  61.958820  5.066731  2.509240  5.816369\n",
            "23  21.595893  2.769549  62.034031  5.194131  2.531305  5.875091\n",
            "24  21.264843  2.440609  62.281976  5.186331  2.759800  6.066440\n"
          ]
        }
      ],
      "source": [
        "y = currency_allocation.copy()\n",
        "\n",
        "# Check the DataFrame\n",
        "print(y.head(3))\n",
        "print('\\n - - - - - - - - - - - - - \\n')\n",
        "print(y.tail(3))"
      ]
    },
    {
      "cell_type": "markdown",
      "metadata": {
        "id": "YCvQ-Dh4AWVf"
      },
      "source": [
        "# 3. Splitting Dataset"
      ]
    },
    {
      "cell_type": "code",
      "execution_count": 32,
      "metadata": {
        "id": "0MlJRoM-9seL",
        "colab": {
          "base_uri": "https://localhost:8080/"
        },
        "outputId": "660f3dd3-f56c-4efe-9f10-e9c948852786"
      },
      "outputs": [
        {
          "output_type": "stream",
          "name": "stdout",
          "text": [
            "gold             0\n",
            "CAD_gdp          0\n",
            "RMB_gdp          0\n",
            "EUR_gdp          0\n",
            "GBP_gdp          0\n",
            "JPY_gdp          0\n",
            "USD_gdp          0\n",
            "CAD_exchange     0\n",
            "RMB_exchange     0\n",
            "EUR_exchange     0\n",
            "GBP_exchange     0\n",
            "JPY_exchange     0\n",
            "USD_exchange     0\n",
            "CAD_inflation    0\n",
            "RMB_inflation    0\n",
            "EUR_inflation    0\n",
            "GBP_inflation    0\n",
            "JPY_inflation    0\n",
            "USD_inflation    0\n",
            "CAD_risk         0\n",
            "RMB_risk         0\n",
            "EUR_risk         0\n",
            "JPY_risk         0\n",
            "GBR_risk         0\n",
            "USD_risk         0\n",
            "dtype: int64\n",
            "- - - - - - - - - - - - -\n",
            "EUR    0\n",
            "RMB    0\n",
            "USD    0\n",
            "GBP    0\n",
            "CAD    0\n",
            "JPY    0\n",
            "dtype: int64\n"
          ]
        }
      ],
      "source": [
        "print(X.isnull().sum()) # No missing values for X\n",
        "print('- - - - - - - - - - - - -')\n",
        "print(y.isnull().sum()) # No missing values for y"
      ]
    },
    {
      "cell_type": "code",
      "source": [
        "X.describe()"
      ],
      "metadata": {
        "id": "5omxx5nIPuF1",
        "colab": {
          "base_uri": "https://localhost:8080/",
          "height": 349
        },
        "outputId": "d554f4d2-3a39-4716-9feb-69644d8028f9"
      },
      "execution_count": 33,
      "outputs": [
        {
          "output_type": "execute_result",
          "data": {
            "text/plain": [
              "              gold       CAD_gdp       RMB_gdp       EUR_gdp       GBP_gdp  \\\n",
              "count    25.000000  2.500000e+01  2.500000e+01  2.500000e+01  2.500000e+01   \n",
              "mean   1051.382920  1.471807e+12  8.007896e+12  1.192300e+13  2.600404e+12   \n",
              "std     559.581502  4.467233e+11  5.836601e+12  2.689830e+12  4.880153e+11   \n",
              "min     270.989000  6.784122e+11  1.094004e+12  6.528629e+12  1.649827e+12   \n",
              "25%     444.843000  1.173109e+12  2.285961e+12  1.061183e+13  2.421525e+12   \n",
              "50%    1224.664000  1.556509e+12  7.551546e+12  1.283988e+13  2.696778e+12   \n",
              "75%    1411.462000  1.793327e+12  1.231049e+13  1.368329e+13  2.927911e+12   \n",
              "max    1942.666000  2.161483e+12  1.788178e+13  1.578069e+13  3.380855e+12   \n",
              "\n",
              "            JPY_gdp       USD_gdp  CAD_exchange  RMB_exchange  EUR_exchange  \\\n",
              "count  2.500000e+01  2.500000e+01     25.000000     25.000000     25.000000   \n",
              "mean   4.937879e+12  1.658827e+13      1.253842      7.177168      0.855680   \n",
              "std    5.434019e+11  4.928267e+12      0.171440      0.798528      0.115460   \n",
              "min    4.182846e+12  9.631172e+12      0.989258      6.143434      0.679923   \n",
              "25%    4.579751e+12  1.303920e+13      1.104747      6.615957      0.754309   \n",
              "50%    4.930837e+12  1.559973e+13      1.295818      6.900767      0.846773   \n",
              "75%    5.106679e+12  1.961210e+13      1.341153      8.194317      0.903421   \n",
              "max    6.272363e+12  2.772071e+13      1.570343      8.278504      1.116533   \n",
              "\n",
              "       ...  EUR_inflation  GBP_inflation  JPY_inflation  USD_inflation  \\\n",
              "count  ...      25.000000      25.000000      25.000000      25.000000   \n",
              "mean   ...       2.280629       2.400955       0.290969       2.545932   \n",
              "std    ...       1.846527       1.688898       1.140034       1.627616   \n",
              "min    ...      -0.085207       0.368047      -1.352837      -0.355546   \n",
              "25%    ...       1.375036       1.451120      -0.282946       1.622223   \n",
              "50%    ...       2.216208       2.089136      -0.024996       2.270095   \n",
              "75%    ...       2.720048       2.518371       0.484200       3.225944   \n",
              "max    ...       8.471176       7.922049       3.268134       8.002800   \n",
              "\n",
              "        CAD_risk   RMB_risk   EUR_risk   JPY_risk   GBR_risk   USD_risk  \n",
              "count  25.000000  25.000000  25.000000  25.000000  25.000000  25.000000  \n",
              "mean    0.128123   0.525107   0.171830   0.219861   0.585201   2.897310  \n",
              "std     0.053396   0.213117   0.070111   0.087401   0.191333   0.735665  \n",
              "min     0.050957   0.288980   0.083644   0.108697   0.280080   1.546118  \n",
              "25%     0.095463   0.390707   0.128160   0.145140   0.465380   2.429675  \n",
              "50%     0.109430   0.464452   0.156677   0.188702   0.547490   2.802685  \n",
              "75%     0.155680   0.562014   0.189636   0.259075   0.614515   3.295013  \n",
              "max     0.300739   1.119953   0.408424   0.421856   1.123065   4.678587  \n",
              "\n",
              "[8 rows x 25 columns]"
            ],
            "text/html": [
              "\n",
              "  <div id=\"df-f4e23e77-2a67-4df0-b5be-43515a5746f7\" class=\"colab-df-container\">\n",
              "    <div>\n",
              "<style scoped>\n",
              "    .dataframe tbody tr th:only-of-type {\n",
              "        vertical-align: middle;\n",
              "    }\n",
              "\n",
              "    .dataframe tbody tr th {\n",
              "        vertical-align: top;\n",
              "    }\n",
              "\n",
              "    .dataframe thead th {\n",
              "        text-align: right;\n",
              "    }\n",
              "</style>\n",
              "<table border=\"1\" class=\"dataframe\">\n",
              "  <thead>\n",
              "    <tr style=\"text-align: right;\">\n",
              "      <th></th>\n",
              "      <th>gold</th>\n",
              "      <th>CAD_gdp</th>\n",
              "      <th>RMB_gdp</th>\n",
              "      <th>EUR_gdp</th>\n",
              "      <th>GBP_gdp</th>\n",
              "      <th>JPY_gdp</th>\n",
              "      <th>USD_gdp</th>\n",
              "      <th>CAD_exchange</th>\n",
              "      <th>RMB_exchange</th>\n",
              "      <th>EUR_exchange</th>\n",
              "      <th>...</th>\n",
              "      <th>EUR_inflation</th>\n",
              "      <th>GBP_inflation</th>\n",
              "      <th>JPY_inflation</th>\n",
              "      <th>USD_inflation</th>\n",
              "      <th>CAD_risk</th>\n",
              "      <th>RMB_risk</th>\n",
              "      <th>EUR_risk</th>\n",
              "      <th>JPY_risk</th>\n",
              "      <th>GBR_risk</th>\n",
              "      <th>USD_risk</th>\n",
              "    </tr>\n",
              "  </thead>\n",
              "  <tbody>\n",
              "    <tr>\n",
              "      <th>count</th>\n",
              "      <td>25.000000</td>\n",
              "      <td>2.500000e+01</td>\n",
              "      <td>2.500000e+01</td>\n",
              "      <td>2.500000e+01</td>\n",
              "      <td>2.500000e+01</td>\n",
              "      <td>2.500000e+01</td>\n",
              "      <td>2.500000e+01</td>\n",
              "      <td>25.000000</td>\n",
              "      <td>25.000000</td>\n",
              "      <td>25.000000</td>\n",
              "      <td>...</td>\n",
              "      <td>25.000000</td>\n",
              "      <td>25.000000</td>\n",
              "      <td>25.000000</td>\n",
              "      <td>25.000000</td>\n",
              "      <td>25.000000</td>\n",
              "      <td>25.000000</td>\n",
              "      <td>25.000000</td>\n",
              "      <td>25.000000</td>\n",
              "      <td>25.000000</td>\n",
              "      <td>25.000000</td>\n",
              "    </tr>\n",
              "    <tr>\n",
              "      <th>mean</th>\n",
              "      <td>1051.382920</td>\n",
              "      <td>1.471807e+12</td>\n",
              "      <td>8.007896e+12</td>\n",
              "      <td>1.192300e+13</td>\n",
              "      <td>2.600404e+12</td>\n",
              "      <td>4.937879e+12</td>\n",
              "      <td>1.658827e+13</td>\n",
              "      <td>1.253842</td>\n",
              "      <td>7.177168</td>\n",
              "      <td>0.855680</td>\n",
              "      <td>...</td>\n",
              "      <td>2.280629</td>\n",
              "      <td>2.400955</td>\n",
              "      <td>0.290969</td>\n",
              "      <td>2.545932</td>\n",
              "      <td>0.128123</td>\n",
              "      <td>0.525107</td>\n",
              "      <td>0.171830</td>\n",
              "      <td>0.219861</td>\n",
              "      <td>0.585201</td>\n",
              "      <td>2.897310</td>\n",
              "    </tr>\n",
              "    <tr>\n",
              "      <th>std</th>\n",
              "      <td>559.581502</td>\n",
              "      <td>4.467233e+11</td>\n",
              "      <td>5.836601e+12</td>\n",
              "      <td>2.689830e+12</td>\n",
              "      <td>4.880153e+11</td>\n",
              "      <td>5.434019e+11</td>\n",
              "      <td>4.928267e+12</td>\n",
              "      <td>0.171440</td>\n",
              "      <td>0.798528</td>\n",
              "      <td>0.115460</td>\n",
              "      <td>...</td>\n",
              "      <td>1.846527</td>\n",
              "      <td>1.688898</td>\n",
              "      <td>1.140034</td>\n",
              "      <td>1.627616</td>\n",
              "      <td>0.053396</td>\n",
              "      <td>0.213117</td>\n",
              "      <td>0.070111</td>\n",
              "      <td>0.087401</td>\n",
              "      <td>0.191333</td>\n",
              "      <td>0.735665</td>\n",
              "    </tr>\n",
              "    <tr>\n",
              "      <th>min</th>\n",
              "      <td>270.989000</td>\n",
              "      <td>6.784122e+11</td>\n",
              "      <td>1.094004e+12</td>\n",
              "      <td>6.528629e+12</td>\n",
              "      <td>1.649827e+12</td>\n",
              "      <td>4.182846e+12</td>\n",
              "      <td>9.631172e+12</td>\n",
              "      <td>0.989258</td>\n",
              "      <td>6.143434</td>\n",
              "      <td>0.679923</td>\n",
              "      <td>...</td>\n",
              "      <td>-0.085207</td>\n",
              "      <td>0.368047</td>\n",
              "      <td>-1.352837</td>\n",
              "      <td>-0.355546</td>\n",
              "      <td>0.050957</td>\n",
              "      <td>0.288980</td>\n",
              "      <td>0.083644</td>\n",
              "      <td>0.108697</td>\n",
              "      <td>0.280080</td>\n",
              "      <td>1.546118</td>\n",
              "    </tr>\n",
              "    <tr>\n",
              "      <th>25%</th>\n",
              "      <td>444.843000</td>\n",
              "      <td>1.173109e+12</td>\n",
              "      <td>2.285961e+12</td>\n",
              "      <td>1.061183e+13</td>\n",
              "      <td>2.421525e+12</td>\n",
              "      <td>4.579751e+12</td>\n",
              "      <td>1.303920e+13</td>\n",
              "      <td>1.104747</td>\n",
              "      <td>6.615957</td>\n",
              "      <td>0.754309</td>\n",
              "      <td>...</td>\n",
              "      <td>1.375036</td>\n",
              "      <td>1.451120</td>\n",
              "      <td>-0.282946</td>\n",
              "      <td>1.622223</td>\n",
              "      <td>0.095463</td>\n",
              "      <td>0.390707</td>\n",
              "      <td>0.128160</td>\n",
              "      <td>0.145140</td>\n",
              "      <td>0.465380</td>\n",
              "      <td>2.429675</td>\n",
              "    </tr>\n",
              "    <tr>\n",
              "      <th>50%</th>\n",
              "      <td>1224.664000</td>\n",
              "      <td>1.556509e+12</td>\n",
              "      <td>7.551546e+12</td>\n",
              "      <td>1.283988e+13</td>\n",
              "      <td>2.696778e+12</td>\n",
              "      <td>4.930837e+12</td>\n",
              "      <td>1.559973e+13</td>\n",
              "      <td>1.295818</td>\n",
              "      <td>6.900767</td>\n",
              "      <td>0.846773</td>\n",
              "      <td>...</td>\n",
              "      <td>2.216208</td>\n",
              "      <td>2.089136</td>\n",
              "      <td>-0.024996</td>\n",
              "      <td>2.270095</td>\n",
              "      <td>0.109430</td>\n",
              "      <td>0.464452</td>\n",
              "      <td>0.156677</td>\n",
              "      <td>0.188702</td>\n",
              "      <td>0.547490</td>\n",
              "      <td>2.802685</td>\n",
              "    </tr>\n",
              "    <tr>\n",
              "      <th>75%</th>\n",
              "      <td>1411.462000</td>\n",
              "      <td>1.793327e+12</td>\n",
              "      <td>1.231049e+13</td>\n",
              "      <td>1.368329e+13</td>\n",
              "      <td>2.927911e+12</td>\n",
              "      <td>5.106679e+12</td>\n",
              "      <td>1.961210e+13</td>\n",
              "      <td>1.341153</td>\n",
              "      <td>8.194317</td>\n",
              "      <td>0.903421</td>\n",
              "      <td>...</td>\n",
              "      <td>2.720048</td>\n",
              "      <td>2.518371</td>\n",
              "      <td>0.484200</td>\n",
              "      <td>3.225944</td>\n",
              "      <td>0.155680</td>\n",
              "      <td>0.562014</td>\n",
              "      <td>0.189636</td>\n",
              "      <td>0.259075</td>\n",
              "      <td>0.614515</td>\n",
              "      <td>3.295013</td>\n",
              "    </tr>\n",
              "    <tr>\n",
              "      <th>max</th>\n",
              "      <td>1942.666000</td>\n",
              "      <td>2.161483e+12</td>\n",
              "      <td>1.788178e+13</td>\n",
              "      <td>1.578069e+13</td>\n",
              "      <td>3.380855e+12</td>\n",
              "      <td>6.272363e+12</td>\n",
              "      <td>2.772071e+13</td>\n",
              "      <td>1.570343</td>\n",
              "      <td>8.278504</td>\n",
              "      <td>1.116533</td>\n",
              "      <td>...</td>\n",
              "      <td>8.471176</td>\n",
              "      <td>7.922049</td>\n",
              "      <td>3.268134</td>\n",
              "      <td>8.002800</td>\n",
              "      <td>0.300739</td>\n",
              "      <td>1.119953</td>\n",
              "      <td>0.408424</td>\n",
              "      <td>0.421856</td>\n",
              "      <td>1.123065</td>\n",
              "      <td>4.678587</td>\n",
              "    </tr>\n",
              "  </tbody>\n",
              "</table>\n",
              "<p>8 rows × 25 columns</p>\n",
              "</div>\n",
              "    <div class=\"colab-df-buttons\">\n",
              "\n",
              "  <div class=\"colab-df-container\">\n",
              "    <button class=\"colab-df-convert\" onclick=\"convertToInteractive('df-f4e23e77-2a67-4df0-b5be-43515a5746f7')\"\n",
              "            title=\"Convert this dataframe to an interactive table.\"\n",
              "            style=\"display:none;\">\n",
              "\n",
              "  <svg xmlns=\"http://www.w3.org/2000/svg\" height=\"24px\" viewBox=\"0 -960 960 960\">\n",
              "    <path d=\"M120-120v-720h720v720H120Zm60-500h600v-160H180v160Zm220 220h160v-160H400v160Zm0 220h160v-160H400v160ZM180-400h160v-160H180v160Zm440 0h160v-160H620v160ZM180-180h160v-160H180v160Zm440 0h160v-160H620v160Z\"/>\n",
              "  </svg>\n",
              "    </button>\n",
              "\n",
              "  <style>\n",
              "    .colab-df-container {\n",
              "      display:flex;\n",
              "      gap: 12px;\n",
              "    }\n",
              "\n",
              "    .colab-df-convert {\n",
              "      background-color: #E8F0FE;\n",
              "      border: none;\n",
              "      border-radius: 50%;\n",
              "      cursor: pointer;\n",
              "      display: none;\n",
              "      fill: #1967D2;\n",
              "      height: 32px;\n",
              "      padding: 0 0 0 0;\n",
              "      width: 32px;\n",
              "    }\n",
              "\n",
              "    .colab-df-convert:hover {\n",
              "      background-color: #E2EBFA;\n",
              "      box-shadow: 0px 1px 2px rgba(60, 64, 67, 0.3), 0px 1px 3px 1px rgba(60, 64, 67, 0.15);\n",
              "      fill: #174EA6;\n",
              "    }\n",
              "\n",
              "    .colab-df-buttons div {\n",
              "      margin-bottom: 4px;\n",
              "    }\n",
              "\n",
              "    [theme=dark] .colab-df-convert {\n",
              "      background-color: #3B4455;\n",
              "      fill: #D2E3FC;\n",
              "    }\n",
              "\n",
              "    [theme=dark] .colab-df-convert:hover {\n",
              "      background-color: #434B5C;\n",
              "      box-shadow: 0px 1px 3px 1px rgba(0, 0, 0, 0.15);\n",
              "      filter: drop-shadow(0px 1px 2px rgba(0, 0, 0, 0.3));\n",
              "      fill: #FFFFFF;\n",
              "    }\n",
              "  </style>\n",
              "\n",
              "    <script>\n",
              "      const buttonEl =\n",
              "        document.querySelector('#df-f4e23e77-2a67-4df0-b5be-43515a5746f7 button.colab-df-convert');\n",
              "      buttonEl.style.display =\n",
              "        google.colab.kernel.accessAllowed ? 'block' : 'none';\n",
              "\n",
              "      async function convertToInteractive(key) {\n",
              "        const element = document.querySelector('#df-f4e23e77-2a67-4df0-b5be-43515a5746f7');\n",
              "        const dataTable =\n",
              "          await google.colab.kernel.invokeFunction('convertToInteractive',\n",
              "                                                    [key], {});\n",
              "        if (!dataTable) return;\n",
              "\n",
              "        const docLinkHtml = 'Like what you see? Visit the ' +\n",
              "          '<a target=\"_blank\" href=https://colab.research.google.com/notebooks/data_table.ipynb>data table notebook</a>'\n",
              "          + ' to learn more about interactive tables.';\n",
              "        element.innerHTML = '';\n",
              "        dataTable['output_type'] = 'display_data';\n",
              "        await google.colab.output.renderOutput(dataTable, element);\n",
              "        const docLink = document.createElement('div');\n",
              "        docLink.innerHTML = docLinkHtml;\n",
              "        element.appendChild(docLink);\n",
              "      }\n",
              "    </script>\n",
              "  </div>\n",
              "\n",
              "\n",
              "    <div id=\"df-1fbde659-40ec-478d-bb4e-f3b44d63ac09\">\n",
              "      <button class=\"colab-df-quickchart\" onclick=\"quickchart('df-1fbde659-40ec-478d-bb4e-f3b44d63ac09')\"\n",
              "                title=\"Suggest charts\"\n",
              "                style=\"display:none;\">\n",
              "\n",
              "<svg xmlns=\"http://www.w3.org/2000/svg\" height=\"24px\"viewBox=\"0 0 24 24\"\n",
              "     width=\"24px\">\n",
              "    <g>\n",
              "        <path d=\"M19 3H5c-1.1 0-2 .9-2 2v14c0 1.1.9 2 2 2h14c1.1 0 2-.9 2-2V5c0-1.1-.9-2-2-2zM9 17H7v-7h2v7zm4 0h-2V7h2v10zm4 0h-2v-4h2v4z\"/>\n",
              "    </g>\n",
              "</svg>\n",
              "      </button>\n",
              "\n",
              "<style>\n",
              "  .colab-df-quickchart {\n",
              "      --bg-color: #E8F0FE;\n",
              "      --fill-color: #1967D2;\n",
              "      --hover-bg-color: #E2EBFA;\n",
              "      --hover-fill-color: #174EA6;\n",
              "      --disabled-fill-color: #AAA;\n",
              "      --disabled-bg-color: #DDD;\n",
              "  }\n",
              "\n",
              "  [theme=dark] .colab-df-quickchart {\n",
              "      --bg-color: #3B4455;\n",
              "      --fill-color: #D2E3FC;\n",
              "      --hover-bg-color: #434B5C;\n",
              "      --hover-fill-color: #FFFFFF;\n",
              "      --disabled-bg-color: #3B4455;\n",
              "      --disabled-fill-color: #666;\n",
              "  }\n",
              "\n",
              "  .colab-df-quickchart {\n",
              "    background-color: var(--bg-color);\n",
              "    border: none;\n",
              "    border-radius: 50%;\n",
              "    cursor: pointer;\n",
              "    display: none;\n",
              "    fill: var(--fill-color);\n",
              "    height: 32px;\n",
              "    padding: 0;\n",
              "    width: 32px;\n",
              "  }\n",
              "\n",
              "  .colab-df-quickchart:hover {\n",
              "    background-color: var(--hover-bg-color);\n",
              "    box-shadow: 0 1px 2px rgba(60, 64, 67, 0.3), 0 1px 3px 1px rgba(60, 64, 67, 0.15);\n",
              "    fill: var(--button-hover-fill-color);\n",
              "  }\n",
              "\n",
              "  .colab-df-quickchart-complete:disabled,\n",
              "  .colab-df-quickchart-complete:disabled:hover {\n",
              "    background-color: var(--disabled-bg-color);\n",
              "    fill: var(--disabled-fill-color);\n",
              "    box-shadow: none;\n",
              "  }\n",
              "\n",
              "  .colab-df-spinner {\n",
              "    border: 2px solid var(--fill-color);\n",
              "    border-color: transparent;\n",
              "    border-bottom-color: var(--fill-color);\n",
              "    animation:\n",
              "      spin 1s steps(1) infinite;\n",
              "  }\n",
              "\n",
              "  @keyframes spin {\n",
              "    0% {\n",
              "      border-color: transparent;\n",
              "      border-bottom-color: var(--fill-color);\n",
              "      border-left-color: var(--fill-color);\n",
              "    }\n",
              "    20% {\n",
              "      border-color: transparent;\n",
              "      border-left-color: var(--fill-color);\n",
              "      border-top-color: var(--fill-color);\n",
              "    }\n",
              "    30% {\n",
              "      border-color: transparent;\n",
              "      border-left-color: var(--fill-color);\n",
              "      border-top-color: var(--fill-color);\n",
              "      border-right-color: var(--fill-color);\n",
              "    }\n",
              "    40% {\n",
              "      border-color: transparent;\n",
              "      border-right-color: var(--fill-color);\n",
              "      border-top-color: var(--fill-color);\n",
              "    }\n",
              "    60% {\n",
              "      border-color: transparent;\n",
              "      border-right-color: var(--fill-color);\n",
              "    }\n",
              "    80% {\n",
              "      border-color: transparent;\n",
              "      border-right-color: var(--fill-color);\n",
              "      border-bottom-color: var(--fill-color);\n",
              "    }\n",
              "    90% {\n",
              "      border-color: transparent;\n",
              "      border-bottom-color: var(--fill-color);\n",
              "    }\n",
              "  }\n",
              "</style>\n",
              "\n",
              "      <script>\n",
              "        async function quickchart(key) {\n",
              "          const quickchartButtonEl =\n",
              "            document.querySelector('#' + key + ' button');\n",
              "          quickchartButtonEl.disabled = true;  // To prevent multiple clicks.\n",
              "          quickchartButtonEl.classList.add('colab-df-spinner');\n",
              "          try {\n",
              "            const charts = await google.colab.kernel.invokeFunction(\n",
              "                'suggestCharts', [key], {});\n",
              "          } catch (error) {\n",
              "            console.error('Error during call to suggestCharts:', error);\n",
              "          }\n",
              "          quickchartButtonEl.classList.remove('colab-df-spinner');\n",
              "          quickchartButtonEl.classList.add('colab-df-quickchart-complete');\n",
              "        }\n",
              "        (() => {\n",
              "          let quickchartButtonEl =\n",
              "            document.querySelector('#df-1fbde659-40ec-478d-bb4e-f3b44d63ac09 button');\n",
              "          quickchartButtonEl.style.display =\n",
              "            google.colab.kernel.accessAllowed ? 'block' : 'none';\n",
              "        })();\n",
              "      </script>\n",
              "    </div>\n",
              "\n",
              "    </div>\n",
              "  </div>\n"
            ],
            "application/vnd.google.colaboratory.intrinsic+json": {
              "type": "dataframe"
            }
          },
          "metadata": {},
          "execution_count": 33
        }
      ]
    },
    {
      "cell_type": "code",
      "source": [
        "y.describe()"
      ],
      "metadata": {
        "id": "H64pClfbPv6Q",
        "colab": {
          "base_uri": "https://localhost:8080/",
          "height": 300
        },
        "outputId": "782bd023-11da-4847-b668-847b8634eb75"
      },
      "execution_count": 34,
      "outputs": [
        {
          "output_type": "execute_result",
          "data": {
            "text/plain": [
              "             EUR        RMB        USD        GBP        CAD        JPY\n",
              "count  25.000000  25.000000  25.000000  25.000000  25.000000  25.000000\n",
              "mean   22.857676   1.419077  65.213290   4.128790   1.742511   4.638658\n",
              "std     2.731374   0.606325   2.741689   0.812299   0.415610   1.091236\n",
              "min    17.778387   1.068226  61.799395   2.675592   1.412302   2.916423\n",
              "25%    21.264843   1.072873  63.516610   3.724497   1.418446   3.733401\n",
              "50%    22.333585   1.110553  64.523430   4.210548   1.468264   4.264160\n",
              "75%    25.104340   1.290024  66.158391   4.800340   1.945328   5.816369\n",
              "max    27.838791   2.949359  70.843803   5.194131   2.759800   6.330856"
            ],
            "text/html": [
              "\n",
              "  <div id=\"df-73dbab7a-527d-4696-a14b-1a3878e68a46\" class=\"colab-df-container\">\n",
              "    <div>\n",
              "<style scoped>\n",
              "    .dataframe tbody tr th:only-of-type {\n",
              "        vertical-align: middle;\n",
              "    }\n",
              "\n",
              "    .dataframe tbody tr th {\n",
              "        vertical-align: top;\n",
              "    }\n",
              "\n",
              "    .dataframe thead th {\n",
              "        text-align: right;\n",
              "    }\n",
              "</style>\n",
              "<table border=\"1\" class=\"dataframe\">\n",
              "  <thead>\n",
              "    <tr style=\"text-align: right;\">\n",
              "      <th></th>\n",
              "      <th>EUR</th>\n",
              "      <th>RMB</th>\n",
              "      <th>USD</th>\n",
              "      <th>GBP</th>\n",
              "      <th>CAD</th>\n",
              "      <th>JPY</th>\n",
              "    </tr>\n",
              "  </thead>\n",
              "  <tbody>\n",
              "    <tr>\n",
              "      <th>count</th>\n",
              "      <td>25.000000</td>\n",
              "      <td>25.000000</td>\n",
              "      <td>25.000000</td>\n",
              "      <td>25.000000</td>\n",
              "      <td>25.000000</td>\n",
              "      <td>25.000000</td>\n",
              "    </tr>\n",
              "    <tr>\n",
              "      <th>mean</th>\n",
              "      <td>22.857676</td>\n",
              "      <td>1.419077</td>\n",
              "      <td>65.213290</td>\n",
              "      <td>4.128790</td>\n",
              "      <td>1.742511</td>\n",
              "      <td>4.638658</td>\n",
              "    </tr>\n",
              "    <tr>\n",
              "      <th>std</th>\n",
              "      <td>2.731374</td>\n",
              "      <td>0.606325</td>\n",
              "      <td>2.741689</td>\n",
              "      <td>0.812299</td>\n",
              "      <td>0.415610</td>\n",
              "      <td>1.091236</td>\n",
              "    </tr>\n",
              "    <tr>\n",
              "      <th>min</th>\n",
              "      <td>17.778387</td>\n",
              "      <td>1.068226</td>\n",
              "      <td>61.799395</td>\n",
              "      <td>2.675592</td>\n",
              "      <td>1.412302</td>\n",
              "      <td>2.916423</td>\n",
              "    </tr>\n",
              "    <tr>\n",
              "      <th>25%</th>\n",
              "      <td>21.264843</td>\n",
              "      <td>1.072873</td>\n",
              "      <td>63.516610</td>\n",
              "      <td>3.724497</td>\n",
              "      <td>1.418446</td>\n",
              "      <td>3.733401</td>\n",
              "    </tr>\n",
              "    <tr>\n",
              "      <th>50%</th>\n",
              "      <td>22.333585</td>\n",
              "      <td>1.110553</td>\n",
              "      <td>64.523430</td>\n",
              "      <td>4.210548</td>\n",
              "      <td>1.468264</td>\n",
              "      <td>4.264160</td>\n",
              "    </tr>\n",
              "    <tr>\n",
              "      <th>75%</th>\n",
              "      <td>25.104340</td>\n",
              "      <td>1.290024</td>\n",
              "      <td>66.158391</td>\n",
              "      <td>4.800340</td>\n",
              "      <td>1.945328</td>\n",
              "      <td>5.816369</td>\n",
              "    </tr>\n",
              "    <tr>\n",
              "      <th>max</th>\n",
              "      <td>27.838791</td>\n",
              "      <td>2.949359</td>\n",
              "      <td>70.843803</td>\n",
              "      <td>5.194131</td>\n",
              "      <td>2.759800</td>\n",
              "      <td>6.330856</td>\n",
              "    </tr>\n",
              "  </tbody>\n",
              "</table>\n",
              "</div>\n",
              "    <div class=\"colab-df-buttons\">\n",
              "\n",
              "  <div class=\"colab-df-container\">\n",
              "    <button class=\"colab-df-convert\" onclick=\"convertToInteractive('df-73dbab7a-527d-4696-a14b-1a3878e68a46')\"\n",
              "            title=\"Convert this dataframe to an interactive table.\"\n",
              "            style=\"display:none;\">\n",
              "\n",
              "  <svg xmlns=\"http://www.w3.org/2000/svg\" height=\"24px\" viewBox=\"0 -960 960 960\">\n",
              "    <path d=\"M120-120v-720h720v720H120Zm60-500h600v-160H180v160Zm220 220h160v-160H400v160Zm0 220h160v-160H400v160ZM180-400h160v-160H180v160Zm440 0h160v-160H620v160ZM180-180h160v-160H180v160Zm440 0h160v-160H620v160Z\"/>\n",
              "  </svg>\n",
              "    </button>\n",
              "\n",
              "  <style>\n",
              "    .colab-df-container {\n",
              "      display:flex;\n",
              "      gap: 12px;\n",
              "    }\n",
              "\n",
              "    .colab-df-convert {\n",
              "      background-color: #E8F0FE;\n",
              "      border: none;\n",
              "      border-radius: 50%;\n",
              "      cursor: pointer;\n",
              "      display: none;\n",
              "      fill: #1967D2;\n",
              "      height: 32px;\n",
              "      padding: 0 0 0 0;\n",
              "      width: 32px;\n",
              "    }\n",
              "\n",
              "    .colab-df-convert:hover {\n",
              "      background-color: #E2EBFA;\n",
              "      box-shadow: 0px 1px 2px rgba(60, 64, 67, 0.3), 0px 1px 3px 1px rgba(60, 64, 67, 0.15);\n",
              "      fill: #174EA6;\n",
              "    }\n",
              "\n",
              "    .colab-df-buttons div {\n",
              "      margin-bottom: 4px;\n",
              "    }\n",
              "\n",
              "    [theme=dark] .colab-df-convert {\n",
              "      background-color: #3B4455;\n",
              "      fill: #D2E3FC;\n",
              "    }\n",
              "\n",
              "    [theme=dark] .colab-df-convert:hover {\n",
              "      background-color: #434B5C;\n",
              "      box-shadow: 0px 1px 3px 1px rgba(0, 0, 0, 0.15);\n",
              "      filter: drop-shadow(0px 1px 2px rgba(0, 0, 0, 0.3));\n",
              "      fill: #FFFFFF;\n",
              "    }\n",
              "  </style>\n",
              "\n",
              "    <script>\n",
              "      const buttonEl =\n",
              "        document.querySelector('#df-73dbab7a-527d-4696-a14b-1a3878e68a46 button.colab-df-convert');\n",
              "      buttonEl.style.display =\n",
              "        google.colab.kernel.accessAllowed ? 'block' : 'none';\n",
              "\n",
              "      async function convertToInteractive(key) {\n",
              "        const element = document.querySelector('#df-73dbab7a-527d-4696-a14b-1a3878e68a46');\n",
              "        const dataTable =\n",
              "          await google.colab.kernel.invokeFunction('convertToInteractive',\n",
              "                                                    [key], {});\n",
              "        if (!dataTable) return;\n",
              "\n",
              "        const docLinkHtml = 'Like what you see? Visit the ' +\n",
              "          '<a target=\"_blank\" href=https://colab.research.google.com/notebooks/data_table.ipynb>data table notebook</a>'\n",
              "          + ' to learn more about interactive tables.';\n",
              "        element.innerHTML = '';\n",
              "        dataTable['output_type'] = 'display_data';\n",
              "        await google.colab.output.renderOutput(dataTable, element);\n",
              "        const docLink = document.createElement('div');\n",
              "        docLink.innerHTML = docLinkHtml;\n",
              "        element.appendChild(docLink);\n",
              "      }\n",
              "    </script>\n",
              "  </div>\n",
              "\n",
              "\n",
              "    <div id=\"df-93edf508-47e0-419d-bfd1-1e7b618097fb\">\n",
              "      <button class=\"colab-df-quickchart\" onclick=\"quickchart('df-93edf508-47e0-419d-bfd1-1e7b618097fb')\"\n",
              "                title=\"Suggest charts\"\n",
              "                style=\"display:none;\">\n",
              "\n",
              "<svg xmlns=\"http://www.w3.org/2000/svg\" height=\"24px\"viewBox=\"0 0 24 24\"\n",
              "     width=\"24px\">\n",
              "    <g>\n",
              "        <path d=\"M19 3H5c-1.1 0-2 .9-2 2v14c0 1.1.9 2 2 2h14c1.1 0 2-.9 2-2V5c0-1.1-.9-2-2-2zM9 17H7v-7h2v7zm4 0h-2V7h2v10zm4 0h-2v-4h2v4z\"/>\n",
              "    </g>\n",
              "</svg>\n",
              "      </button>\n",
              "\n",
              "<style>\n",
              "  .colab-df-quickchart {\n",
              "      --bg-color: #E8F0FE;\n",
              "      --fill-color: #1967D2;\n",
              "      --hover-bg-color: #E2EBFA;\n",
              "      --hover-fill-color: #174EA6;\n",
              "      --disabled-fill-color: #AAA;\n",
              "      --disabled-bg-color: #DDD;\n",
              "  }\n",
              "\n",
              "  [theme=dark] .colab-df-quickchart {\n",
              "      --bg-color: #3B4455;\n",
              "      --fill-color: #D2E3FC;\n",
              "      --hover-bg-color: #434B5C;\n",
              "      --hover-fill-color: #FFFFFF;\n",
              "      --disabled-bg-color: #3B4455;\n",
              "      --disabled-fill-color: #666;\n",
              "  }\n",
              "\n",
              "  .colab-df-quickchart {\n",
              "    background-color: var(--bg-color);\n",
              "    border: none;\n",
              "    border-radius: 50%;\n",
              "    cursor: pointer;\n",
              "    display: none;\n",
              "    fill: var(--fill-color);\n",
              "    height: 32px;\n",
              "    padding: 0;\n",
              "    width: 32px;\n",
              "  }\n",
              "\n",
              "  .colab-df-quickchart:hover {\n",
              "    background-color: var(--hover-bg-color);\n",
              "    box-shadow: 0 1px 2px rgba(60, 64, 67, 0.3), 0 1px 3px 1px rgba(60, 64, 67, 0.15);\n",
              "    fill: var(--button-hover-fill-color);\n",
              "  }\n",
              "\n",
              "  .colab-df-quickchart-complete:disabled,\n",
              "  .colab-df-quickchart-complete:disabled:hover {\n",
              "    background-color: var(--disabled-bg-color);\n",
              "    fill: var(--disabled-fill-color);\n",
              "    box-shadow: none;\n",
              "  }\n",
              "\n",
              "  .colab-df-spinner {\n",
              "    border: 2px solid var(--fill-color);\n",
              "    border-color: transparent;\n",
              "    border-bottom-color: var(--fill-color);\n",
              "    animation:\n",
              "      spin 1s steps(1) infinite;\n",
              "  }\n",
              "\n",
              "  @keyframes spin {\n",
              "    0% {\n",
              "      border-color: transparent;\n",
              "      border-bottom-color: var(--fill-color);\n",
              "      border-left-color: var(--fill-color);\n",
              "    }\n",
              "    20% {\n",
              "      border-color: transparent;\n",
              "      border-left-color: var(--fill-color);\n",
              "      border-top-color: var(--fill-color);\n",
              "    }\n",
              "    30% {\n",
              "      border-color: transparent;\n",
              "      border-left-color: var(--fill-color);\n",
              "      border-top-color: var(--fill-color);\n",
              "      border-right-color: var(--fill-color);\n",
              "    }\n",
              "    40% {\n",
              "      border-color: transparent;\n",
              "      border-right-color: var(--fill-color);\n",
              "      border-top-color: var(--fill-color);\n",
              "    }\n",
              "    60% {\n",
              "      border-color: transparent;\n",
              "      border-right-color: var(--fill-color);\n",
              "    }\n",
              "    80% {\n",
              "      border-color: transparent;\n",
              "      border-right-color: var(--fill-color);\n",
              "      border-bottom-color: var(--fill-color);\n",
              "    }\n",
              "    90% {\n",
              "      border-color: transparent;\n",
              "      border-bottom-color: var(--fill-color);\n",
              "    }\n",
              "  }\n",
              "</style>\n",
              "\n",
              "      <script>\n",
              "        async function quickchart(key) {\n",
              "          const quickchartButtonEl =\n",
              "            document.querySelector('#' + key + ' button');\n",
              "          quickchartButtonEl.disabled = true;  // To prevent multiple clicks.\n",
              "          quickchartButtonEl.classList.add('colab-df-spinner');\n",
              "          try {\n",
              "            const charts = await google.colab.kernel.invokeFunction(\n",
              "                'suggestCharts', [key], {});\n",
              "          } catch (error) {\n",
              "            console.error('Error during call to suggestCharts:', error);\n",
              "          }\n",
              "          quickchartButtonEl.classList.remove('colab-df-spinner');\n",
              "          quickchartButtonEl.classList.add('colab-df-quickchart-complete');\n",
              "        }\n",
              "        (() => {\n",
              "          let quickchartButtonEl =\n",
              "            document.querySelector('#df-93edf508-47e0-419d-bfd1-1e7b618097fb button');\n",
              "          quickchartButtonEl.style.display =\n",
              "            google.colab.kernel.accessAllowed ? 'block' : 'none';\n",
              "        })();\n",
              "      </script>\n",
              "    </div>\n",
              "\n",
              "    </div>\n",
              "  </div>\n"
            ],
            "application/vnd.google.colaboratory.intrinsic+json": {
              "type": "dataframe",
              "summary": "{\n  \"name\": \"y\",\n  \"rows\": 8,\n  \"fields\": [\n    {\n      \"column\": \"EUR\",\n      \"properties\": {\n        \"dtype\": \"number\",\n        \"std\": 7.817941183903035,\n        \"min\": 2.731373689210817,\n        \"max\": 27.838791083082228,\n        \"num_unique_values\": 8,\n        \"samples\": [\n          22.857675612513482,\n          22.333585381749714,\n          25.0\n        ],\n        \"semantic_type\": \"\",\n        \"description\": \"\"\n      }\n    },\n    {\n      \"column\": \"RMB\",\n      \"properties\": {\n        \"dtype\": \"number\",\n        \"std\": 8.386611146417893,\n        \"min\": 0.6063248581163015,\n        \"max\": 25.0,\n        \"num_unique_values\": 8,\n        \"samples\": [\n          1.419076711957196,\n          1.1105534381579585,\n          25.0\n        ],\n        \"semantic_type\": \"\",\n        \"description\": \"\"\n      }\n    },\n    {\n      \"column\": \"USD\",\n      \"properties\": {\n        \"dtype\": \"number\",\n        \"std\": 24.695911146761556,\n        \"min\": 2.741688665452105,\n        \"max\": 70.84380279056866,\n        \"num_unique_values\": 8,\n        \"samples\": [\n          65.21328959715261,\n          64.52343041942098,\n          25.0\n        ],\n        \"semantic_type\": \"\",\n        \"description\": \"\"\n      }\n    },\n    {\n      \"column\": \"GBP\",\n      \"properties\": {\n        \"dtype\": \"number\",\n        \"std\": 7.67299181506153,\n        \"min\": 0.8122994126121986,\n        \"max\": 25.0,\n        \"num_unique_values\": 8,\n        \"samples\": [\n          4.128789933494911,\n          4.210548424941283,\n          25.0\n        ],\n        \"semantic_type\": \"\",\n        \"description\": \"\"\n      }\n    },\n    {\n      \"column\": \"CAD\",\n      \"properties\": {\n        \"dtype\": \"number\",\n        \"std\": 8.30067657341422,\n        \"min\": 0.41560978431973045,\n        \"max\": 25.0,\n        \"num_unique_values\": 8,\n        \"samples\": [\n          1.7425105011002453,\n          1.468263535220877,\n          25.0\n        ],\n        \"semantic_type\": \"\",\n        \"description\": \"\"\n      }\n    },\n    {\n      \"column\": \"JPY\",\n      \"properties\": {\n        \"dtype\": \"number\",\n        \"std\": 7.564572993272389,\n        \"min\": 1.0912361199290974,\n        \"max\": 25.0,\n        \"num_unique_values\": 8,\n        \"samples\": [\n          4.638657643781557,\n          4.264160227225432,\n          25.0\n        ],\n        \"semantic_type\": \"\",\n        \"description\": \"\"\n      }\n    }\n  ]\n}"
            }
          },
          "metadata": {},
          "execution_count": 34
        }
      ]
    },
    {
      "cell_type": "code",
      "execution_count": 35,
      "metadata": {
        "id": "nOpve0THAZFp",
        "colab": {
          "base_uri": "https://localhost:8080/"
        },
        "outputId": "d97f995a-e8d0-42ca-c14b-c3c4df487135"
      },
      "outputs": [
        {
          "output_type": "stream",
          "name": "stdout",
          "text": [
            "X_train: (23, 25), y_train: (23, 6)\n",
            "X_test: (2, 25), y_test: (2, 6)\n"
          ]
        }
      ],
      "source": [
        "# Splitting data into training (1999-2020) and testing (2021-2023)sets\n",
        "X_train, X_test, y_train, y_test = X.iloc[:23], X.iloc[23:], y.iloc[:23], y.iloc[23:]\n",
        "print('X_train: {}, y_train: {}'.format(X_train.shape, y_train.shape))\n",
        "print('X_test: {}, y_test: {}'.format(X_test.shape, y_test.shape))"
      ]
    },
    {
      "cell_type": "code",
      "source": [
        "from sklearn.preprocessing import StandardScaler\n",
        "\n",
        "# Scaling using StandardScaler to improve convergence of models\n",
        "x_scaler = StandardScaler()\n",
        "\n",
        "X_train_scaled = x_scaler.fit_transform(X_train)\n",
        "X_test_scaled = x_scaler.transform(X_test)"
      ],
      "metadata": {
        "id": "F1f8NWbSPzgq"
      },
      "execution_count": 36,
      "outputs": []
    },
    {
      "cell_type": "code",
      "source": [
        "X_train_scaled[:3]"
      ],
      "metadata": {
        "id": "dqeh_JC3bAu3",
        "colab": {
          "base_uri": "https://localhost:8080/"
        },
        "outputId": "1ed4ae51-1f76-402a-f98c-666de3233c78"
      },
      "execution_count": 37,
      "outputs": [
        {
          "output_type": "execute_result",
          "data": {
            "text/plain": [
              "array([[-1.36821702, -1.81032351, -1.17895597, -1.75724169, -1.88032036,\n",
              "        -0.71166456, -1.55017531,  1.37177332,  1.33080335,  0.7786657 ,\n",
              "        -0.39340113,  0.57234397,  0.        , -0.27489024, -1.88939914,\n",
              "         0.03679454, -0.27416778, -0.48345897, -0.04648931, -0.29902411,\n",
              "        -0.28665942,  0.04555703, -0.8235174 , -0.38890537, -1.21939222],\n",
              "       [-1.36770196, -1.64670711, -1.1561267 , -1.99963197, -1.92927794,\n",
              "        -0.06077535, -1.39172612,  1.36998324,  1.33111715,  2.03244119,\n",
              "         0.1399813 ,  0.05760653,  0.        ,  1.10658575, -0.92539125,\n",
              "         1.00184505, -0.9944695 , -0.88184486,  1.00881442, -0.70783858,\n",
              "        -1.33344416, -1.60964447, -1.29095935, -1.76171489, -1.83327277],\n",
              "       [-1.38339388, -1.6609866 , -1.13120738, -1.95927319, -1.96376939,\n",
              "        -1.2233072 , -1.30711054,  1.7354948 ,  1.32934444,  2.32611335,\n",
              "         0.55953354,  1.21119858,  0.        ,  0.83393799, -0.72076466,\n",
              "         0.9187864 , -0.55294136, -0.9572688 ,  0.51997992,  1.45095049,\n",
              "        -0.85043674, -0.18173588,  0.63787799, -0.03838493,  1.59628528]])"
            ]
          },
          "metadata": {},
          "execution_count": 37
        }
      ]
    },
    {
      "cell_type": "markdown",
      "metadata": {
        "id": "7PTIaSTqveGH"
      },
      "source": [
        "# 4. Training models\n",
        "\n"
      ]
    },
    {
      "cell_type": "code",
      "execution_count": 38,
      "metadata": {
        "id": "aQhXxSmpQTCd"
      },
      "outputs": [],
      "source": [
        "from sklearn.linear_model import LinearRegression\n",
        "from sklearn.ensemble import RandomForestRegressor\n",
        "from sklearn.ensemble import GradientBoostingRegressor\n",
        "from sklearn.multioutput import MultiOutputRegressor\n",
        "\n",
        "import tensorflow as tf\n",
        "from tensorflow.keras.models import Sequential\n",
        "from tensorflow.keras.optimizers import Adam\n",
        "from tensorflow.keras.losses import KLDivergence\n",
        "from tensorflow.keras.callbacks import EarlyStopping\n",
        "from tensorflow.keras.layers import Input, Dense, Dropout\n",
        "\n",
        "from scipy.special import rel_entr\n",
        "from scipy.spatial.distance import jensenshannon\n",
        "from sklearn.metrics import mean_squared_error\n",
        "from sklearn.metrics.pairwise import cosine_similarity"
      ]
    },
    {
      "cell_type": "markdown",
      "metadata": {
        "id": "7CyQYl1Z4obX"
      },
      "source": [
        "## 4.1 Linear Regression"
      ]
    },
    {
      "cell_type": "code",
      "execution_count": 39,
      "metadata": {
        "id": "svpGseDI4nYH",
        "colab": {
          "base_uri": "https://localhost:8080/",
          "height": 80
        },
        "outputId": "bc81102c-7186-43b2-8069-894da9e58f05"
      },
      "outputs": [
        {
          "output_type": "execute_result",
          "data": {
            "text/plain": [
              "LinearRegression()"
            ],
            "text/html": [
              "<style>#sk-container-id-1 {\n",
              "  /* Definition of color scheme common for light and dark mode */\n",
              "  --sklearn-color-text: #000;\n",
              "  --sklearn-color-text-muted: #666;\n",
              "  --sklearn-color-line: gray;\n",
              "  /* Definition of color scheme for unfitted estimators */\n",
              "  --sklearn-color-unfitted-level-0: #fff5e6;\n",
              "  --sklearn-color-unfitted-level-1: #f6e4d2;\n",
              "  --sklearn-color-unfitted-level-2: #ffe0b3;\n",
              "  --sklearn-color-unfitted-level-3: chocolate;\n",
              "  /* Definition of color scheme for fitted estimators */\n",
              "  --sklearn-color-fitted-level-0: #f0f8ff;\n",
              "  --sklearn-color-fitted-level-1: #d4ebff;\n",
              "  --sklearn-color-fitted-level-2: #b3dbfd;\n",
              "  --sklearn-color-fitted-level-3: cornflowerblue;\n",
              "\n",
              "  /* Specific color for light theme */\n",
              "  --sklearn-color-text-on-default-background: var(--sg-text-color, var(--theme-code-foreground, var(--jp-content-font-color1, black)));\n",
              "  --sklearn-color-background: var(--sg-background-color, var(--theme-background, var(--jp-layout-color0, white)));\n",
              "  --sklearn-color-border-box: var(--sg-text-color, var(--theme-code-foreground, var(--jp-content-font-color1, black)));\n",
              "  --sklearn-color-icon: #696969;\n",
              "\n",
              "  @media (prefers-color-scheme: dark) {\n",
              "    /* Redefinition of color scheme for dark theme */\n",
              "    --sklearn-color-text-on-default-background: var(--sg-text-color, var(--theme-code-foreground, var(--jp-content-font-color1, white)));\n",
              "    --sklearn-color-background: var(--sg-background-color, var(--theme-background, var(--jp-layout-color0, #111)));\n",
              "    --sklearn-color-border-box: var(--sg-text-color, var(--theme-code-foreground, var(--jp-content-font-color1, white)));\n",
              "    --sklearn-color-icon: #878787;\n",
              "  }\n",
              "}\n",
              "\n",
              "#sk-container-id-1 {\n",
              "  color: var(--sklearn-color-text);\n",
              "}\n",
              "\n",
              "#sk-container-id-1 pre {\n",
              "  padding: 0;\n",
              "}\n",
              "\n",
              "#sk-container-id-1 input.sk-hidden--visually {\n",
              "  border: 0;\n",
              "  clip: rect(1px 1px 1px 1px);\n",
              "  clip: rect(1px, 1px, 1px, 1px);\n",
              "  height: 1px;\n",
              "  margin: -1px;\n",
              "  overflow: hidden;\n",
              "  padding: 0;\n",
              "  position: absolute;\n",
              "  width: 1px;\n",
              "}\n",
              "\n",
              "#sk-container-id-1 div.sk-dashed-wrapped {\n",
              "  border: 1px dashed var(--sklearn-color-line);\n",
              "  margin: 0 0.4em 0.5em 0.4em;\n",
              "  box-sizing: border-box;\n",
              "  padding-bottom: 0.4em;\n",
              "  background-color: var(--sklearn-color-background);\n",
              "}\n",
              "\n",
              "#sk-container-id-1 div.sk-container {\n",
              "  /* jupyter's `normalize.less` sets `[hidden] { display: none; }`\n",
              "     but bootstrap.min.css set `[hidden] { display: none !important; }`\n",
              "     so we also need the `!important` here to be able to override the\n",
              "     default hidden behavior on the sphinx rendered scikit-learn.org.\n",
              "     See: https://github.com/scikit-learn/scikit-learn/issues/21755 */\n",
              "  display: inline-block !important;\n",
              "  position: relative;\n",
              "}\n",
              "\n",
              "#sk-container-id-1 div.sk-text-repr-fallback {\n",
              "  display: none;\n",
              "}\n",
              "\n",
              "div.sk-parallel-item,\n",
              "div.sk-serial,\n",
              "div.sk-item {\n",
              "  /* draw centered vertical line to link estimators */\n",
              "  background-image: linear-gradient(var(--sklearn-color-text-on-default-background), var(--sklearn-color-text-on-default-background));\n",
              "  background-size: 2px 100%;\n",
              "  background-repeat: no-repeat;\n",
              "  background-position: center center;\n",
              "}\n",
              "\n",
              "/* Parallel-specific style estimator block */\n",
              "\n",
              "#sk-container-id-1 div.sk-parallel-item::after {\n",
              "  content: \"\";\n",
              "  width: 100%;\n",
              "  border-bottom: 2px solid var(--sklearn-color-text-on-default-background);\n",
              "  flex-grow: 1;\n",
              "}\n",
              "\n",
              "#sk-container-id-1 div.sk-parallel {\n",
              "  display: flex;\n",
              "  align-items: stretch;\n",
              "  justify-content: center;\n",
              "  background-color: var(--sklearn-color-background);\n",
              "  position: relative;\n",
              "}\n",
              "\n",
              "#sk-container-id-1 div.sk-parallel-item {\n",
              "  display: flex;\n",
              "  flex-direction: column;\n",
              "}\n",
              "\n",
              "#sk-container-id-1 div.sk-parallel-item:first-child::after {\n",
              "  align-self: flex-end;\n",
              "  width: 50%;\n",
              "}\n",
              "\n",
              "#sk-container-id-1 div.sk-parallel-item:last-child::after {\n",
              "  align-self: flex-start;\n",
              "  width: 50%;\n",
              "}\n",
              "\n",
              "#sk-container-id-1 div.sk-parallel-item:only-child::after {\n",
              "  width: 0;\n",
              "}\n",
              "\n",
              "/* Serial-specific style estimator block */\n",
              "\n",
              "#sk-container-id-1 div.sk-serial {\n",
              "  display: flex;\n",
              "  flex-direction: column;\n",
              "  align-items: center;\n",
              "  background-color: var(--sklearn-color-background);\n",
              "  padding-right: 1em;\n",
              "  padding-left: 1em;\n",
              "}\n",
              "\n",
              "\n",
              "/* Toggleable style: style used for estimator/Pipeline/ColumnTransformer box that is\n",
              "clickable and can be expanded/collapsed.\n",
              "- Pipeline and ColumnTransformer use this feature and define the default style\n",
              "- Estimators will overwrite some part of the style using the `sk-estimator` class\n",
              "*/\n",
              "\n",
              "/* Pipeline and ColumnTransformer style (default) */\n",
              "\n",
              "#sk-container-id-1 div.sk-toggleable {\n",
              "  /* Default theme specific background. It is overwritten whether we have a\n",
              "  specific estimator or a Pipeline/ColumnTransformer */\n",
              "  background-color: var(--sklearn-color-background);\n",
              "}\n",
              "\n",
              "/* Toggleable label */\n",
              "#sk-container-id-1 label.sk-toggleable__label {\n",
              "  cursor: pointer;\n",
              "  display: flex;\n",
              "  width: 100%;\n",
              "  margin-bottom: 0;\n",
              "  padding: 0.5em;\n",
              "  box-sizing: border-box;\n",
              "  text-align: center;\n",
              "  align-items: start;\n",
              "  justify-content: space-between;\n",
              "  gap: 0.5em;\n",
              "}\n",
              "\n",
              "#sk-container-id-1 label.sk-toggleable__label .caption {\n",
              "  font-size: 0.6rem;\n",
              "  font-weight: lighter;\n",
              "  color: var(--sklearn-color-text-muted);\n",
              "}\n",
              "\n",
              "#sk-container-id-1 label.sk-toggleable__label-arrow:before {\n",
              "  /* Arrow on the left of the label */\n",
              "  content: \"▸\";\n",
              "  float: left;\n",
              "  margin-right: 0.25em;\n",
              "  color: var(--sklearn-color-icon);\n",
              "}\n",
              "\n",
              "#sk-container-id-1 label.sk-toggleable__label-arrow:hover:before {\n",
              "  color: var(--sklearn-color-text);\n",
              "}\n",
              "\n",
              "/* Toggleable content - dropdown */\n",
              "\n",
              "#sk-container-id-1 div.sk-toggleable__content {\n",
              "  max-height: 0;\n",
              "  max-width: 0;\n",
              "  overflow: hidden;\n",
              "  text-align: left;\n",
              "  /* unfitted */\n",
              "  background-color: var(--sklearn-color-unfitted-level-0);\n",
              "}\n",
              "\n",
              "#sk-container-id-1 div.sk-toggleable__content.fitted {\n",
              "  /* fitted */\n",
              "  background-color: var(--sklearn-color-fitted-level-0);\n",
              "}\n",
              "\n",
              "#sk-container-id-1 div.sk-toggleable__content pre {\n",
              "  margin: 0.2em;\n",
              "  border-radius: 0.25em;\n",
              "  color: var(--sklearn-color-text);\n",
              "  /* unfitted */\n",
              "  background-color: var(--sklearn-color-unfitted-level-0);\n",
              "}\n",
              "\n",
              "#sk-container-id-1 div.sk-toggleable__content.fitted pre {\n",
              "  /* unfitted */\n",
              "  background-color: var(--sklearn-color-fitted-level-0);\n",
              "}\n",
              "\n",
              "#sk-container-id-1 input.sk-toggleable__control:checked~div.sk-toggleable__content {\n",
              "  /* Expand drop-down */\n",
              "  max-height: 200px;\n",
              "  max-width: 100%;\n",
              "  overflow: auto;\n",
              "}\n",
              "\n",
              "#sk-container-id-1 input.sk-toggleable__control:checked~label.sk-toggleable__label-arrow:before {\n",
              "  content: \"▾\";\n",
              "}\n",
              "\n",
              "/* Pipeline/ColumnTransformer-specific style */\n",
              "\n",
              "#sk-container-id-1 div.sk-label input.sk-toggleable__control:checked~label.sk-toggleable__label {\n",
              "  color: var(--sklearn-color-text);\n",
              "  background-color: var(--sklearn-color-unfitted-level-2);\n",
              "}\n",
              "\n",
              "#sk-container-id-1 div.sk-label.fitted input.sk-toggleable__control:checked~label.sk-toggleable__label {\n",
              "  background-color: var(--sklearn-color-fitted-level-2);\n",
              "}\n",
              "\n",
              "/* Estimator-specific style */\n",
              "\n",
              "/* Colorize estimator box */\n",
              "#sk-container-id-1 div.sk-estimator input.sk-toggleable__control:checked~label.sk-toggleable__label {\n",
              "  /* unfitted */\n",
              "  background-color: var(--sklearn-color-unfitted-level-2);\n",
              "}\n",
              "\n",
              "#sk-container-id-1 div.sk-estimator.fitted input.sk-toggleable__control:checked~label.sk-toggleable__label {\n",
              "  /* fitted */\n",
              "  background-color: var(--sklearn-color-fitted-level-2);\n",
              "}\n",
              "\n",
              "#sk-container-id-1 div.sk-label label.sk-toggleable__label,\n",
              "#sk-container-id-1 div.sk-label label {\n",
              "  /* The background is the default theme color */\n",
              "  color: var(--sklearn-color-text-on-default-background);\n",
              "}\n",
              "\n",
              "/* On hover, darken the color of the background */\n",
              "#sk-container-id-1 div.sk-label:hover label.sk-toggleable__label {\n",
              "  color: var(--sklearn-color-text);\n",
              "  background-color: var(--sklearn-color-unfitted-level-2);\n",
              "}\n",
              "\n",
              "/* Label box, darken color on hover, fitted */\n",
              "#sk-container-id-1 div.sk-label.fitted:hover label.sk-toggleable__label.fitted {\n",
              "  color: var(--sklearn-color-text);\n",
              "  background-color: var(--sklearn-color-fitted-level-2);\n",
              "}\n",
              "\n",
              "/* Estimator label */\n",
              "\n",
              "#sk-container-id-1 div.sk-label label {\n",
              "  font-family: monospace;\n",
              "  font-weight: bold;\n",
              "  display: inline-block;\n",
              "  line-height: 1.2em;\n",
              "}\n",
              "\n",
              "#sk-container-id-1 div.sk-label-container {\n",
              "  text-align: center;\n",
              "}\n",
              "\n",
              "/* Estimator-specific */\n",
              "#sk-container-id-1 div.sk-estimator {\n",
              "  font-family: monospace;\n",
              "  border: 1px dotted var(--sklearn-color-border-box);\n",
              "  border-radius: 0.25em;\n",
              "  box-sizing: border-box;\n",
              "  margin-bottom: 0.5em;\n",
              "  /* unfitted */\n",
              "  background-color: var(--sklearn-color-unfitted-level-0);\n",
              "}\n",
              "\n",
              "#sk-container-id-1 div.sk-estimator.fitted {\n",
              "  /* fitted */\n",
              "  background-color: var(--sklearn-color-fitted-level-0);\n",
              "}\n",
              "\n",
              "/* on hover */\n",
              "#sk-container-id-1 div.sk-estimator:hover {\n",
              "  /* unfitted */\n",
              "  background-color: var(--sklearn-color-unfitted-level-2);\n",
              "}\n",
              "\n",
              "#sk-container-id-1 div.sk-estimator.fitted:hover {\n",
              "  /* fitted */\n",
              "  background-color: var(--sklearn-color-fitted-level-2);\n",
              "}\n",
              "\n",
              "/* Specification for estimator info (e.g. \"i\" and \"?\") */\n",
              "\n",
              "/* Common style for \"i\" and \"?\" */\n",
              "\n",
              ".sk-estimator-doc-link,\n",
              "a:link.sk-estimator-doc-link,\n",
              "a:visited.sk-estimator-doc-link {\n",
              "  float: right;\n",
              "  font-size: smaller;\n",
              "  line-height: 1em;\n",
              "  font-family: monospace;\n",
              "  background-color: var(--sklearn-color-background);\n",
              "  border-radius: 1em;\n",
              "  height: 1em;\n",
              "  width: 1em;\n",
              "  text-decoration: none !important;\n",
              "  margin-left: 0.5em;\n",
              "  text-align: center;\n",
              "  /* unfitted */\n",
              "  border: var(--sklearn-color-unfitted-level-1) 1pt solid;\n",
              "  color: var(--sklearn-color-unfitted-level-1);\n",
              "}\n",
              "\n",
              ".sk-estimator-doc-link.fitted,\n",
              "a:link.sk-estimator-doc-link.fitted,\n",
              "a:visited.sk-estimator-doc-link.fitted {\n",
              "  /* fitted */\n",
              "  border: var(--sklearn-color-fitted-level-1) 1pt solid;\n",
              "  color: var(--sklearn-color-fitted-level-1);\n",
              "}\n",
              "\n",
              "/* On hover */\n",
              "div.sk-estimator:hover .sk-estimator-doc-link:hover,\n",
              ".sk-estimator-doc-link:hover,\n",
              "div.sk-label-container:hover .sk-estimator-doc-link:hover,\n",
              ".sk-estimator-doc-link:hover {\n",
              "  /* unfitted */\n",
              "  background-color: var(--sklearn-color-unfitted-level-3);\n",
              "  color: var(--sklearn-color-background);\n",
              "  text-decoration: none;\n",
              "}\n",
              "\n",
              "div.sk-estimator.fitted:hover .sk-estimator-doc-link.fitted:hover,\n",
              ".sk-estimator-doc-link.fitted:hover,\n",
              "div.sk-label-container:hover .sk-estimator-doc-link.fitted:hover,\n",
              ".sk-estimator-doc-link.fitted:hover {\n",
              "  /* fitted */\n",
              "  background-color: var(--sklearn-color-fitted-level-3);\n",
              "  color: var(--sklearn-color-background);\n",
              "  text-decoration: none;\n",
              "}\n",
              "\n",
              "/* Span, style for the box shown on hovering the info icon */\n",
              ".sk-estimator-doc-link span {\n",
              "  display: none;\n",
              "  z-index: 9999;\n",
              "  position: relative;\n",
              "  font-weight: normal;\n",
              "  right: .2ex;\n",
              "  padding: .5ex;\n",
              "  margin: .5ex;\n",
              "  width: min-content;\n",
              "  min-width: 20ex;\n",
              "  max-width: 50ex;\n",
              "  color: var(--sklearn-color-text);\n",
              "  box-shadow: 2pt 2pt 4pt #999;\n",
              "  /* unfitted */\n",
              "  background: var(--sklearn-color-unfitted-level-0);\n",
              "  border: .5pt solid var(--sklearn-color-unfitted-level-3);\n",
              "}\n",
              "\n",
              ".sk-estimator-doc-link.fitted span {\n",
              "  /* fitted */\n",
              "  background: var(--sklearn-color-fitted-level-0);\n",
              "  border: var(--sklearn-color-fitted-level-3);\n",
              "}\n",
              "\n",
              ".sk-estimator-doc-link:hover span {\n",
              "  display: block;\n",
              "}\n",
              "\n",
              "/* \"?\"-specific style due to the `<a>` HTML tag */\n",
              "\n",
              "#sk-container-id-1 a.estimator_doc_link {\n",
              "  float: right;\n",
              "  font-size: 1rem;\n",
              "  line-height: 1em;\n",
              "  font-family: monospace;\n",
              "  background-color: var(--sklearn-color-background);\n",
              "  border-radius: 1rem;\n",
              "  height: 1rem;\n",
              "  width: 1rem;\n",
              "  text-decoration: none;\n",
              "  /* unfitted */\n",
              "  color: var(--sklearn-color-unfitted-level-1);\n",
              "  border: var(--sklearn-color-unfitted-level-1) 1pt solid;\n",
              "}\n",
              "\n",
              "#sk-container-id-1 a.estimator_doc_link.fitted {\n",
              "  /* fitted */\n",
              "  border: var(--sklearn-color-fitted-level-1) 1pt solid;\n",
              "  color: var(--sklearn-color-fitted-level-1);\n",
              "}\n",
              "\n",
              "/* On hover */\n",
              "#sk-container-id-1 a.estimator_doc_link:hover {\n",
              "  /* unfitted */\n",
              "  background-color: var(--sklearn-color-unfitted-level-3);\n",
              "  color: var(--sklearn-color-background);\n",
              "  text-decoration: none;\n",
              "}\n",
              "\n",
              "#sk-container-id-1 a.estimator_doc_link.fitted:hover {\n",
              "  /* fitted */\n",
              "  background-color: var(--sklearn-color-fitted-level-3);\n",
              "}\n",
              "</style><div id=\"sk-container-id-1\" class=\"sk-top-container\"><div class=\"sk-text-repr-fallback\"><pre>LinearRegression()</pre><b>In a Jupyter environment, please rerun this cell to show the HTML representation or trust the notebook. <br />On GitHub, the HTML representation is unable to render, please try loading this page with nbviewer.org.</b></div><div class=\"sk-container\" hidden><div class=\"sk-item\"><div class=\"sk-estimator fitted sk-toggleable\"><input class=\"sk-toggleable__control sk-hidden--visually\" id=\"sk-estimator-id-1\" type=\"checkbox\" checked><label for=\"sk-estimator-id-1\" class=\"sk-toggleable__label fitted sk-toggleable__label-arrow\"><div><div>LinearRegression</div></div><div><a class=\"sk-estimator-doc-link fitted\" rel=\"noreferrer\" target=\"_blank\" href=\"https://scikit-learn.org/1.6/modules/generated/sklearn.linear_model.LinearRegression.html\">?<span>Documentation for LinearRegression</span></a><span class=\"sk-estimator-doc-link fitted\">i<span>Fitted</span></span></div></label><div class=\"sk-toggleable__content fitted\"><pre>LinearRegression()</pre></div> </div></div></div></div>"
            ]
          },
          "metadata": {},
          "execution_count": 39
        }
      ],
      "source": [
        "# Training the Linear Regression model\n",
        "lin_reg = LinearRegression()\n",
        "lin_reg.fit(X_train_scaled, y_train)"
      ]
    },
    {
      "cell_type": "code",
      "execution_count": 40,
      "metadata": {
        "id": "FHYxHzw3ksiD"
      },
      "outputs": [],
      "source": [
        "# Make predictions on the test set\n",
        "y_pred_linreg = lin_reg.predict(X_test_scaled)\n",
        "\n",
        "# Normalize the predictions to ensure they sum to 100\n",
        "y_pred_linreg = np.array([pred / np.sum(pred) * 100 for pred in y_pred_linreg])"
      ]
    },
    {
      "cell_type": "code",
      "execution_count": 41,
      "metadata": {
        "id": "pLPF3LPmtdT8",
        "colab": {
          "base_uri": "https://localhost:8080/"
        },
        "outputId": "22a991ec-04e0-413d-9fdf-a95ed111ae2c"
      },
      "outputs": [
        {
          "output_type": "stream",
          "name": "stdout",
          "text": [
            "[100. 100.]\n"
          ]
        }
      ],
      "source": [
        "print(np.sum(y_pred_linreg, axis=1))  # Checking if output ratios add up to 100 as in original y set"
      ]
    },
    {
      "cell_type": "code",
      "execution_count": 42,
      "metadata": {
        "id": "fltMLG48n0UV",
        "colab": {
          "base_uri": "https://localhost:8080/"
        },
        "outputId": "d138ddea-b6e8-43fa-f675-af38dba65401"
      },
      "outputs": [
        {
          "output_type": "stream",
          "name": "stdout",
          "text": [
            "[[46.90888321  1.83020118 40.76832551  5.98928341  2.75878328  1.74452341]\n",
            " [27.7981999   2.37922199 58.00770526  5.88505269  1.55477635  4.37504382]]\n"
          ]
        }
      ],
      "source": [
        "print(y_pred_linreg)"
      ]
    },
    {
      "cell_type": "code",
      "execution_count": 43,
      "metadata": {
        "id": "QqsW-c16sABV",
        "colab": {
          "base_uri": "https://localhost:8080/"
        },
        "outputId": "9cf06001-8813-4c0a-ca90-d180365478fa"
      },
      "outputs": [
        {
          "output_type": "stream",
          "name": "stdout",
          "text": [
            "          EUR       RMB        USD       GBP       CAD       JPY\n",
            "23  21.595893  2.769549  62.034031  5.194131  2.531305  5.875091\n",
            "24  21.264843  2.440609  62.281976  5.186331  2.759800  6.066440\n"
          ]
        }
      ],
      "source": [
        "print(y_test)"
      ]
    },
    {
      "cell_type": "markdown",
      "metadata": {
        "id": "hMC5VNuMRTwR"
      },
      "source": [
        "## 4.2 Random Forest Regressor"
      ]
    },
    {
      "cell_type": "code",
      "execution_count": 44,
      "metadata": {
        "id": "NWHdHs-CRTHN",
        "colab": {
          "base_uri": "https://localhost:8080/",
          "height": 80
        },
        "outputId": "1c756016-9bc7-4cba-c947-500346a2975b"
      },
      "outputs": [
        {
          "output_type": "execute_result",
          "data": {
            "text/plain": [
              "RandomForestRegressor(random_state=42)"
            ],
            "text/html": [
              "<style>#sk-container-id-2 {\n",
              "  /* Definition of color scheme common for light and dark mode */\n",
              "  --sklearn-color-text: #000;\n",
              "  --sklearn-color-text-muted: #666;\n",
              "  --sklearn-color-line: gray;\n",
              "  /* Definition of color scheme for unfitted estimators */\n",
              "  --sklearn-color-unfitted-level-0: #fff5e6;\n",
              "  --sklearn-color-unfitted-level-1: #f6e4d2;\n",
              "  --sklearn-color-unfitted-level-2: #ffe0b3;\n",
              "  --sklearn-color-unfitted-level-3: chocolate;\n",
              "  /* Definition of color scheme for fitted estimators */\n",
              "  --sklearn-color-fitted-level-0: #f0f8ff;\n",
              "  --sklearn-color-fitted-level-1: #d4ebff;\n",
              "  --sklearn-color-fitted-level-2: #b3dbfd;\n",
              "  --sklearn-color-fitted-level-3: cornflowerblue;\n",
              "\n",
              "  /* Specific color for light theme */\n",
              "  --sklearn-color-text-on-default-background: var(--sg-text-color, var(--theme-code-foreground, var(--jp-content-font-color1, black)));\n",
              "  --sklearn-color-background: var(--sg-background-color, var(--theme-background, var(--jp-layout-color0, white)));\n",
              "  --sklearn-color-border-box: var(--sg-text-color, var(--theme-code-foreground, var(--jp-content-font-color1, black)));\n",
              "  --sklearn-color-icon: #696969;\n",
              "\n",
              "  @media (prefers-color-scheme: dark) {\n",
              "    /* Redefinition of color scheme for dark theme */\n",
              "    --sklearn-color-text-on-default-background: var(--sg-text-color, var(--theme-code-foreground, var(--jp-content-font-color1, white)));\n",
              "    --sklearn-color-background: var(--sg-background-color, var(--theme-background, var(--jp-layout-color0, #111)));\n",
              "    --sklearn-color-border-box: var(--sg-text-color, var(--theme-code-foreground, var(--jp-content-font-color1, white)));\n",
              "    --sklearn-color-icon: #878787;\n",
              "  }\n",
              "}\n",
              "\n",
              "#sk-container-id-2 {\n",
              "  color: var(--sklearn-color-text);\n",
              "}\n",
              "\n",
              "#sk-container-id-2 pre {\n",
              "  padding: 0;\n",
              "}\n",
              "\n",
              "#sk-container-id-2 input.sk-hidden--visually {\n",
              "  border: 0;\n",
              "  clip: rect(1px 1px 1px 1px);\n",
              "  clip: rect(1px, 1px, 1px, 1px);\n",
              "  height: 1px;\n",
              "  margin: -1px;\n",
              "  overflow: hidden;\n",
              "  padding: 0;\n",
              "  position: absolute;\n",
              "  width: 1px;\n",
              "}\n",
              "\n",
              "#sk-container-id-2 div.sk-dashed-wrapped {\n",
              "  border: 1px dashed var(--sklearn-color-line);\n",
              "  margin: 0 0.4em 0.5em 0.4em;\n",
              "  box-sizing: border-box;\n",
              "  padding-bottom: 0.4em;\n",
              "  background-color: var(--sklearn-color-background);\n",
              "}\n",
              "\n",
              "#sk-container-id-2 div.sk-container {\n",
              "  /* jupyter's `normalize.less` sets `[hidden] { display: none; }`\n",
              "     but bootstrap.min.css set `[hidden] { display: none !important; }`\n",
              "     so we also need the `!important` here to be able to override the\n",
              "     default hidden behavior on the sphinx rendered scikit-learn.org.\n",
              "     See: https://github.com/scikit-learn/scikit-learn/issues/21755 */\n",
              "  display: inline-block !important;\n",
              "  position: relative;\n",
              "}\n",
              "\n",
              "#sk-container-id-2 div.sk-text-repr-fallback {\n",
              "  display: none;\n",
              "}\n",
              "\n",
              "div.sk-parallel-item,\n",
              "div.sk-serial,\n",
              "div.sk-item {\n",
              "  /* draw centered vertical line to link estimators */\n",
              "  background-image: linear-gradient(var(--sklearn-color-text-on-default-background), var(--sklearn-color-text-on-default-background));\n",
              "  background-size: 2px 100%;\n",
              "  background-repeat: no-repeat;\n",
              "  background-position: center center;\n",
              "}\n",
              "\n",
              "/* Parallel-specific style estimator block */\n",
              "\n",
              "#sk-container-id-2 div.sk-parallel-item::after {\n",
              "  content: \"\";\n",
              "  width: 100%;\n",
              "  border-bottom: 2px solid var(--sklearn-color-text-on-default-background);\n",
              "  flex-grow: 1;\n",
              "}\n",
              "\n",
              "#sk-container-id-2 div.sk-parallel {\n",
              "  display: flex;\n",
              "  align-items: stretch;\n",
              "  justify-content: center;\n",
              "  background-color: var(--sklearn-color-background);\n",
              "  position: relative;\n",
              "}\n",
              "\n",
              "#sk-container-id-2 div.sk-parallel-item {\n",
              "  display: flex;\n",
              "  flex-direction: column;\n",
              "}\n",
              "\n",
              "#sk-container-id-2 div.sk-parallel-item:first-child::after {\n",
              "  align-self: flex-end;\n",
              "  width: 50%;\n",
              "}\n",
              "\n",
              "#sk-container-id-2 div.sk-parallel-item:last-child::after {\n",
              "  align-self: flex-start;\n",
              "  width: 50%;\n",
              "}\n",
              "\n",
              "#sk-container-id-2 div.sk-parallel-item:only-child::after {\n",
              "  width: 0;\n",
              "}\n",
              "\n",
              "/* Serial-specific style estimator block */\n",
              "\n",
              "#sk-container-id-2 div.sk-serial {\n",
              "  display: flex;\n",
              "  flex-direction: column;\n",
              "  align-items: center;\n",
              "  background-color: var(--sklearn-color-background);\n",
              "  padding-right: 1em;\n",
              "  padding-left: 1em;\n",
              "}\n",
              "\n",
              "\n",
              "/* Toggleable style: style used for estimator/Pipeline/ColumnTransformer box that is\n",
              "clickable and can be expanded/collapsed.\n",
              "- Pipeline and ColumnTransformer use this feature and define the default style\n",
              "- Estimators will overwrite some part of the style using the `sk-estimator` class\n",
              "*/\n",
              "\n",
              "/* Pipeline and ColumnTransformer style (default) */\n",
              "\n",
              "#sk-container-id-2 div.sk-toggleable {\n",
              "  /* Default theme specific background. It is overwritten whether we have a\n",
              "  specific estimator or a Pipeline/ColumnTransformer */\n",
              "  background-color: var(--sklearn-color-background);\n",
              "}\n",
              "\n",
              "/* Toggleable label */\n",
              "#sk-container-id-2 label.sk-toggleable__label {\n",
              "  cursor: pointer;\n",
              "  display: flex;\n",
              "  width: 100%;\n",
              "  margin-bottom: 0;\n",
              "  padding: 0.5em;\n",
              "  box-sizing: border-box;\n",
              "  text-align: center;\n",
              "  align-items: start;\n",
              "  justify-content: space-between;\n",
              "  gap: 0.5em;\n",
              "}\n",
              "\n",
              "#sk-container-id-2 label.sk-toggleable__label .caption {\n",
              "  font-size: 0.6rem;\n",
              "  font-weight: lighter;\n",
              "  color: var(--sklearn-color-text-muted);\n",
              "}\n",
              "\n",
              "#sk-container-id-2 label.sk-toggleable__label-arrow:before {\n",
              "  /* Arrow on the left of the label */\n",
              "  content: \"▸\";\n",
              "  float: left;\n",
              "  margin-right: 0.25em;\n",
              "  color: var(--sklearn-color-icon);\n",
              "}\n",
              "\n",
              "#sk-container-id-2 label.sk-toggleable__label-arrow:hover:before {\n",
              "  color: var(--sklearn-color-text);\n",
              "}\n",
              "\n",
              "/* Toggleable content - dropdown */\n",
              "\n",
              "#sk-container-id-2 div.sk-toggleable__content {\n",
              "  max-height: 0;\n",
              "  max-width: 0;\n",
              "  overflow: hidden;\n",
              "  text-align: left;\n",
              "  /* unfitted */\n",
              "  background-color: var(--sklearn-color-unfitted-level-0);\n",
              "}\n",
              "\n",
              "#sk-container-id-2 div.sk-toggleable__content.fitted {\n",
              "  /* fitted */\n",
              "  background-color: var(--sklearn-color-fitted-level-0);\n",
              "}\n",
              "\n",
              "#sk-container-id-2 div.sk-toggleable__content pre {\n",
              "  margin: 0.2em;\n",
              "  border-radius: 0.25em;\n",
              "  color: var(--sklearn-color-text);\n",
              "  /* unfitted */\n",
              "  background-color: var(--sklearn-color-unfitted-level-0);\n",
              "}\n",
              "\n",
              "#sk-container-id-2 div.sk-toggleable__content.fitted pre {\n",
              "  /* unfitted */\n",
              "  background-color: var(--sklearn-color-fitted-level-0);\n",
              "}\n",
              "\n",
              "#sk-container-id-2 input.sk-toggleable__control:checked~div.sk-toggleable__content {\n",
              "  /* Expand drop-down */\n",
              "  max-height: 200px;\n",
              "  max-width: 100%;\n",
              "  overflow: auto;\n",
              "}\n",
              "\n",
              "#sk-container-id-2 input.sk-toggleable__control:checked~label.sk-toggleable__label-arrow:before {\n",
              "  content: \"▾\";\n",
              "}\n",
              "\n",
              "/* Pipeline/ColumnTransformer-specific style */\n",
              "\n",
              "#sk-container-id-2 div.sk-label input.sk-toggleable__control:checked~label.sk-toggleable__label {\n",
              "  color: var(--sklearn-color-text);\n",
              "  background-color: var(--sklearn-color-unfitted-level-2);\n",
              "}\n",
              "\n",
              "#sk-container-id-2 div.sk-label.fitted input.sk-toggleable__control:checked~label.sk-toggleable__label {\n",
              "  background-color: var(--sklearn-color-fitted-level-2);\n",
              "}\n",
              "\n",
              "/* Estimator-specific style */\n",
              "\n",
              "/* Colorize estimator box */\n",
              "#sk-container-id-2 div.sk-estimator input.sk-toggleable__control:checked~label.sk-toggleable__label {\n",
              "  /* unfitted */\n",
              "  background-color: var(--sklearn-color-unfitted-level-2);\n",
              "}\n",
              "\n",
              "#sk-container-id-2 div.sk-estimator.fitted input.sk-toggleable__control:checked~label.sk-toggleable__label {\n",
              "  /* fitted */\n",
              "  background-color: var(--sklearn-color-fitted-level-2);\n",
              "}\n",
              "\n",
              "#sk-container-id-2 div.sk-label label.sk-toggleable__label,\n",
              "#sk-container-id-2 div.sk-label label {\n",
              "  /* The background is the default theme color */\n",
              "  color: var(--sklearn-color-text-on-default-background);\n",
              "}\n",
              "\n",
              "/* On hover, darken the color of the background */\n",
              "#sk-container-id-2 div.sk-label:hover label.sk-toggleable__label {\n",
              "  color: var(--sklearn-color-text);\n",
              "  background-color: var(--sklearn-color-unfitted-level-2);\n",
              "}\n",
              "\n",
              "/* Label box, darken color on hover, fitted */\n",
              "#sk-container-id-2 div.sk-label.fitted:hover label.sk-toggleable__label.fitted {\n",
              "  color: var(--sklearn-color-text);\n",
              "  background-color: var(--sklearn-color-fitted-level-2);\n",
              "}\n",
              "\n",
              "/* Estimator label */\n",
              "\n",
              "#sk-container-id-2 div.sk-label label {\n",
              "  font-family: monospace;\n",
              "  font-weight: bold;\n",
              "  display: inline-block;\n",
              "  line-height: 1.2em;\n",
              "}\n",
              "\n",
              "#sk-container-id-2 div.sk-label-container {\n",
              "  text-align: center;\n",
              "}\n",
              "\n",
              "/* Estimator-specific */\n",
              "#sk-container-id-2 div.sk-estimator {\n",
              "  font-family: monospace;\n",
              "  border: 1px dotted var(--sklearn-color-border-box);\n",
              "  border-radius: 0.25em;\n",
              "  box-sizing: border-box;\n",
              "  margin-bottom: 0.5em;\n",
              "  /* unfitted */\n",
              "  background-color: var(--sklearn-color-unfitted-level-0);\n",
              "}\n",
              "\n",
              "#sk-container-id-2 div.sk-estimator.fitted {\n",
              "  /* fitted */\n",
              "  background-color: var(--sklearn-color-fitted-level-0);\n",
              "}\n",
              "\n",
              "/* on hover */\n",
              "#sk-container-id-2 div.sk-estimator:hover {\n",
              "  /* unfitted */\n",
              "  background-color: var(--sklearn-color-unfitted-level-2);\n",
              "}\n",
              "\n",
              "#sk-container-id-2 div.sk-estimator.fitted:hover {\n",
              "  /* fitted */\n",
              "  background-color: var(--sklearn-color-fitted-level-2);\n",
              "}\n",
              "\n",
              "/* Specification for estimator info (e.g. \"i\" and \"?\") */\n",
              "\n",
              "/* Common style for \"i\" and \"?\" */\n",
              "\n",
              ".sk-estimator-doc-link,\n",
              "a:link.sk-estimator-doc-link,\n",
              "a:visited.sk-estimator-doc-link {\n",
              "  float: right;\n",
              "  font-size: smaller;\n",
              "  line-height: 1em;\n",
              "  font-family: monospace;\n",
              "  background-color: var(--sklearn-color-background);\n",
              "  border-radius: 1em;\n",
              "  height: 1em;\n",
              "  width: 1em;\n",
              "  text-decoration: none !important;\n",
              "  margin-left: 0.5em;\n",
              "  text-align: center;\n",
              "  /* unfitted */\n",
              "  border: var(--sklearn-color-unfitted-level-1) 1pt solid;\n",
              "  color: var(--sklearn-color-unfitted-level-1);\n",
              "}\n",
              "\n",
              ".sk-estimator-doc-link.fitted,\n",
              "a:link.sk-estimator-doc-link.fitted,\n",
              "a:visited.sk-estimator-doc-link.fitted {\n",
              "  /* fitted */\n",
              "  border: var(--sklearn-color-fitted-level-1) 1pt solid;\n",
              "  color: var(--sklearn-color-fitted-level-1);\n",
              "}\n",
              "\n",
              "/* On hover */\n",
              "div.sk-estimator:hover .sk-estimator-doc-link:hover,\n",
              ".sk-estimator-doc-link:hover,\n",
              "div.sk-label-container:hover .sk-estimator-doc-link:hover,\n",
              ".sk-estimator-doc-link:hover {\n",
              "  /* unfitted */\n",
              "  background-color: var(--sklearn-color-unfitted-level-3);\n",
              "  color: var(--sklearn-color-background);\n",
              "  text-decoration: none;\n",
              "}\n",
              "\n",
              "div.sk-estimator.fitted:hover .sk-estimator-doc-link.fitted:hover,\n",
              ".sk-estimator-doc-link.fitted:hover,\n",
              "div.sk-label-container:hover .sk-estimator-doc-link.fitted:hover,\n",
              ".sk-estimator-doc-link.fitted:hover {\n",
              "  /* fitted */\n",
              "  background-color: var(--sklearn-color-fitted-level-3);\n",
              "  color: var(--sklearn-color-background);\n",
              "  text-decoration: none;\n",
              "}\n",
              "\n",
              "/* Span, style for the box shown on hovering the info icon */\n",
              ".sk-estimator-doc-link span {\n",
              "  display: none;\n",
              "  z-index: 9999;\n",
              "  position: relative;\n",
              "  font-weight: normal;\n",
              "  right: .2ex;\n",
              "  padding: .5ex;\n",
              "  margin: .5ex;\n",
              "  width: min-content;\n",
              "  min-width: 20ex;\n",
              "  max-width: 50ex;\n",
              "  color: var(--sklearn-color-text);\n",
              "  box-shadow: 2pt 2pt 4pt #999;\n",
              "  /* unfitted */\n",
              "  background: var(--sklearn-color-unfitted-level-0);\n",
              "  border: .5pt solid var(--sklearn-color-unfitted-level-3);\n",
              "}\n",
              "\n",
              ".sk-estimator-doc-link.fitted span {\n",
              "  /* fitted */\n",
              "  background: var(--sklearn-color-fitted-level-0);\n",
              "  border: var(--sklearn-color-fitted-level-3);\n",
              "}\n",
              "\n",
              ".sk-estimator-doc-link:hover span {\n",
              "  display: block;\n",
              "}\n",
              "\n",
              "/* \"?\"-specific style due to the `<a>` HTML tag */\n",
              "\n",
              "#sk-container-id-2 a.estimator_doc_link {\n",
              "  float: right;\n",
              "  font-size: 1rem;\n",
              "  line-height: 1em;\n",
              "  font-family: monospace;\n",
              "  background-color: var(--sklearn-color-background);\n",
              "  border-radius: 1rem;\n",
              "  height: 1rem;\n",
              "  width: 1rem;\n",
              "  text-decoration: none;\n",
              "  /* unfitted */\n",
              "  color: var(--sklearn-color-unfitted-level-1);\n",
              "  border: var(--sklearn-color-unfitted-level-1) 1pt solid;\n",
              "}\n",
              "\n",
              "#sk-container-id-2 a.estimator_doc_link.fitted {\n",
              "  /* fitted */\n",
              "  border: var(--sklearn-color-fitted-level-1) 1pt solid;\n",
              "  color: var(--sklearn-color-fitted-level-1);\n",
              "}\n",
              "\n",
              "/* On hover */\n",
              "#sk-container-id-2 a.estimator_doc_link:hover {\n",
              "  /* unfitted */\n",
              "  background-color: var(--sklearn-color-unfitted-level-3);\n",
              "  color: var(--sklearn-color-background);\n",
              "  text-decoration: none;\n",
              "}\n",
              "\n",
              "#sk-container-id-2 a.estimator_doc_link.fitted:hover {\n",
              "  /* fitted */\n",
              "  background-color: var(--sklearn-color-fitted-level-3);\n",
              "}\n",
              "</style><div id=\"sk-container-id-2\" class=\"sk-top-container\"><div class=\"sk-text-repr-fallback\"><pre>RandomForestRegressor(random_state=42)</pre><b>In a Jupyter environment, please rerun this cell to show the HTML representation or trust the notebook. <br />On GitHub, the HTML representation is unable to render, please try loading this page with nbviewer.org.</b></div><div class=\"sk-container\" hidden><div class=\"sk-item\"><div class=\"sk-estimator fitted sk-toggleable\"><input class=\"sk-toggleable__control sk-hidden--visually\" id=\"sk-estimator-id-2\" type=\"checkbox\" checked><label for=\"sk-estimator-id-2\" class=\"sk-toggleable__label fitted sk-toggleable__label-arrow\"><div><div>RandomForestRegressor</div></div><div><a class=\"sk-estimator-doc-link fitted\" rel=\"noreferrer\" target=\"_blank\" href=\"https://scikit-learn.org/1.6/modules/generated/sklearn.ensemble.RandomForestRegressor.html\">?<span>Documentation for RandomForestRegressor</span></a><span class=\"sk-estimator-doc-link fitted\">i<span>Fitted</span></span></div></label><div class=\"sk-toggleable__content fitted\"><pre>RandomForestRegressor(random_state=42)</pre></div> </div></div></div></div>"
            ]
          },
          "metadata": {},
          "execution_count": 44
        }
      ],
      "source": [
        "rfr = RandomForestRegressor(random_state=42)\n",
        "rfr.fit(X_train_scaled, y_train)"
      ]
    },
    {
      "cell_type": "code",
      "execution_count": 45,
      "metadata": {
        "id": "DKetRKKWveYP"
      },
      "outputs": [],
      "source": [
        "# Make predictions on the test set\n",
        "y_pred_rfr = rfr.predict(X_test_scaled)\n",
        "\n",
        "# Normalize the predictions to ensure they sum to 100\n",
        "y_pred_rfr = np.array([pred / np.sum(pred) * 100 for pred in y_pred_rfr])"
      ]
    },
    {
      "cell_type": "code",
      "execution_count": 46,
      "metadata": {
        "id": "XrV00jxsvfNC",
        "colab": {
          "base_uri": "https://localhost:8080/"
        },
        "outputId": "0fecf33c-a7c8-4c40-b944-f8d002dfb39a"
      },
      "outputs": [
        {
          "output_type": "stream",
          "name": "stdout",
          "text": [
            "[100. 100.]\n"
          ]
        }
      ],
      "source": [
        "print(np.sum(y_pred_rfr, axis=1))  # Checking if output ratios add up to 100 as in original y set"
      ]
    },
    {
      "cell_type": "code",
      "execution_count": 47,
      "metadata": {
        "id": "DXWrsHpAvfqs",
        "colab": {
          "base_uri": "https://localhost:8080/"
        },
        "outputId": "d79f7c72-308f-46f1-ae57-a4e80f20297c"
      },
      "outputs": [
        {
          "output_type": "stream",
          "name": "stdout",
          "text": [
            "[[20.89431063  1.42221252 66.62548134  4.25766204  1.88561615  4.91471731]\n",
            " [20.7957849   1.45653783 66.66390372  4.21520215  1.88036844  4.98820296]]\n"
          ]
        }
      ],
      "source": [
        "print(y_pred_rfr)"
      ]
    },
    {
      "cell_type": "code",
      "execution_count": 48,
      "metadata": {
        "id": "r3LFSwbivtVN",
        "colab": {
          "base_uri": "https://localhost:8080/"
        },
        "outputId": "7be90fd1-ac25-4aad-eb67-00738d225d6b"
      },
      "outputs": [
        {
          "output_type": "stream",
          "name": "stdout",
          "text": [
            "          EUR       RMB        USD       GBP       CAD       JPY\n",
            "23  21.595893  2.769549  62.034031  5.194131  2.531305  5.875091\n",
            "24  21.264843  2.440609  62.281976  5.186331  2.759800  6.066440\n"
          ]
        }
      ],
      "source": [
        "print(y_test)"
      ]
    },
    {
      "cell_type": "markdown",
      "metadata": {
        "id": "-uR85GVYRPjr"
      },
      "source": [
        "## 4.3 Gradient Boosting Regressor"
      ]
    },
    {
      "cell_type": "code",
      "execution_count": 49,
      "metadata": {
        "id": "NHO3Vsm3vtz-",
        "colab": {
          "base_uri": "https://localhost:8080/",
          "height": 164
        },
        "outputId": "e5caf974-5cd7-41d1-80bd-016d3f217a97"
      },
      "outputs": [
        {
          "output_type": "execute_result",
          "data": {
            "text/plain": [
              "MultiOutputRegressor(estimator=GradientBoostingRegressor())"
            ],
            "text/html": [
              "<style>#sk-container-id-3 {\n",
              "  /* Definition of color scheme common for light and dark mode */\n",
              "  --sklearn-color-text: #000;\n",
              "  --sklearn-color-text-muted: #666;\n",
              "  --sklearn-color-line: gray;\n",
              "  /* Definition of color scheme for unfitted estimators */\n",
              "  --sklearn-color-unfitted-level-0: #fff5e6;\n",
              "  --sklearn-color-unfitted-level-1: #f6e4d2;\n",
              "  --sklearn-color-unfitted-level-2: #ffe0b3;\n",
              "  --sklearn-color-unfitted-level-3: chocolate;\n",
              "  /* Definition of color scheme for fitted estimators */\n",
              "  --sklearn-color-fitted-level-0: #f0f8ff;\n",
              "  --sklearn-color-fitted-level-1: #d4ebff;\n",
              "  --sklearn-color-fitted-level-2: #b3dbfd;\n",
              "  --sklearn-color-fitted-level-3: cornflowerblue;\n",
              "\n",
              "  /* Specific color for light theme */\n",
              "  --sklearn-color-text-on-default-background: var(--sg-text-color, var(--theme-code-foreground, var(--jp-content-font-color1, black)));\n",
              "  --sklearn-color-background: var(--sg-background-color, var(--theme-background, var(--jp-layout-color0, white)));\n",
              "  --sklearn-color-border-box: var(--sg-text-color, var(--theme-code-foreground, var(--jp-content-font-color1, black)));\n",
              "  --sklearn-color-icon: #696969;\n",
              "\n",
              "  @media (prefers-color-scheme: dark) {\n",
              "    /* Redefinition of color scheme for dark theme */\n",
              "    --sklearn-color-text-on-default-background: var(--sg-text-color, var(--theme-code-foreground, var(--jp-content-font-color1, white)));\n",
              "    --sklearn-color-background: var(--sg-background-color, var(--theme-background, var(--jp-layout-color0, #111)));\n",
              "    --sklearn-color-border-box: var(--sg-text-color, var(--theme-code-foreground, var(--jp-content-font-color1, white)));\n",
              "    --sklearn-color-icon: #878787;\n",
              "  }\n",
              "}\n",
              "\n",
              "#sk-container-id-3 {\n",
              "  color: var(--sklearn-color-text);\n",
              "}\n",
              "\n",
              "#sk-container-id-3 pre {\n",
              "  padding: 0;\n",
              "}\n",
              "\n",
              "#sk-container-id-3 input.sk-hidden--visually {\n",
              "  border: 0;\n",
              "  clip: rect(1px 1px 1px 1px);\n",
              "  clip: rect(1px, 1px, 1px, 1px);\n",
              "  height: 1px;\n",
              "  margin: -1px;\n",
              "  overflow: hidden;\n",
              "  padding: 0;\n",
              "  position: absolute;\n",
              "  width: 1px;\n",
              "}\n",
              "\n",
              "#sk-container-id-3 div.sk-dashed-wrapped {\n",
              "  border: 1px dashed var(--sklearn-color-line);\n",
              "  margin: 0 0.4em 0.5em 0.4em;\n",
              "  box-sizing: border-box;\n",
              "  padding-bottom: 0.4em;\n",
              "  background-color: var(--sklearn-color-background);\n",
              "}\n",
              "\n",
              "#sk-container-id-3 div.sk-container {\n",
              "  /* jupyter's `normalize.less` sets `[hidden] { display: none; }`\n",
              "     but bootstrap.min.css set `[hidden] { display: none !important; }`\n",
              "     so we also need the `!important` here to be able to override the\n",
              "     default hidden behavior on the sphinx rendered scikit-learn.org.\n",
              "     See: https://github.com/scikit-learn/scikit-learn/issues/21755 */\n",
              "  display: inline-block !important;\n",
              "  position: relative;\n",
              "}\n",
              "\n",
              "#sk-container-id-3 div.sk-text-repr-fallback {\n",
              "  display: none;\n",
              "}\n",
              "\n",
              "div.sk-parallel-item,\n",
              "div.sk-serial,\n",
              "div.sk-item {\n",
              "  /* draw centered vertical line to link estimators */\n",
              "  background-image: linear-gradient(var(--sklearn-color-text-on-default-background), var(--sklearn-color-text-on-default-background));\n",
              "  background-size: 2px 100%;\n",
              "  background-repeat: no-repeat;\n",
              "  background-position: center center;\n",
              "}\n",
              "\n",
              "/* Parallel-specific style estimator block */\n",
              "\n",
              "#sk-container-id-3 div.sk-parallel-item::after {\n",
              "  content: \"\";\n",
              "  width: 100%;\n",
              "  border-bottom: 2px solid var(--sklearn-color-text-on-default-background);\n",
              "  flex-grow: 1;\n",
              "}\n",
              "\n",
              "#sk-container-id-3 div.sk-parallel {\n",
              "  display: flex;\n",
              "  align-items: stretch;\n",
              "  justify-content: center;\n",
              "  background-color: var(--sklearn-color-background);\n",
              "  position: relative;\n",
              "}\n",
              "\n",
              "#sk-container-id-3 div.sk-parallel-item {\n",
              "  display: flex;\n",
              "  flex-direction: column;\n",
              "}\n",
              "\n",
              "#sk-container-id-3 div.sk-parallel-item:first-child::after {\n",
              "  align-self: flex-end;\n",
              "  width: 50%;\n",
              "}\n",
              "\n",
              "#sk-container-id-3 div.sk-parallel-item:last-child::after {\n",
              "  align-self: flex-start;\n",
              "  width: 50%;\n",
              "}\n",
              "\n",
              "#sk-container-id-3 div.sk-parallel-item:only-child::after {\n",
              "  width: 0;\n",
              "}\n",
              "\n",
              "/* Serial-specific style estimator block */\n",
              "\n",
              "#sk-container-id-3 div.sk-serial {\n",
              "  display: flex;\n",
              "  flex-direction: column;\n",
              "  align-items: center;\n",
              "  background-color: var(--sklearn-color-background);\n",
              "  padding-right: 1em;\n",
              "  padding-left: 1em;\n",
              "}\n",
              "\n",
              "\n",
              "/* Toggleable style: style used for estimator/Pipeline/ColumnTransformer box that is\n",
              "clickable and can be expanded/collapsed.\n",
              "- Pipeline and ColumnTransformer use this feature and define the default style\n",
              "- Estimators will overwrite some part of the style using the `sk-estimator` class\n",
              "*/\n",
              "\n",
              "/* Pipeline and ColumnTransformer style (default) */\n",
              "\n",
              "#sk-container-id-3 div.sk-toggleable {\n",
              "  /* Default theme specific background. It is overwritten whether we have a\n",
              "  specific estimator or a Pipeline/ColumnTransformer */\n",
              "  background-color: var(--sklearn-color-background);\n",
              "}\n",
              "\n",
              "/* Toggleable label */\n",
              "#sk-container-id-3 label.sk-toggleable__label {\n",
              "  cursor: pointer;\n",
              "  display: flex;\n",
              "  width: 100%;\n",
              "  margin-bottom: 0;\n",
              "  padding: 0.5em;\n",
              "  box-sizing: border-box;\n",
              "  text-align: center;\n",
              "  align-items: start;\n",
              "  justify-content: space-between;\n",
              "  gap: 0.5em;\n",
              "}\n",
              "\n",
              "#sk-container-id-3 label.sk-toggleable__label .caption {\n",
              "  font-size: 0.6rem;\n",
              "  font-weight: lighter;\n",
              "  color: var(--sklearn-color-text-muted);\n",
              "}\n",
              "\n",
              "#sk-container-id-3 label.sk-toggleable__label-arrow:before {\n",
              "  /* Arrow on the left of the label */\n",
              "  content: \"▸\";\n",
              "  float: left;\n",
              "  margin-right: 0.25em;\n",
              "  color: var(--sklearn-color-icon);\n",
              "}\n",
              "\n",
              "#sk-container-id-3 label.sk-toggleable__label-arrow:hover:before {\n",
              "  color: var(--sklearn-color-text);\n",
              "}\n",
              "\n",
              "/* Toggleable content - dropdown */\n",
              "\n",
              "#sk-container-id-3 div.sk-toggleable__content {\n",
              "  max-height: 0;\n",
              "  max-width: 0;\n",
              "  overflow: hidden;\n",
              "  text-align: left;\n",
              "  /* unfitted */\n",
              "  background-color: var(--sklearn-color-unfitted-level-0);\n",
              "}\n",
              "\n",
              "#sk-container-id-3 div.sk-toggleable__content.fitted {\n",
              "  /* fitted */\n",
              "  background-color: var(--sklearn-color-fitted-level-0);\n",
              "}\n",
              "\n",
              "#sk-container-id-3 div.sk-toggleable__content pre {\n",
              "  margin: 0.2em;\n",
              "  border-radius: 0.25em;\n",
              "  color: var(--sklearn-color-text);\n",
              "  /* unfitted */\n",
              "  background-color: var(--sklearn-color-unfitted-level-0);\n",
              "}\n",
              "\n",
              "#sk-container-id-3 div.sk-toggleable__content.fitted pre {\n",
              "  /* unfitted */\n",
              "  background-color: var(--sklearn-color-fitted-level-0);\n",
              "}\n",
              "\n",
              "#sk-container-id-3 input.sk-toggleable__control:checked~div.sk-toggleable__content {\n",
              "  /* Expand drop-down */\n",
              "  max-height: 200px;\n",
              "  max-width: 100%;\n",
              "  overflow: auto;\n",
              "}\n",
              "\n",
              "#sk-container-id-3 input.sk-toggleable__control:checked~label.sk-toggleable__label-arrow:before {\n",
              "  content: \"▾\";\n",
              "}\n",
              "\n",
              "/* Pipeline/ColumnTransformer-specific style */\n",
              "\n",
              "#sk-container-id-3 div.sk-label input.sk-toggleable__control:checked~label.sk-toggleable__label {\n",
              "  color: var(--sklearn-color-text);\n",
              "  background-color: var(--sklearn-color-unfitted-level-2);\n",
              "}\n",
              "\n",
              "#sk-container-id-3 div.sk-label.fitted input.sk-toggleable__control:checked~label.sk-toggleable__label {\n",
              "  background-color: var(--sklearn-color-fitted-level-2);\n",
              "}\n",
              "\n",
              "/* Estimator-specific style */\n",
              "\n",
              "/* Colorize estimator box */\n",
              "#sk-container-id-3 div.sk-estimator input.sk-toggleable__control:checked~label.sk-toggleable__label {\n",
              "  /* unfitted */\n",
              "  background-color: var(--sklearn-color-unfitted-level-2);\n",
              "}\n",
              "\n",
              "#sk-container-id-3 div.sk-estimator.fitted input.sk-toggleable__control:checked~label.sk-toggleable__label {\n",
              "  /* fitted */\n",
              "  background-color: var(--sklearn-color-fitted-level-2);\n",
              "}\n",
              "\n",
              "#sk-container-id-3 div.sk-label label.sk-toggleable__label,\n",
              "#sk-container-id-3 div.sk-label label {\n",
              "  /* The background is the default theme color */\n",
              "  color: var(--sklearn-color-text-on-default-background);\n",
              "}\n",
              "\n",
              "/* On hover, darken the color of the background */\n",
              "#sk-container-id-3 div.sk-label:hover label.sk-toggleable__label {\n",
              "  color: var(--sklearn-color-text);\n",
              "  background-color: var(--sklearn-color-unfitted-level-2);\n",
              "}\n",
              "\n",
              "/* Label box, darken color on hover, fitted */\n",
              "#sk-container-id-3 div.sk-label.fitted:hover label.sk-toggleable__label.fitted {\n",
              "  color: var(--sklearn-color-text);\n",
              "  background-color: var(--sklearn-color-fitted-level-2);\n",
              "}\n",
              "\n",
              "/* Estimator label */\n",
              "\n",
              "#sk-container-id-3 div.sk-label label {\n",
              "  font-family: monospace;\n",
              "  font-weight: bold;\n",
              "  display: inline-block;\n",
              "  line-height: 1.2em;\n",
              "}\n",
              "\n",
              "#sk-container-id-3 div.sk-label-container {\n",
              "  text-align: center;\n",
              "}\n",
              "\n",
              "/* Estimator-specific */\n",
              "#sk-container-id-3 div.sk-estimator {\n",
              "  font-family: monospace;\n",
              "  border: 1px dotted var(--sklearn-color-border-box);\n",
              "  border-radius: 0.25em;\n",
              "  box-sizing: border-box;\n",
              "  margin-bottom: 0.5em;\n",
              "  /* unfitted */\n",
              "  background-color: var(--sklearn-color-unfitted-level-0);\n",
              "}\n",
              "\n",
              "#sk-container-id-3 div.sk-estimator.fitted {\n",
              "  /* fitted */\n",
              "  background-color: var(--sklearn-color-fitted-level-0);\n",
              "}\n",
              "\n",
              "/* on hover */\n",
              "#sk-container-id-3 div.sk-estimator:hover {\n",
              "  /* unfitted */\n",
              "  background-color: var(--sklearn-color-unfitted-level-2);\n",
              "}\n",
              "\n",
              "#sk-container-id-3 div.sk-estimator.fitted:hover {\n",
              "  /* fitted */\n",
              "  background-color: var(--sklearn-color-fitted-level-2);\n",
              "}\n",
              "\n",
              "/* Specification for estimator info (e.g. \"i\" and \"?\") */\n",
              "\n",
              "/* Common style for \"i\" and \"?\" */\n",
              "\n",
              ".sk-estimator-doc-link,\n",
              "a:link.sk-estimator-doc-link,\n",
              "a:visited.sk-estimator-doc-link {\n",
              "  float: right;\n",
              "  font-size: smaller;\n",
              "  line-height: 1em;\n",
              "  font-family: monospace;\n",
              "  background-color: var(--sklearn-color-background);\n",
              "  border-radius: 1em;\n",
              "  height: 1em;\n",
              "  width: 1em;\n",
              "  text-decoration: none !important;\n",
              "  margin-left: 0.5em;\n",
              "  text-align: center;\n",
              "  /* unfitted */\n",
              "  border: var(--sklearn-color-unfitted-level-1) 1pt solid;\n",
              "  color: var(--sklearn-color-unfitted-level-1);\n",
              "}\n",
              "\n",
              ".sk-estimator-doc-link.fitted,\n",
              "a:link.sk-estimator-doc-link.fitted,\n",
              "a:visited.sk-estimator-doc-link.fitted {\n",
              "  /* fitted */\n",
              "  border: var(--sklearn-color-fitted-level-1) 1pt solid;\n",
              "  color: var(--sklearn-color-fitted-level-1);\n",
              "}\n",
              "\n",
              "/* On hover */\n",
              "div.sk-estimator:hover .sk-estimator-doc-link:hover,\n",
              ".sk-estimator-doc-link:hover,\n",
              "div.sk-label-container:hover .sk-estimator-doc-link:hover,\n",
              ".sk-estimator-doc-link:hover {\n",
              "  /* unfitted */\n",
              "  background-color: var(--sklearn-color-unfitted-level-3);\n",
              "  color: var(--sklearn-color-background);\n",
              "  text-decoration: none;\n",
              "}\n",
              "\n",
              "div.sk-estimator.fitted:hover .sk-estimator-doc-link.fitted:hover,\n",
              ".sk-estimator-doc-link.fitted:hover,\n",
              "div.sk-label-container:hover .sk-estimator-doc-link.fitted:hover,\n",
              ".sk-estimator-doc-link.fitted:hover {\n",
              "  /* fitted */\n",
              "  background-color: var(--sklearn-color-fitted-level-3);\n",
              "  color: var(--sklearn-color-background);\n",
              "  text-decoration: none;\n",
              "}\n",
              "\n",
              "/* Span, style for the box shown on hovering the info icon */\n",
              ".sk-estimator-doc-link span {\n",
              "  display: none;\n",
              "  z-index: 9999;\n",
              "  position: relative;\n",
              "  font-weight: normal;\n",
              "  right: .2ex;\n",
              "  padding: .5ex;\n",
              "  margin: .5ex;\n",
              "  width: min-content;\n",
              "  min-width: 20ex;\n",
              "  max-width: 50ex;\n",
              "  color: var(--sklearn-color-text);\n",
              "  box-shadow: 2pt 2pt 4pt #999;\n",
              "  /* unfitted */\n",
              "  background: var(--sklearn-color-unfitted-level-0);\n",
              "  border: .5pt solid var(--sklearn-color-unfitted-level-3);\n",
              "}\n",
              "\n",
              ".sk-estimator-doc-link.fitted span {\n",
              "  /* fitted */\n",
              "  background: var(--sklearn-color-fitted-level-0);\n",
              "  border: var(--sklearn-color-fitted-level-3);\n",
              "}\n",
              "\n",
              ".sk-estimator-doc-link:hover span {\n",
              "  display: block;\n",
              "}\n",
              "\n",
              "/* \"?\"-specific style due to the `<a>` HTML tag */\n",
              "\n",
              "#sk-container-id-3 a.estimator_doc_link {\n",
              "  float: right;\n",
              "  font-size: 1rem;\n",
              "  line-height: 1em;\n",
              "  font-family: monospace;\n",
              "  background-color: var(--sklearn-color-background);\n",
              "  border-radius: 1rem;\n",
              "  height: 1rem;\n",
              "  width: 1rem;\n",
              "  text-decoration: none;\n",
              "  /* unfitted */\n",
              "  color: var(--sklearn-color-unfitted-level-1);\n",
              "  border: var(--sklearn-color-unfitted-level-1) 1pt solid;\n",
              "}\n",
              "\n",
              "#sk-container-id-3 a.estimator_doc_link.fitted {\n",
              "  /* fitted */\n",
              "  border: var(--sklearn-color-fitted-level-1) 1pt solid;\n",
              "  color: var(--sklearn-color-fitted-level-1);\n",
              "}\n",
              "\n",
              "/* On hover */\n",
              "#sk-container-id-3 a.estimator_doc_link:hover {\n",
              "  /* unfitted */\n",
              "  background-color: var(--sklearn-color-unfitted-level-3);\n",
              "  color: var(--sklearn-color-background);\n",
              "  text-decoration: none;\n",
              "}\n",
              "\n",
              "#sk-container-id-3 a.estimator_doc_link.fitted:hover {\n",
              "  /* fitted */\n",
              "  background-color: var(--sklearn-color-fitted-level-3);\n",
              "}\n",
              "</style><div id=\"sk-container-id-3\" class=\"sk-top-container\"><div class=\"sk-text-repr-fallback\"><pre>MultiOutputRegressor(estimator=GradientBoostingRegressor())</pre><b>In a Jupyter environment, please rerun this cell to show the HTML representation or trust the notebook. <br />On GitHub, the HTML representation is unable to render, please try loading this page with nbviewer.org.</b></div><div class=\"sk-container\" hidden><div class=\"sk-item sk-dashed-wrapped\"><div class=\"sk-label-container\"><div class=\"sk-label fitted sk-toggleable\"><input class=\"sk-toggleable__control sk-hidden--visually\" id=\"sk-estimator-id-3\" type=\"checkbox\" ><label for=\"sk-estimator-id-3\" class=\"sk-toggleable__label fitted sk-toggleable__label-arrow\"><div><div>MultiOutputRegressor</div></div><div><a class=\"sk-estimator-doc-link fitted\" rel=\"noreferrer\" target=\"_blank\" href=\"https://scikit-learn.org/1.6/modules/generated/sklearn.multioutput.MultiOutputRegressor.html\">?<span>Documentation for MultiOutputRegressor</span></a><span class=\"sk-estimator-doc-link fitted\">i<span>Fitted</span></span></div></label><div class=\"sk-toggleable__content fitted\"><pre>MultiOutputRegressor(estimator=GradientBoostingRegressor())</pre></div> </div></div><div class=\"sk-parallel\"><div class=\"sk-parallel-item\"><div class=\"sk-item\"><div class=\"sk-label-container\"><div class=\"sk-label fitted sk-toggleable\"><input class=\"sk-toggleable__control sk-hidden--visually\" id=\"sk-estimator-id-4\" type=\"checkbox\" ><label for=\"sk-estimator-id-4\" class=\"sk-toggleable__label fitted sk-toggleable__label-arrow\"><div><div>estimator: GradientBoostingRegressor</div></div></label><div class=\"sk-toggleable__content fitted\"><pre>GradientBoostingRegressor()</pre></div> </div></div><div class=\"sk-serial\"><div class=\"sk-item\"><div class=\"sk-estimator fitted sk-toggleable\"><input class=\"sk-toggleable__control sk-hidden--visually\" id=\"sk-estimator-id-5\" type=\"checkbox\" ><label for=\"sk-estimator-id-5\" class=\"sk-toggleable__label fitted sk-toggleable__label-arrow\"><div><div>GradientBoostingRegressor</div></div><div><a class=\"sk-estimator-doc-link fitted\" rel=\"noreferrer\" target=\"_blank\" href=\"https://scikit-learn.org/1.6/modules/generated/sklearn.ensemble.GradientBoostingRegressor.html\">?<span>Documentation for GradientBoostingRegressor</span></a></div></label><div class=\"sk-toggleable__content fitted\"><pre>GradientBoostingRegressor()</pre></div> </div></div></div></div></div></div></div></div></div>"
            ]
          },
          "metadata": {},
          "execution_count": 49
        }
      ],
      "source": [
        "# Initialize the GradientBoostingRegressor\n",
        "gbr = GradientBoostingRegressor()\n",
        "\n",
        "# Wrap the regressor with MultiOutputRegressor\n",
        "multi_output_gbr = MultiOutputRegressor(gbr)\n",
        "\n",
        "# Fit the model\n",
        "multi_output_gbr.fit(X_train_scaled, y_train)"
      ]
    },
    {
      "cell_type": "code",
      "execution_count": 50,
      "metadata": {
        "id": "yxYs8oe09Vx0"
      },
      "outputs": [],
      "source": [
        "# Extract values from X_test\n",
        "X_test_np = X_test.values\n",
        "\n",
        "# Predicting and reverse transforming\n",
        "y_pred_gbr = multi_output_gbr.predict(X_test_np)\n",
        "\n",
        "# Normalize the predictions to ensure they sum to 100\n",
        "y_pred_gbr = np.array([pred / np.sum(pred) * 100 for pred in y_pred_gbr])"
      ]
    },
    {
      "cell_type": "code",
      "execution_count": 51,
      "metadata": {
        "id": "cg20yo59-0cR",
        "colab": {
          "base_uri": "https://localhost:8080/"
        },
        "outputId": "4eaac3e4-18bd-489e-e3e8-fa7c3a196a6d"
      },
      "outputs": [
        {
          "output_type": "stream",
          "name": "stdout",
          "text": [
            "[100. 100.]\n"
          ]
        }
      ],
      "source": [
        "print(np.sum(y_pred_gbr, axis=1))  # Checking if output ratios add up to 100 as in original y set"
      ]
    },
    {
      "cell_type": "code",
      "execution_count": 52,
      "metadata": {
        "id": "BThd17un-2hs",
        "colab": {
          "base_uri": "https://localhost:8080/"
        },
        "outputId": "df89bf61-ba67-40b3-c71e-88f4fca2f1f1"
      },
      "outputs": [
        {
          "output_type": "stream",
          "name": "stdout",
          "text": [
            "[[20.52648773  2.40671659 65.82046057  4.37437311  2.05869893  4.81326308]\n",
            " [20.51811206  2.43484527 65.81405363  4.37256106  2.0578589   4.80256908]]\n"
          ]
        }
      ],
      "source": [
        "print(y_pred_gbr)"
      ]
    },
    {
      "cell_type": "code",
      "execution_count": 53,
      "metadata": {
        "id": "heRyeYNJ-5Xj",
        "colab": {
          "base_uri": "https://localhost:8080/"
        },
        "outputId": "71d1ecea-2bae-4bdf-bacc-cb75f45b9e36"
      },
      "outputs": [
        {
          "output_type": "stream",
          "name": "stdout",
          "text": [
            "          EUR       RMB        USD       GBP       CAD       JPY\n",
            "23  21.595893  2.769549  62.034031  5.194131  2.531305  5.875091\n",
            "24  21.264843  2.440609  62.281976  5.186331  2.759800  6.066440\n"
          ]
        }
      ],
      "source": [
        "print(y_test)"
      ]
    },
    {
      "cell_type": "markdown",
      "metadata": {
        "id": "TaeOLW4sRoi7"
      },
      "source": [
        "## 4.4 Multi-Layer Perceptron (MLP)"
      ]
    },
    {
      "cell_type": "code",
      "execution_count": 58,
      "metadata": {
        "id": "mtQiBByI1VoA"
      },
      "outputs": [],
      "source": [
        "tf.keras.backend.clear_session()"
      ]
    },
    {
      "cell_type": "code",
      "execution_count": 59,
      "metadata": {
        "id": "Jg-EhLAeRtFt"
      },
      "outputs": [],
      "source": [
        "# Define the model\n",
        "mlp = Sequential([\n",
        "    Input(shape=(25,)), # Input layer with input shape defined\n",
        "    Dense(16, activation='relu'),\n",
        "    Dropout(0.2), #  Кegularization\n",
        "    Dense(8, activation='relu'),\n",
        "    Dense(6, activation='linear') # Linear activation for regression output\n",
        "])"
      ]
    },
    {
      "cell_type": "code",
      "execution_count": 60,
      "metadata": {
        "id": "GqiANfa7ND3e",
        "colab": {
          "base_uri": "https://localhost:8080/"
        },
        "outputId": "37b5da25-7f01-4910-e5d5-130a8bc64b2d"
      },
      "outputs": [
        {
          "output_type": "stream",
          "name": "stdout",
          "text": [
            "Model: \"sequential\"\n",
            "_________________________________________________________________\n",
            " Layer (type)                Output Shape              Param #   \n",
            "=================================================================\n",
            " dense (Dense)               (None, 16)                416       \n",
            "                                                                 \n",
            " dropout (Dropout)           (None, 16)                0         \n",
            "                                                                 \n",
            " dense_1 (Dense)             (None, 8)                 136       \n",
            "                                                                 \n",
            " dense_2 (Dense)             (None, 6)                 54        \n",
            "                                                                 \n",
            "=================================================================\n",
            "Total params: 606 (2.37 KB)\n",
            "Trainable params: 606 (2.37 KB)\n",
            "Non-trainable params: 0 (0.00 Byte)\n",
            "_________________________________________________________________\n",
            "None\n"
          ]
        }
      ],
      "source": [
        "# Compile the model\n",
        "mlp.compile(optimizer=Adam(learning_rate=0.001), loss='mse')\n",
        "\n",
        "print(mlp.summary())"
      ]
    },
    {
      "cell_type": "code",
      "execution_count": 61,
      "metadata": {
        "collapsed": true,
        "id": "WOuUlg4ANFBX"
      },
      "outputs": [],
      "source": [
        "# Implementing early stopping as a regularization technique\n",
        "early_stopping = EarlyStopping(monitor='loss', patience=20, restore_best_weights=True)\n",
        "\n",
        "# Train the model\n",
        "history_mlp = mlp.fit(\n",
        "    X_train_scaled, y_train,\n",
        "    epochs=200,\n",
        "    batch_size=4,\n",
        "    callbacks=[early_stopping],\n",
        "    verbose=0\n",
        ")"
      ]
    },
    {
      "cell_type": "code",
      "execution_count": 62,
      "metadata": {
        "id": "EcvI_nWcNGG9",
        "colab": {
          "base_uri": "https://localhost:8080/"
        },
        "outputId": "97e18d87-ebda-46ca-97cb-992a5a4499c3"
      },
      "outputs": [
        {
          "output_type": "stream",
          "name": "stdout",
          "text": [
            "1/1 [==============================] - 0s 155ms/step\n"
          ]
        }
      ],
      "source": [
        "# Predict and normalize to sum to 100\n",
        "y_pred_mlp = mlp.predict(X_test_scaled)\n",
        "y_pred_mlp = (y_pred_mlp / np.sum(y_pred_mlp, axis=1, keepdims=True)) * 100"
      ]
    },
    {
      "cell_type": "code",
      "execution_count": 63,
      "metadata": {
        "id": "M82SQjlwNOqd",
        "colab": {
          "base_uri": "https://localhost:8080/"
        },
        "outputId": "92a12f27-796e-48bf-f1a7-4a39b49ef6b2"
      },
      "outputs": [
        {
          "output_type": "stream",
          "name": "stdout",
          "text": [
            "[100.00001  99.99999]\n"
          ]
        }
      ],
      "source": [
        "# Checking if output ratios add up to 100\n",
        "print(np.sum(y_pred_mlp, axis=1))"
      ]
    },
    {
      "cell_type": "code",
      "execution_count": 64,
      "metadata": {
        "id": "DD04J1ufP_9v",
        "colab": {
          "base_uri": "https://localhost:8080/"
        },
        "outputId": "635b8954-999e-48fd-a6cd-0bccf0f9891e"
      },
      "outputs": [
        {
          "output_type": "stream",
          "name": "stdout",
          "text": [
            "[[25.1995      1.5547953  65.08995     2.0495074   0.47039366  5.6358624 ]\n",
            " [25.673336    1.8061198  63.136112    3.4038756   0.524875    5.455672  ]]\n"
          ]
        }
      ],
      "source": [
        "# Print predictions\n",
        "print(y_pred_mlp)"
      ]
    },
    {
      "cell_type": "code",
      "execution_count": 65,
      "metadata": {
        "id": "yRCiEwG2lOGQ",
        "colab": {
          "base_uri": "https://localhost:8080/"
        },
        "outputId": "d61ef56e-0899-4705-8803-61042156b369"
      },
      "outputs": [
        {
          "output_type": "stream",
          "name": "stdout",
          "text": [
            "          EUR       RMB        USD       GBP       CAD       JPY\n",
            "23  21.595893  2.769549  62.034031  5.194131  2.531305  5.875091\n",
            "24  21.264843  2.440609  62.281976  5.186331  2.759800  6.066440\n"
          ]
        }
      ],
      "source": [
        "# Print ground truth data\n",
        "print(y_test)"
      ]
    },
    {
      "cell_type": "code",
      "source": [
        "# Plot training & validation loss values\n",
        "plt.figure(figsize=(8, 4))\n",
        "plt.plot(history_mlp.history['loss'], label='Train Loss', c='g')\n",
        "plt.title('MLP Model Loss')\n",
        "plt.xlabel('Epoch')\n",
        "plt.ylabel('Loss (MSE)')\n",
        "plt.legend()\n",
        "plt.grid(True)\n",
        "plt.show()"
      ],
      "metadata": {
        "id": "sY8KmssCdA15",
        "colab": {
          "base_uri": "https://localhost:8080/",
          "height": 0
        },
        "outputId": "adf8189c-8da1-410f-f7b1-aad477ceb1b1"
      },
      "execution_count": 66,
      "outputs": [
        {
          "output_type": "display_data",
          "data": {
            "text/plain": [
              "<Figure size 800x400 with 1 Axes>"
            ],
            "image/png": "[encoded data removed]"
          },
          "metadata": {}
        }
      ]
    },
    {
      "cell_type": "markdown",
      "metadata": {
        "id": "cVNbmn9a7d40"
      },
      "source": [
        "## 4.5 Recurrent Neural Network (RNN)"
      ]
    },
    {
      "cell_type": "code",
      "execution_count": 68,
      "metadata": {
        "id": "GOaHsY9x7oIV"
      },
      "outputs": [],
      "source": [
        "from tensorflow.keras.layers import SimpleRNN\n",
        "\n",
        "# Define the RNN model\n",
        "rnn = Sequential([\n",
        "    SimpleRNN(64, input_shape=(25, 1), return_sequences=False),\n",
        "    Dropout(0.2),\n",
        "    Dense(32, activation='relu'),\n",
        "    Dense(6, activation='linear')  # 6 outputs: currency weights\n",
        "])"
      ]
    },
    {
      "cell_type": "code",
      "source": [
        "# Compile the model\n",
        "rnn.compile(optimizer=Adam(learning_rate=0.001), loss='mse')\n",
        "\n",
        "rnn.summary()"
      ],
      "metadata": {
        "id": "cuRclMi3lcW8",
        "colab": {
          "base_uri": "https://localhost:8080/"
        },
        "outputId": "1198818c-40a9-4365-8919-3fbb0d9dea3b"
      },
      "execution_count": 69,
      "outputs": [
        {
          "output_type": "stream",
          "name": "stdout",
          "text": [
            "Model: \"sequential_2\"\n",
            "_________________________________________________________________\n",
            " Layer (type)                Output Shape              Param #   \n",
            "=================================================================\n",
            " simple_rnn_1 (SimpleRNN)    (None, 64)                4224      \n",
            "                                                                 \n",
            " dropout_2 (Dropout)         (None, 64)                0         \n",
            "                                                                 \n",
            " dense_5 (Dense)             (None, 32)                2080      \n",
            "                                                                 \n",
            " dense_6 (Dense)             (None, 6)                 198       \n",
            "                                                                 \n",
            "=================================================================\n",
            "Total params: 6502 (25.40 KB)\n",
            "Trainable params: 6502 (25.40 KB)\n",
            "Non-trainable params: 0 (0.00 Byte)\n",
            "_________________________________________________________________\n"
          ]
        }
      ]
    },
    {
      "cell_type": "code",
      "source": [
        "# Visualizing Model Architecture\n",
        "# from tensorflow.keras.utils import plot_model\n",
        "# plot_model(rnn, to_file=\"rnn_model.png\", show_shapes=True)"
      ],
      "metadata": {
        "id": "URSkDluLne6R"
      },
      "execution_count": 70,
      "outputs": []
    },
    {
      "cell_type": "code",
      "execution_count": 71,
      "metadata": {
        "id": "9jmrg_aLCZ-E",
        "collapsed": true,
        "colab": {
          "base_uri": "https://localhost:8080/"
        },
        "outputId": "0d255586-b06e-4f60-e0d5-7f81df60deb4"
      },
      "outputs": [
        {
          "output_type": "stream",
          "name": "stdout",
          "text": [
            "Epoch 1/200\n",
            "6/6 [==============================] - 2s 14ms/step - loss: 817.9252\n",
            "Epoch 2/200\n",
            "6/6 [==============================] - 0s 9ms/step - loss: 807.7523\n",
            "Epoch 3/200\n",
            "6/6 [==============================] - 0s 10ms/step - loss: 800.8600\n",
            "Epoch 4/200\n",
            "6/6 [==============================] - 0s 10ms/step - loss: 788.6359\n",
            "Epoch 5/200\n",
            "6/6 [==============================] - 0s 10ms/step - loss: 762.5615\n",
            "Epoch 6/200\n",
            "6/6 [==============================] - 0s 9ms/step - loss: 727.8586\n",
            "Epoch 7/200\n",
            "6/6 [==============================] - 0s 9ms/step - loss: 667.5948\n",
            "Epoch 8/200\n",
            "6/6 [==============================] - 0s 10ms/step - loss: 615.9561\n",
            "Epoch 9/200\n",
            "6/6 [==============================] - 0s 11ms/step - loss: 578.1525\n",
            "Epoch 10/200\n",
            "6/6 [==============================] - 0s 12ms/step - loss: 546.1865\n",
            "Epoch 11/200\n",
            "6/6 [==============================] - 0s 10ms/step - loss: 507.2745\n",
            "Epoch 12/200\n",
            "6/6 [==============================] - 0s 9ms/step - loss: 468.3753\n",
            "Epoch 13/200\n",
            "6/6 [==============================] - 0s 9ms/step - loss: 437.6795\n",
            "Epoch 14/200\n",
            "6/6 [==============================] - 0s 9ms/step - loss: 409.4367\n",
            "Epoch 15/200\n",
            "6/6 [==============================] - 0s 9ms/step - loss: 367.0146\n",
            "Epoch 16/200\n",
            "6/6 [==============================] - 0s 9ms/step - loss: 336.2010\n",
            "Epoch 17/200\n",
            "6/6 [==============================] - 0s 11ms/step - loss: 303.6466\n",
            "Epoch 18/200\n",
            "6/6 [==============================] - 0s 9ms/step - loss: 277.2974\n",
            "Epoch 19/200\n",
            "6/6 [==============================] - 0s 10ms/step - loss: 240.7911\n",
            "Epoch 20/200\n",
            "6/6 [==============================] - 0s 9ms/step - loss: 215.9034\n",
            "Epoch 21/200\n",
            "6/6 [==============================] - 0s 11ms/step - loss: 196.1392\n",
            "Epoch 22/200\n",
            "6/6 [==============================] - 0s 13ms/step - loss: 214.6567\n",
            "Epoch 23/200\n",
            "6/6 [==============================] - 0s 20ms/step - loss: 201.8515\n",
            "Epoch 24/200\n",
            "6/6 [==============================] - 0s 17ms/step - loss: 186.9556\n",
            "Epoch 25/200\n",
            "6/6 [==============================] - 0s 17ms/step - loss: 176.7419\n",
            "Epoch 26/200\n",
            "6/6 [==============================] - 0s 14ms/step - loss: 170.0052\n",
            "Epoch 27/200\n",
            "6/6 [==============================] - 0s 18ms/step - loss: 164.8234\n",
            "Epoch 28/200\n",
            "6/6 [==============================] - 0s 18ms/step - loss: 154.9876\n",
            "Epoch 29/200\n",
            "6/6 [==============================] - 0s 22ms/step - loss: 149.3800\n",
            "Epoch 30/200\n",
            "6/6 [==============================] - 0s 21ms/step - loss: 147.8904\n",
            "Epoch 31/200\n",
            "6/6 [==============================] - 0s 18ms/step - loss: 144.1206\n",
            "Epoch 32/200\n",
            "6/6 [==============================] - 0s 12ms/step - loss: 139.0176\n",
            "Epoch 33/200\n",
            "6/6 [==============================] - 0s 13ms/step - loss: 140.7668\n",
            "Epoch 34/200\n",
            "6/6 [==============================] - 0s 16ms/step - loss: 136.7494\n",
            "Epoch 35/200\n",
            "6/6 [==============================] - 0s 15ms/step - loss: 133.4179\n",
            "Epoch 36/200\n",
            "6/6 [==============================] - 0s 13ms/step - loss: 135.2855\n",
            "Epoch 37/200\n",
            "6/6 [==============================] - 0s 15ms/step - loss: 130.7388\n",
            "Epoch 38/200\n",
            "6/6 [==============================] - 0s 14ms/step - loss: 131.4327\n",
            "Epoch 39/200\n",
            "6/6 [==============================] - 0s 13ms/step - loss: 130.5762\n",
            "Epoch 40/200\n",
            "6/6 [==============================] - 0s 12ms/step - loss: 129.0933\n",
            "Epoch 41/200\n",
            "6/6 [==============================] - 0s 11ms/step - loss: 127.3795\n",
            "Epoch 42/200\n",
            "6/6 [==============================] - 0s 16ms/step - loss: 126.3330\n",
            "Epoch 43/200\n",
            "6/6 [==============================] - 0s 15ms/step - loss: 123.5130\n",
            "Epoch 44/200\n",
            "6/6 [==============================] - 0s 18ms/step - loss: 122.6359\n",
            "Epoch 45/200\n",
            "6/6 [==============================] - 0s 18ms/step - loss: 122.3874\n",
            "Epoch 46/200\n",
            "6/6 [==============================] - 0s 15ms/step - loss: 119.3085\n",
            "Epoch 47/200\n",
            "6/6 [==============================] - 0s 9ms/step - loss: 119.9136\n",
            "Epoch 48/200\n",
            "6/6 [==============================] - 0s 12ms/step - loss: 115.9210\n",
            "Epoch 49/200\n",
            "6/6 [==============================] - 0s 12ms/step - loss: 114.4557\n",
            "Epoch 50/200\n",
            "6/6 [==============================] - 0s 10ms/step - loss: 114.3366\n",
            "Epoch 51/200\n",
            "6/6 [==============================] - 0s 10ms/step - loss: 113.8034\n",
            "Epoch 52/200\n",
            "6/6 [==============================] - 0s 10ms/step - loss: 110.8602\n",
            "Epoch 53/200\n",
            "6/6 [==============================] - 0s 11ms/step - loss: 110.9849\n",
            "Epoch 54/200\n",
            "6/6 [==============================] - 0s 10ms/step - loss: 107.5157\n",
            "Epoch 55/200\n",
            "6/6 [==============================] - 0s 10ms/step - loss: 104.4176\n",
            "Epoch 56/200\n",
            "6/6 [==============================] - 0s 10ms/step - loss: 102.9608\n",
            "Epoch 57/200\n",
            "6/6 [==============================] - 0s 13ms/step - loss: 102.3515\n",
            "Epoch 58/200\n",
            "6/6 [==============================] - 0s 12ms/step - loss: 101.6302\n",
            "Epoch 59/200\n",
            "6/6 [==============================] - 0s 10ms/step - loss: 101.0942\n",
            "Epoch 60/200\n",
            "6/6 [==============================] - 0s 12ms/step - loss: 97.2607\n",
            "Epoch 61/200\n",
            "6/6 [==============================] - 0s 19ms/step - loss: 95.3437\n",
            "Epoch 62/200\n",
            "6/6 [==============================] - 0s 14ms/step - loss: 94.9507\n",
            "Epoch 63/200\n",
            "6/6 [==============================] - 0s 14ms/step - loss: 91.8380\n",
            "Epoch 64/200\n",
            "6/6 [==============================] - 0s 12ms/step - loss: 93.2576\n",
            "Epoch 65/200\n",
            "6/6 [==============================] - 0s 10ms/step - loss: 86.6762\n",
            "Epoch 66/200\n",
            "6/6 [==============================] - 0s 11ms/step - loss: 87.7435\n",
            "Epoch 67/200\n",
            "6/6 [==============================] - 0s 9ms/step - loss: 84.0116\n",
            "Epoch 68/200\n",
            "6/6 [==============================] - 0s 10ms/step - loss: 82.6974\n",
            "Epoch 69/200\n",
            "6/6 [==============================] - 0s 16ms/step - loss: 82.7499\n",
            "Epoch 70/200\n",
            "6/6 [==============================] - 0s 12ms/step - loss: 82.9107\n",
            "Epoch 71/200\n",
            "6/6 [==============================] - 0s 11ms/step - loss: 77.9349\n",
            "Epoch 72/200\n",
            "6/6 [==============================] - 0s 9ms/step - loss: 72.3599\n",
            "Epoch 73/200\n",
            "6/6 [==============================] - 0s 10ms/step - loss: 76.2096\n",
            "Epoch 74/200\n",
            "6/6 [==============================] - 0s 17ms/step - loss: 71.8520\n",
            "Epoch 75/200\n",
            "6/6 [==============================] - 0s 11ms/step - loss: 71.8178\n",
            "Epoch 76/200\n",
            "6/6 [==============================] - 0s 12ms/step - loss: 70.0755\n",
            "Epoch 77/200\n",
            "6/6 [==============================] - 0s 12ms/step - loss: 65.7677\n",
            "Epoch 78/200\n",
            "6/6 [==============================] - 0s 12ms/step - loss: 64.4554\n",
            "Epoch 79/200\n",
            "6/6 [==============================] - 0s 12ms/step - loss: 60.7002\n",
            "Epoch 80/200\n",
            "6/6 [==============================] - 0s 9ms/step - loss: 62.9242\n",
            "Epoch 81/200\n",
            "6/6 [==============================] - 0s 10ms/step - loss: 57.5093\n",
            "Epoch 82/200\n",
            "6/6 [==============================] - 0s 11ms/step - loss: 53.2557\n",
            "Epoch 83/200\n",
            "6/6 [==============================] - 0s 10ms/step - loss: 54.7866\n",
            "Epoch 84/200\n",
            "6/6 [==============================] - 0s 10ms/step - loss: 53.2719\n",
            "Epoch 85/200\n",
            "6/6 [==============================] - 0s 10ms/step - loss: 49.8469\n",
            "Epoch 86/200\n",
            "6/6 [==============================] - 0s 10ms/step - loss: 49.9519\n",
            "Epoch 87/200\n",
            "6/6 [==============================] - 0s 15ms/step - loss: 41.4109\n",
            "Epoch 88/200\n",
            "6/6 [==============================] - 0s 12ms/step - loss: 38.5243\n",
            "Epoch 89/200\n",
            "6/6 [==============================] - 0s 11ms/step - loss: 37.8801\n",
            "Epoch 90/200\n",
            "6/6 [==============================] - 0s 12ms/step - loss: 42.2858\n",
            "Epoch 91/200\n",
            "6/6 [==============================] - 0s 16ms/step - loss: 36.2686\n",
            "Epoch 92/200\n",
            "6/6 [==============================] - 0s 16ms/step - loss: 38.8996\n",
            "Epoch 93/200\n",
            "6/6 [==============================] - 0s 17ms/step - loss: 31.7495\n",
            "Epoch 94/200\n",
            "6/6 [==============================] - 0s 16ms/step - loss: 30.3172\n",
            "Epoch 95/200\n",
            "6/6 [==============================] - 0s 18ms/step - loss: 28.7073\n",
            "Epoch 96/200\n",
            "6/6 [==============================] - 0s 14ms/step - loss: 30.0885\n",
            "Epoch 97/200\n",
            "6/6 [==============================] - 0s 17ms/step - loss: 27.8222\n",
            "Epoch 98/200\n",
            "6/6 [==============================] - 0s 18ms/step - loss: 21.6899\n",
            "Epoch 99/200\n",
            "6/6 [==============================] - 0s 18ms/step - loss: 22.9084\n",
            "Epoch 100/200\n",
            "6/6 [==============================] - 0s 6ms/step - loss: 22.7611\n",
            "Epoch 101/200\n",
            "6/6 [==============================] - 0s 6ms/step - loss: 22.8323\n",
            "Epoch 102/200\n",
            "6/6 [==============================] - 0s 6ms/step - loss: 18.5930\n",
            "Epoch 103/200\n",
            "6/6 [==============================] - 0s 6ms/step - loss: 17.5401\n",
            "Epoch 104/200\n",
            "6/6 [==============================] - 0s 6ms/step - loss: 15.2116\n",
            "Epoch 105/200\n",
            "6/6 [==============================] - 0s 6ms/step - loss: 14.8784\n",
            "Epoch 106/200\n",
            "6/6 [==============================] - 0s 6ms/step - loss: 14.6617\n",
            "Epoch 107/200\n",
            "6/6 [==============================] - 0s 7ms/step - loss: 12.0919\n",
            "Epoch 108/200\n",
            "6/6 [==============================] - 0s 7ms/step - loss: 10.6307\n",
            "Epoch 109/200\n",
            "6/6 [==============================] - 0s 7ms/step - loss: 16.6635\n",
            "Epoch 110/200\n",
            "6/6 [==============================] - 0s 7ms/step - loss: 14.0195\n",
            "Epoch 111/200\n",
            "6/6 [==============================] - 0s 7ms/step - loss: 8.9790\n",
            "Epoch 112/200\n",
            "6/6 [==============================] - 0s 6ms/step - loss: 10.2982\n",
            "Epoch 113/200\n",
            "6/6 [==============================] - 0s 6ms/step - loss: 6.8204\n",
            "Epoch 114/200\n",
            "6/6 [==============================] - 0s 7ms/step - loss: 9.4907\n",
            "Epoch 115/200\n",
            "6/6 [==============================] - 0s 6ms/step - loss: 7.1165\n",
            "Epoch 116/200\n",
            "6/6 [==============================] - 0s 6ms/step - loss: 8.8693\n",
            "Epoch 117/200\n",
            "6/6 [==============================] - 0s 6ms/step - loss: 7.7124\n",
            "Epoch 118/200\n",
            "6/6 [==============================] - 0s 6ms/step - loss: 7.4782\n",
            "Epoch 119/200\n",
            "6/6 [==============================] - 0s 6ms/step - loss: 9.5172\n",
            "Epoch 120/200\n",
            "6/6 [==============================] - 0s 6ms/step - loss: 7.3838\n",
            "Epoch 121/200\n",
            "6/6 [==============================] - 0s 7ms/step - loss: 5.4144\n",
            "Epoch 122/200\n",
            "6/6 [==============================] - 0s 6ms/step - loss: 8.0462\n",
            "Epoch 123/200\n",
            "6/6 [==============================] - 0s 8ms/step - loss: 7.3735\n",
            "Epoch 124/200\n",
            "6/6 [==============================] - 0s 6ms/step - loss: 7.0195\n",
            "Epoch 125/200\n",
            "6/6 [==============================] - 0s 6ms/step - loss: 7.9016\n",
            "Epoch 126/200\n",
            "6/6 [==============================] - 0s 6ms/step - loss: 7.2399\n",
            "Epoch 127/200\n",
            "6/6 [==============================] - 0s 6ms/step - loss: 5.2415\n",
            "Epoch 128/200\n",
            "6/6 [==============================] - 0s 6ms/step - loss: 5.5482\n",
            "Epoch 129/200\n",
            "6/6 [==============================] - 0s 6ms/step - loss: 5.2068\n",
            "Epoch 130/200\n",
            "6/6 [==============================] - 0s 7ms/step - loss: 5.0097\n",
            "Epoch 131/200\n",
            "6/6 [==============================] - 0s 6ms/step - loss: 5.2135\n",
            "Epoch 132/200\n",
            "6/6 [==============================] - 0s 6ms/step - loss: 5.4120\n",
            "Epoch 133/200\n",
            "6/6 [==============================] - 0s 6ms/step - loss: 5.6263\n",
            "Epoch 134/200\n",
            "6/6 [==============================] - 0s 7ms/step - loss: 6.1085\n",
            "Epoch 135/200\n",
            "6/6 [==============================] - 0s 7ms/step - loss: 6.4046\n",
            "Epoch 136/200\n",
            "6/6 [==============================] - 0s 6ms/step - loss: 6.8302\n",
            "Epoch 137/200\n",
            "6/6 [==============================] - 0s 6ms/step - loss: 5.4309\n",
            "Epoch 138/200\n",
            "6/6 [==============================] - 0s 6ms/step - loss: 6.8893\n",
            "Epoch 139/200\n",
            "6/6 [==============================] - 0s 6ms/step - loss: 6.9950\n",
            "Epoch 140/200\n",
            "6/6 [==============================] - 0s 6ms/step - loss: 5.7118\n",
            "Epoch 141/200\n",
            "6/6 [==============================] - 0s 6ms/step - loss: 6.5433\n",
            "Epoch 142/200\n",
            "6/6 [==============================] - 0s 6ms/step - loss: 8.2444\n",
            "Epoch 143/200\n",
            "6/6 [==============================] - 0s 6ms/step - loss: 8.5378\n",
            "Epoch 144/200\n",
            "6/6 [==============================] - 0s 6ms/step - loss: 5.2274\n",
            "Epoch 145/200\n",
            "6/6 [==============================] - 0s 6ms/step - loss: 5.5857\n",
            "Epoch 146/200\n",
            "6/6 [==============================] - 0s 6ms/step - loss: 5.6234\n",
            "Epoch 147/200\n",
            "6/6 [==============================] - 0s 9ms/step - loss: 6.3902\n",
            "Epoch 148/200\n",
            "6/6 [==============================] - 0s 6ms/step - loss: 6.2791\n",
            "Epoch 149/200\n",
            "6/6 [==============================] - 0s 6ms/step - loss: 6.4820\n",
            "Epoch 150/200\n",
            "6/6 [==============================] - 0s 8ms/step - loss: 5.3752\n"
          ]
        }
      ],
      "source": [
        "# Implementing early stopping as a regularization technique\n",
        "early_stopping = EarlyStopping(monitor='loss', patience=20, restore_best_weights=True)\n",
        "\n",
        "# Train the model\n",
        "history_rnn = rnn.fit(\n",
        "    X_train_scaled, y_train,\n",
        "    epochs=200,\n",
        "    batch_size=4,\n",
        "    callbacks=[early_stopping]\n",
        ")"
      ]
    },
    {
      "cell_type": "code",
      "execution_count": 72,
      "metadata": {
        "id": "ucZ5eYV9CdRX",
        "colab": {
          "base_uri": "https://localhost:8080/"
        },
        "outputId": "35a0d45e-e6e0-4074-e6f3-2b47986d8dd7"
      },
      "outputs": [
        {
          "output_type": "stream",
          "name": "stdout",
          "text": [
            "1/1 [==============================] - 0s 176ms/step\n"
          ]
        }
      ],
      "source": [
        "# Make predictions\n",
        "y_pred_rnn = rnn.predict(X_test_scaled)\n",
        "\n",
        "# Normalize to sum to 100\n",
        "y_pred_rnn = (y_pred_rnn / np.sum(y_pred_rnn, axis=1, keepdims=True)) * 100"
      ]
    },
    {
      "cell_type": "code",
      "execution_count": 73,
      "metadata": {
        "id": "FbeFUCkPJRaF",
        "colab": {
          "base_uri": "https://localhost:8080/"
        },
        "outputId": "6330776c-0392-4015-f977-80be3ef1ea41"
      },
      "outputs": [
        {
          "output_type": "stream",
          "name": "stdout",
          "text": [
            "[100. 100.]\n"
          ]
        }
      ],
      "source": [
        "print(np.sum(y_pred_rnn, axis=1))  # Checking if output ratios add up to 100 as in original y set"
      ]
    },
    {
      "cell_type": "code",
      "execution_count": 74,
      "metadata": {
        "id": "jugViS6pIeNt",
        "colab": {
          "base_uri": "https://localhost:8080/"
        },
        "outputId": "a330232c-bf01-4a3e-eb59-0870d54f11d1"
      },
      "outputs": [
        {
          "output_type": "stream",
          "name": "stdout",
          "text": [
            "[[24.14699    1.8404167 61.985153   4.8396435  1.9930825  5.1947184]\n",
            " [24.145924   1.8401302 61.985577   4.8401446  1.993435   5.194788 ]]\n"
          ]
        }
      ],
      "source": [
        "# Print predictions\n",
        "print(y_pred_rnn)"
      ]
    },
    {
      "cell_type": "code",
      "source": [
        "# Print ground truth data\n",
        "print(y_test)"
      ],
      "metadata": {
        "id": "C5SS_g-ZeUvo",
        "colab": {
          "base_uri": "https://localhost:8080/"
        },
        "outputId": "807dea1f-683f-4458-a5c1-5767a28c1622"
      },
      "execution_count": 75,
      "outputs": [
        {
          "output_type": "stream",
          "name": "stdout",
          "text": [
            "          EUR       RMB        USD       GBP       CAD       JPY\n",
            "23  21.595893  2.769549  62.034031  5.194131  2.531305  5.875091\n",
            "24  21.264843  2.440609  62.281976  5.186331  2.759800  6.066440\n"
          ]
        }
      ]
    },
    {
      "cell_type": "code",
      "source": [
        "# Plot training & validation loss values\n",
        "plt.figure(figsize=(8, 4))\n",
        "plt.plot(history_rnn.history['loss'], label='Train Loss')\n",
        "plt.title('RNN Model Loss')\n",
        "plt.xlabel('Epoch')\n",
        "plt.ylabel('Loss (MSE)')\n",
        "plt.legend()\n",
        "plt.grid(True)\n",
        "plt.show()"
      ],
      "metadata": {
        "id": "nMILdO6-VwsM",
        "colab": {
          "base_uri": "https://localhost:8080/",
          "height": 0
        },
        "outputId": "eb837935-db3a-4677-aaac-578c73d94478"
      },
      "execution_count": 76,
      "outputs": [
        {
          "output_type": "display_data",
          "data": {
            "text/plain": [
              "<Figure size 800x400 with 1 Axes>"
            ],
            "image/png": "[encoded data removed]"
          },
          "metadata": {}
        }
      ]
    },
    {
      "cell_type": "code",
      "source": [
        "# Currency values comparison (USD, EUR, и т.д.)\n",
        "currencies = y_test.columns\n",
        "plt.figure(figsize=(9, 6))\n",
        "for i, currency in enumerate(currencies):\n",
        "    plt.subplot(2, 3, i+1)\n",
        "    plt.plot(y_test[currency].values, label='True')\n",
        "    plt.plot(y_pred_rnn[:, i], label='Predicted')\n",
        "    plt.title(currency)\n",
        "    plt.legend()\n",
        "    plt.grid(True)\n",
        "plt.tight_layout()\n",
        "plt.show()"
      ],
      "metadata": {
        "id": "AUl4RaBAWgvp",
        "colab": {
          "base_uri": "https://localhost:8080/",
          "height": 0
        },
        "outputId": "f68cdb14-1fe3-4ab8-f309-9843e6f5e8f7"
      },
      "execution_count": 77,
      "outputs": [
        {
          "output_type": "display_data",
          "data": {
            "text/plain": [
              "<Figure size 900x600 with 6 Axes>"
            ],
            "image/png": "[encoded data removed]"
          },
          "metadata": {}
        }
      ]
    },
    {
      "cell_type": "markdown",
      "metadata": {
        "id": "G0ayvx6c7heG"
      },
      "source": [
        "## 4.6 Long Short-Term Memory (LSTM)"
      ]
    },
    {
      "cell_type": "code",
      "execution_count": 78,
      "metadata": {
        "id": "dtsPsWLz7ok1"
      },
      "outputs": [],
      "source": [
        "from tensorflow.keras.layers import LSTM\n",
        "\n",
        "# Define LSTM model\n",
        "lstm = Sequential([\n",
        "    LSTM(64, input_shape=(25, 1), return_sequences=False),\n",
        "    Dropout(0.2),\n",
        "    Dense(32, activation='relu'),\n",
        "    Dense(6, activation='linear')  # 6 outputs: currency weights\n",
        "])"
      ]
    },
    {
      "cell_type": "code",
      "source": [
        "# Compile the model\n",
        "lstm.compile(optimizer=Adam(learning_rate=0.001), loss='mse')\n",
        "\n",
        "lstm.summary()"
      ],
      "metadata": {
        "id": "cXmQdxCslfMv",
        "colab": {
          "base_uri": "https://localhost:8080/"
        },
        "outputId": "e1cea7f6-90d2-4715-a62b-cd277356e6be"
      },
      "execution_count": 79,
      "outputs": [
        {
          "output_type": "stream",
          "name": "stdout",
          "text": [
            "Model: \"sequential_3\"\n",
            "_________________________________________________________________\n",
            " Layer (type)                Output Shape              Param #   \n",
            "=================================================================\n",
            " lstm (LSTM)                 (None, 64)                16896     \n",
            "                                                                 \n",
            " dropout_3 (Dropout)         (None, 64)                0         \n",
            "                                                                 \n",
            " dense_7 (Dense)             (None, 32)                2080      \n",
            "                                                                 \n",
            " dense_8 (Dense)             (None, 6)                 198       \n",
            "                                                                 \n",
            "=================================================================\n",
            "Total params: 19174 (74.90 KB)\n",
            "Trainable params: 19174 (74.90 KB)\n",
            "Non-trainable params: 0 (0.00 Byte)\n",
            "_________________________________________________________________\n"
          ]
        }
      ]
    },
    {
      "cell_type": "code",
      "source": [
        "# Implementing early stopping as a regularization technique\n",
        "early_stopping = EarlyStopping(monitor='loss', patience=20, restore_best_weights=True)\n",
        "\n",
        "# Train\n",
        "history_lstm = lstm.fit(\n",
        "    X_train_scaled, y_train,\n",
        "    epochs=200,\n",
        "    batch_size=4,\n",
        "    callbacks=[early_stopping]\n",
        ")"
      ],
      "metadata": {
        "collapsed": true,
        "id": "TLCw8DQzQrqV",
        "colab": {
          "base_uri": "https://localhost:8080/"
        },
        "outputId": "b340fc7f-4ad3-4759-b082-acaed5a27b79"
      },
      "execution_count": 80,
      "outputs": [
        {
          "output_type": "stream",
          "name": "stdout",
          "text": [
            "Epoch 1/200\n",
            "6/6 [==============================] - 3s 11ms/step - loss: 811.8462\n",
            "Epoch 2/200\n",
            "6/6 [==============================] - 0s 11ms/step - loss: 809.3653\n",
            "Epoch 3/200\n",
            "6/6 [==============================] - 0s 15ms/step - loss: 806.7708\n",
            "Epoch 4/200\n",
            "6/6 [==============================] - 0s 14ms/step - loss: 801.4771\n",
            "Epoch 5/200\n",
            "6/6 [==============================] - 0s 11ms/step - loss: 782.5480\n",
            "Epoch 6/200\n",
            "6/6 [==============================] - 0s 10ms/step - loss: 714.4261\n",
            "Epoch 7/200\n",
            "6/6 [==============================] - 0s 10ms/step - loss: 631.1777\n",
            "Epoch 8/200\n",
            "6/6 [==============================] - 0s 11ms/step - loss: 561.9303\n",
            "Epoch 9/200\n",
            "6/6 [==============================] - 0s 10ms/step - loss: 489.0717\n",
            "Epoch 10/200\n",
            "6/6 [==============================] - 0s 13ms/step - loss: 439.2419\n",
            "Epoch 11/200\n",
            "6/6 [==============================] - 0s 10ms/step - loss: 372.5962\n",
            "Epoch 12/200\n",
            "6/6 [==============================] - 0s 12ms/step - loss: 310.0190\n",
            "Epoch 13/200\n",
            "6/6 [==============================] - 0s 11ms/step - loss: 266.1250\n",
            "Epoch 14/200\n",
            "6/6 [==============================] - 0s 10ms/step - loss: 203.9874\n",
            "Epoch 15/200\n",
            "6/6 [==============================] - 0s 10ms/step - loss: 166.7491\n",
            "Epoch 16/200\n",
            "6/6 [==============================] - 0s 10ms/step - loss: 136.8824\n",
            "Epoch 17/200\n",
            "6/6 [==============================] - 0s 11ms/step - loss: 106.5347\n",
            "Epoch 18/200\n",
            "6/6 [==============================] - 0s 10ms/step - loss: 73.7088\n",
            "Epoch 19/200\n",
            "6/6 [==============================] - 0s 10ms/step - loss: 55.0962\n",
            "Epoch 20/200\n",
            "6/6 [==============================] - 0s 10ms/step - loss: 45.5429\n",
            "Epoch 21/200\n",
            "6/6 [==============================] - 0s 10ms/step - loss: 30.2437\n",
            "Epoch 22/200\n",
            "6/6 [==============================] - 0s 10ms/step - loss: 19.9890\n",
            "Epoch 23/200\n",
            "6/6 [==============================] - 0s 10ms/step - loss: 13.3112\n",
            "Epoch 24/200\n",
            "6/6 [==============================] - 0s 10ms/step - loss: 9.5127\n",
            "Epoch 25/200\n",
            "6/6 [==============================] - 0s 10ms/step - loss: 10.0588\n",
            "Epoch 26/200\n",
            "6/6 [==============================] - 0s 13ms/step - loss: 6.9943\n",
            "Epoch 27/200\n",
            "6/6 [==============================] - 0s 12ms/step - loss: 6.5827\n",
            "Epoch 28/200\n",
            "6/6 [==============================] - 0s 11ms/step - loss: 5.5987\n",
            "Epoch 29/200\n",
            "6/6 [==============================] - 0s 10ms/step - loss: 6.7153\n",
            "Epoch 30/200\n",
            "6/6 [==============================] - 0s 10ms/step - loss: 8.2416\n",
            "Epoch 31/200\n",
            "6/6 [==============================] - 0s 10ms/step - loss: 5.7816\n",
            "Epoch 32/200\n",
            "6/6 [==============================] - 0s 11ms/step - loss: 7.7730\n",
            "Epoch 33/200\n",
            "6/6 [==============================] - 0s 11ms/step - loss: 5.7118\n",
            "Epoch 34/200\n",
            "6/6 [==============================] - 0s 10ms/step - loss: 7.7814\n",
            "Epoch 35/200\n",
            "6/6 [==============================] - 0s 10ms/step - loss: 5.1532\n",
            "Epoch 36/200\n",
            "6/6 [==============================] - 0s 10ms/step - loss: 5.5336\n",
            "Epoch 37/200\n",
            "6/6 [==============================] - 0s 10ms/step - loss: 7.4372\n",
            "Epoch 38/200\n",
            "6/6 [==============================] - 0s 10ms/step - loss: 7.2918\n",
            "Epoch 39/200\n",
            "6/6 [==============================] - 0s 10ms/step - loss: 7.0970\n",
            "Epoch 40/200\n",
            "6/6 [==============================] - 0s 10ms/step - loss: 6.3148\n",
            "Epoch 41/200\n",
            "6/6 [==============================] - 0s 15ms/step - loss: 6.5472\n",
            "Epoch 42/200\n",
            "6/6 [==============================] - 0s 11ms/step - loss: 7.6891\n",
            "Epoch 43/200\n",
            "6/6 [==============================] - 0s 12ms/step - loss: 5.7990\n",
            "Epoch 44/200\n",
            "6/6 [==============================] - 0s 11ms/step - loss: 7.6096\n",
            "Epoch 45/200\n",
            "6/6 [==============================] - 0s 10ms/step - loss: 5.2751\n",
            "Epoch 46/200\n",
            "6/6 [==============================] - 0s 10ms/step - loss: 7.3829\n",
            "Epoch 47/200\n",
            "6/6 [==============================] - 0s 11ms/step - loss: 6.8229\n",
            "Epoch 48/200\n",
            "6/6 [==============================] - 0s 10ms/step - loss: 4.5969\n",
            "Epoch 49/200\n",
            "6/6 [==============================] - 0s 10ms/step - loss: 5.4363\n",
            "Epoch 50/200\n",
            "6/6 [==============================] - 0s 10ms/step - loss: 5.3729\n",
            "Epoch 51/200\n",
            "6/6 [==============================] - 0s 10ms/step - loss: 5.7515\n",
            "Epoch 52/200\n",
            "6/6 [==============================] - 0s 11ms/step - loss: 5.3246\n",
            "Epoch 53/200\n",
            "6/6 [==============================] - 0s 10ms/step - loss: 8.0021\n",
            "Epoch 54/200\n",
            "6/6 [==============================] - 0s 10ms/step - loss: 5.4837\n",
            "Epoch 55/200\n",
            "6/6 [==============================] - 0s 10ms/step - loss: 6.4122\n",
            "Epoch 56/200\n",
            "6/6 [==============================] - 0s 15ms/step - loss: 7.8235\n",
            "Epoch 57/200\n",
            "6/6 [==============================] - 0s 11ms/step - loss: 5.6935\n",
            "Epoch 58/200\n",
            "6/6 [==============================] - 0s 11ms/step - loss: 5.3214\n",
            "Epoch 59/200\n",
            "6/6 [==============================] - 0s 12ms/step - loss: 5.6420\n",
            "Epoch 60/200\n",
            "6/6 [==============================] - 0s 11ms/step - loss: 5.7059\n",
            "Epoch 61/200\n",
            "6/6 [==============================] - 0s 11ms/step - loss: 4.6705\n",
            "Epoch 62/200\n",
            "6/6 [==============================] - 0s 10ms/step - loss: 5.9624\n",
            "Epoch 63/200\n",
            "6/6 [==============================] - 0s 11ms/step - loss: 5.8976\n",
            "Epoch 64/200\n",
            "6/6 [==============================] - 0s 11ms/step - loss: 6.2342\n",
            "Epoch 65/200\n",
            "6/6 [==============================] - 0s 10ms/step - loss: 6.6927\n",
            "Epoch 66/200\n",
            "6/6 [==============================] - 0s 10ms/step - loss: 7.1197\n",
            "Epoch 67/200\n",
            "6/6 [==============================] - 0s 10ms/step - loss: 5.0371\n",
            "Epoch 68/200\n",
            "6/6 [==============================] - 0s 11ms/step - loss: 5.5208\n"
          ]
        }
      ]
    },
    {
      "cell_type": "code",
      "source": [
        "# Make predictions\n",
        "y_pred_lstm = lstm.predict(X_test_scaled)\n",
        "\n",
        "# Normalize predictions to sum to 100\n",
        "y_pred_lstm = np.array([pred / np.sum(pred) * 100 for pred in y_pred_lstm])"
      ],
      "metadata": {
        "id": "fezhEePOQs3H",
        "colab": {
          "base_uri": "https://localhost:8080/"
        },
        "outputId": "ba781601-453a-46b9-93a0-abe0bf3e6fbf"
      },
      "execution_count": 81,
      "outputs": [
        {
          "output_type": "stream",
          "name": "stdout",
          "text": [
            "1/1 [==============================] - 1s 501ms/step\n"
          ]
        }
      ]
    },
    {
      "cell_type": "code",
      "execution_count": 82,
      "metadata": {
        "id": "oTNAeKs5JUDq",
        "colab": {
          "base_uri": "https://localhost:8080/"
        },
        "outputId": "8c334d27-accb-48cb-ed6c-1e175f186d7e"
      },
      "outputs": [
        {
          "output_type": "stream",
          "name": "stdout",
          "text": [
            "[ 99.99999 100.     ]\n"
          ]
        }
      ],
      "source": [
        "print(np.sum(y_pred_lstm, axis=1))  # Checking if output ratios add up to 100 as in original y set"
      ]
    },
    {
      "cell_type": "code",
      "execution_count": 83,
      "metadata": {
        "id": "MnqsTkrHIgSs",
        "colab": {
          "base_uri": "https://localhost:8080/"
        },
        "outputId": "60559d4f-c462-4c15-be8e-b0d80bf0ba75"
      },
      "outputs": [
        {
          "output_type": "stream",
          "name": "stdout",
          "text": [
            "[[22.719507   1.6097324 65.12489    4.0944986  1.7922361  4.659127 ]\n",
            " [22.717947   1.6196793 65.12228    4.0865426  1.796614   4.656944 ]]\n"
          ]
        }
      ],
      "source": [
        "# Print predictions\n",
        "print(y_pred_lstm)"
      ]
    },
    {
      "cell_type": "code",
      "source": [
        "# Print ground truth data\n",
        "print(y_test)"
      ],
      "metadata": {
        "id": "WGwhNIAAjH3Z",
        "colab": {
          "base_uri": "https://localhost:8080/"
        },
        "outputId": "811eaeba-8767-4c8f-f97c-bd84a1209cf9"
      },
      "execution_count": 84,
      "outputs": [
        {
          "output_type": "stream",
          "name": "stdout",
          "text": [
            "          EUR       RMB        USD       GBP       CAD       JPY\n",
            "23  21.595893  2.769549  62.034031  5.194131  2.531305  5.875091\n",
            "24  21.264843  2.440609  62.281976  5.186331  2.759800  6.066440\n"
          ]
        }
      ]
    },
    {
      "cell_type": "code",
      "source": [
        "# Plot training & validation loss values\n",
        "plt.figure(figsize=(8, 4))\n",
        "plt.plot(history_lstm.history['loss'], label='Train Loss', c='r')\n",
        "plt.title('LSTM Model Loss')\n",
        "plt.xlabel('Epoch')\n",
        "plt.ylabel('Loss (MSE)')\n",
        "plt.legend()\n",
        "plt.grid(True)\n",
        "plt.show()"
      ],
      "metadata": {
        "id": "egZ7oAvQjjRK",
        "colab": {
          "base_uri": "https://localhost:8080/",
          "height": 0
        },
        "outputId": "c2afb164-717b-44b2-fd08-6b58de6d3b1a"
      },
      "execution_count": 85,
      "outputs": [
        {
          "output_type": "display_data",
          "data": {
            "text/plain": [
              "<Figure size 800x400 with 1 Axes>"
            ],
            "image/png": "[encoded data removed]"
          },
          "metadata": {}
        }
      ]
    },
    {
      "cell_type": "code",
      "source": [
        "# Currency values comparison (USD, EUR, и т.д.)\n",
        "currencies = y_test.columns\n",
        "plt.figure(figsize=(9, 6))\n",
        "for i, currency in enumerate(currencies):\n",
        "    plt.subplot(2, 3, i+1)\n",
        "    plt.plot(y_test[currency].values, label='True')\n",
        "    plt.plot(y_pred_lstm[:, i], label='Predicted')\n",
        "    plt.title(currency)\n",
        "    plt.legend()\n",
        "    plt.grid(True)\n",
        "plt.tight_layout()\n",
        "plt.show()"
      ],
      "metadata": {
        "id": "mZX_XNm1jjTw",
        "colab": {
          "base_uri": "https://localhost:8080/",
          "height": 0
        },
        "outputId": "9ebb7dab-995c-4944-e6a2-a8d89708b3be"
      },
      "execution_count": 86,
      "outputs": [
        {
          "output_type": "display_data",
          "data": {
            "text/plain": [
              "<Figure size 900x600 with 6 Axes>"
            ],
            "image/png": "[encoded data removed]"
          },
          "metadata": {}
        }
      ]
    },
    {
      "cell_type": "markdown",
      "metadata": {
        "id": "Hn6zinTC1EYT"
      },
      "source": [
        "# 5. Metrics"
      ]
    },
    {
      "cell_type": "markdown",
      "metadata": {
        "id": "sUOb_kNCnHUj"
      },
      "source": [
        "- Kullback-Leibler Divergence: Lower is better\n",
        "- Jensen-Shannon Divergence: Closer to 0 - better\n",
        "- Cosine Similarity: Closer to 1 - better"
      ]
    },
    {
      "cell_type": "code",
      "execution_count": 87,
      "metadata": {
        "id": "2oJy9Frm1Daf"
      },
      "outputs": [],
      "source": [
        "# Computer metrics\n",
        "from sklearn.metrics import mean_squared_error\n",
        "\n",
        "def compute_metrics(y_true, y_pred):\n",
        "    y_true = np.array(y_true, dtype=float).flatten().copy()\n",
        "    y_pred = np.array(y_pred, dtype=float).flatten()\n",
        "\n",
        "    # Normalize\n",
        "    y_true /= y_true.sum()\n",
        "    y_pred /= y_pred.sum()\n",
        "\n",
        "    return {\n",
        "        \"cosine_similarity\": cosine_similarity(y_true.reshape(1, -1), y_pred.reshape(1, -1))[0][0],\n",
        "        \"kl_div\": sum(rel_entr(y_true, y_pred)),\n",
        "        \"js_div\": jensenshannon(y_true, y_pred),\n",
        "        \"mse\": mean_squared_error(y_true, y_pred)\n",
        "    }\n"
      ]
    },
    {
      "cell_type": "code",
      "execution_count": 88,
      "metadata": {
        "id": "6VtMTibCE5oi"
      },
      "outputs": [],
      "source": [
        "metrics = {\n",
        "    \"Linear Regression\": compute_metrics(y_test, y_pred_linreg),\n",
        "    \"Random Forest Regressor\": compute_metrics(y_test, y_pred_rfr),\n",
        "    \"Gradient Boosting Regressor\": compute_metrics(y_test, y_pred_gbr),\n",
        "    \"Multi-Layer Perceptron\": compute_metrics(y_test, y_pred_mlp),\n",
        "    \"Recurrent Neural Network\": compute_metrics(y_test, y_pred_rnn),\n",
        "    \"Long Short-Term Memory\": compute_metrics(y_test, y_pred_lstm),\n",
        "}"
      ]
    },
    {
      "cell_type": "code",
      "execution_count": 89,
      "metadata": {
        "id": "IV_mwPpiE-YN",
        "colab": {
          "base_uri": "https://localhost:8080/"
        },
        "outputId": "93b31a67-ad54-459b-b4b5-61a0e295edff"
      },
      "outputs": [
        {
          "output_type": "stream",
          "name": "stdout",
          "text": [
            "                             cosine_similarity    kl_div    js_div       mse\n",
            "Linear Regression                     0.931145  0.091579  0.151324  0.002453\n",
            "Random Forest Regressor               0.998963  0.008885  0.045668  0.000102\n",
            "Gradient Boosting Regressor           0.999157  0.004198  0.032007  0.000070\n",
            "Multi-Layer Perceptron                0.997300  0.039531  0.088434  0.000140\n",
            "Recurrent Neural Network              0.999005  0.004732  0.033934  0.000038\n",
            "Long Short-Term Memory                0.999304  0.008527  0.044900  0.000063\n"
          ]
        }
      ],
      "source": [
        "model_metrics = pd.DataFrame(metrics).T  # Transpose to get models as rows\n",
        "print(model_metrics)"
      ]
    },
    {
      "cell_type": "markdown",
      "metadata": {
        "id": "RRnm1Reovwq_"
      },
      "source": [
        "# 6. Exporting the model"
      ]
    },
    {
      "cell_type": "code",
      "source": [
        "import joblib\n",
        "\n",
        "joblib.dump(lin_reg, \"linreg_model.pkl\")\n",
        "joblib.dump(rfr, \"rfr_model.pkl\")\n",
        "joblib.dump(multi_output_gbr, \"gbr_model.pkl\")\n",
        "\n",
        "print(\"Models successfully exported to /content/models\")"
      ],
      "metadata": {
        "id": "5oztKTsGIpPR",
        "colab": {
          "base_uri": "https://localhost:8080/"
        },
        "outputId": "322fe0b6-027d-4906-9a2c-621a9bb4d7a0"
      },
      "execution_count": 90,
      "outputs": [
        {
          "output_type": "stream",
          "name": "stdout",
          "text": [
            "Models successfully exported to /content/models\n"
          ]
        }
      ]
    },
    {
      "cell_type": "code",
      "execution_count": 91,
      "metadata": {
        "collapsed": true,
        "id": "FFnJNh-vxKCZ"
      },
      "outputs": [],
      "source": [
        "# Export the Keras model to TensorFlow.js format\n",
        "import tensorflowjs as tfjs"
      ]
    },
    {
      "cell_type": "code",
      "execution_count": 92,
      "metadata": {
        "id": "bNAoCjSGxzG2",
        "colab": {
          "base_uri": "https://localhost:8080/"
        },
        "cellView": "form",
        "collapsed": true,
        "outputId": "b9a0d66a-9320-40b3-96a6-8c0e50809a3f"
      },
      "outputs": [
        {
          "output_type": "stream",
          "name": "stderr",
          "text": [
            "/usr/local/lib/python3.11/dist-packages/keras/src/engine/training.py:3103: UserWarning: You are saving your model as an HDF5 file via `model.save()`. This file format is considered legacy. We recommend using instead the native Keras format, e.g. `model.save('my_model.keras')`.\n",
            "  saving_api.save_model(\n"
          ]
        },
        {
          "output_type": "stream",
          "name": "stdout",
          "text": [
            "Models successfully exported to /content/models\n"
          ]
        }
      ],
      "source": [
        "# @title\n",
        "# Save Multi-Layer Perceptron\n",
        "tfjs.converters.save_keras_model(mlp, \"/content/models/mlp\")\n",
        "\n",
        "# Save Recurrent Neural Network\n",
        "tfjs.converters.save_keras_model(rnn, \"/content/models/rnn\")\n",
        "\n",
        "# Save LSTM\n",
        "tfjs.converters.save_keras_model(lstm, \"/content/models/lstm\")\n",
        "\n",
        "print(\"Models successfully exported to /content/models\")"
      ]
    }
  ],
  "metadata": {
    "colab": {
      "provenance": [],
      "collapsed_sections": [
        "GiGzmI7Smvsv",
        "eLnIBPRoQrCp",
        "TaeOLW4sRoi7",
        "cVNbmn9a7d40",
        "RRnm1Reovwq_"
      ]
    },
    "kernelspec": {
      "display_name": "Python 3",
      "name": "python3"
    },
    "language_info": {
      "name": "python"
    }
  },
  "nbformat": 4,
  "nbformat_minor": 0
}